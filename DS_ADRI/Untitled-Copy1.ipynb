{
 "cells": [
  {
   "cell_type": "markdown",
   "id": "c012c08e",
   "metadata": {},
   "source": [
    "# Intro to Python\n",
    "***"
   ]
  },
  {
   "cell_type": "markdown",
   "id": "6e2b5794",
   "metadata": {},
   "source": [
    "## Print"
   ]
  },
  {
   "cell_type": "code",
   "execution_count": 16,
   "id": "f0150265",
   "metadata": {},
   "outputs": [
    {
     "name": "stdout",
     "output_type": "stream",
     "text": [
      "Hola mundo\n"
     ]
    }
   ],
   "source": [
    "print('Hola mundo')"
   ]
  },
  {
   "cell_type": "code",
   "execution_count": 3,
   "id": "773d058c",
   "metadata": {},
   "outputs": [
    {
     "name": "stdout",
     "output_type": "stream",
     "text": [
      "Hola Mundo\n"
     ]
    }
   ],
   "source": [
    "text = 'Hola Mundo'\n",
    "print(text)"
   ]
  },
  {
   "cell_type": "code",
   "execution_count": 25,
   "id": "cf2c3a4b",
   "metadata": {},
   "outputs": [
    {
     "name": "stdout",
     "output_type": "stream",
     "text": [
      "Hello world, I amyears old\n"
     ]
    }
   ],
   "source": [
    "edad = 32\n",
    "frase = 'Hello world, I am'\n",
    "final_frase = 'years old'\n",
    "print(frase + final_frase)"
   ]
  },
  {
   "cell_type": "code",
   "execution_count": 8,
   "id": "e68a3497",
   "metadata": {},
   "outputs": [
    {
     "name": "stdout",
     "output_type": "stream",
     "text": [
      "Hello world, I am32years old\n"
     ]
    }
   ],
   "source": [
    "print(frase + str(edad) + final_frase)"
   ]
  },
  {
   "cell_type": "code",
   "execution_count": 10,
   "id": "b8473802",
   "metadata": {},
   "outputs": [
    {
     "name": "stdout",
     "output_type": "stream",
     "text": [
      "Hello \"world\", I am 32 years old\n"
     ]
    }
   ],
   "source": [
    "print(frase,str(edad),final_frase)"
   ]
  },
  {
   "cell_type": "code",
   "execution_count": 26,
   "id": "3b336c7f",
   "metadata": {},
   "outputs": [
    {
     "data": {
      "text/plain": [
       "'Hello world, I am 32 years old'"
      ]
     },
     "execution_count": 26,
     "metadata": {},
     "output_type": "execute_result"
    }
   ],
   "source": [
    "f_string = f'Hello world, I am {edad} years old'\n",
    "f_string"
   ]
  },
  {
   "cell_type": "code",
   "execution_count": 30,
   "id": "3d900480",
   "metadata": {},
   "outputs": [
    {
     "name": "stdout",
     "output_type": "stream",
     "text": [
      "Hello world, I am 32 years old\n"
     ]
    }
   ],
   "source": [
    "print('Hello world, I am {} years old'.format(edad))"
   ]
  },
  {
   "cell_type": "code",
   "execution_count": 15,
   "id": "ecfa5476",
   "metadata": {},
   "outputs": [
    {
     "data": {
      "text/plain": [
       "'holaholaholaholaholaholaholaholaholaholahola'"
      ]
     },
     "execution_count": 15,
     "metadata": {},
     "output_type": "execute_result"
    }
   ],
   "source": [
    "'hola' * 11"
   ]
  },
  {
   "cell_type": "code",
   "execution_count": 21,
   "id": "f642fe63",
   "metadata": {},
   "outputs": [
    {
     "name": "stdout",
     "output_type": "stream",
     "text": [
      "Temperature: 30 C\n",
      "==============================\n",
      "PSI: 50 bar\n",
      "==============================\n",
      "Height: 1.72m\n",
      "==============================\n",
      "Age: 32 years old\n"
     ]
    }
   ],
   "source": [
    "temp = 30\n",
    "psi = 50\n",
    "height = 1.72\n",
    "age = 32\n",
    "hr = '=' *30\n",
    "print(f'Temperature: {temp} C')\n",
    "print(hr)\n",
    "print(f'PSI: {psi} bar')\n",
    "print(hr)\n",
    "print(f'Height: {height}m')\n",
    "print(hr)\n",
    "print(f'Age: {age} years old')\n"
   ]
  },
  {
   "cell_type": "code",
   "execution_count": 23,
   "id": "f30d40d0",
   "metadata": {},
   "outputs": [
    {
     "name": "stdout",
     "output_type": "stream",
     "text": [
      "Temperature: 30 C\n",
      "==============================\n",
      "PSI: 50 bar\n",
      "==============================\n",
      "Height: 1.72m\n",
      "==============================\n",
      "Age: 32 years old\n",
      "==============================\n"
     ]
    }
   ],
   "source": [
    "temp = 30\n",
    "psi = 50\n",
    "height = 1.72\n",
    "age = 32\n",
    "hr = '=' *30\n",
    "print(f'Temperature: {temp} C\\n{hr}')\n",
    "print(f'PSI: {psi} bar\\n{hr}')\n",
    "print(f'Height: {height}m\\n{hr}')\n",
    "print(f'Age: {age} years old\\n{hr}')"
   ]
  },
  {
   "cell_type": "markdown",
   "id": "b5e2a3a8",
   "metadata": {},
   "source": [
    "*Hola mundo,*<br>**I am 32 years old**<br>\n",
    "**I am mexican**<br>**I like Pizzas**<br>\n",
    "**I have a dog**"
   ]
  },
  {
   "cell_type": "code",
   "execution_count": 33,
   "id": "defe31e4",
   "metadata": {},
   "outputs": [
    {
     "name": "stdout",
     "output_type": "stream",
     "text": [
      "Temperature:\n",
      "\t30 grades\n"
     ]
    }
   ],
   "source": [
    "text = 'Temperature:\\n\\t30 grades'\n",
    "print(text)"
   ]
  },
  {
   "cell_type": "code",
   "execution_count": 1,
   "id": "a49a4436",
   "metadata": {
    "scrolled": true
   },
   "outputs": [
    {
     "name": "stdout",
     "output_type": "stream",
     "text": [
      "Hola mundo,\n",
      "I am 32 years old\n",
      "I am Mexican\n",
      "I like pizzas\n",
      "I have a dog\n",
      "\n"
     ]
    }
   ],
   "source": [
    "text = '''Hola mundo,\n",
    "I am 32 years old\n",
    "I am Mexican\n",
    "I like pizzas\n",
    "I have a dog\n",
    "'''\n",
    "print(text)"
   ]
  },
  {
   "cell_type": "markdown",
   "id": "77113e89",
   "metadata": {},
   "source": [
    "## Inputs"
   ]
  },
  {
   "cell_type": "code",
   "execution_count": 95,
   "id": "170b7765",
   "metadata": {
    "scrolled": false
   },
   "outputs": [
    {
     "name": "stdout",
     "output_type": "stream",
     "text": [
      "**************************************************\n",
      "                 SUME CALCULATOR                  \n",
      "**************************************************\n",
      "This is a program to make a sume of two numbers!!!\n",
      "        please enter only numeric values:\n",
      "        \n",
      "                 enter a numer:\n",
      "                  34\n",
      "               enter other number:\n",
      "               34\n",
      "          ==============================          \n",
      "               Sume of 34 + 34 is:                \n",
      "                       68.0                       \n"
     ]
    }
   ],
   "source": [
    "space= 50\n",
    "print('*'*space)\n",
    "print('SUME CALCULATOR'.center(space))\n",
    "print('*'*space)\n",
    "print('This is a program to make a sume of two numbers!!!'.center(space))\n",
    "print('please enter only numeric values:\\n'.center(space))\n",
    "num1 = input('enter a numer:\\n'.center(space))\n",
    "num2 = input('enter other number:\\n'.center(space))\n",
    "print(f\"{'='*30}\".center(space))\n",
    "print(f'Sume of {num1} + {num2} is:'.center(space))\n",
    "print(f'{float(num1)+float(num2)}'.center(space))"
   ]
  },
  {
   "cell_type": "markdown",
   "id": "b1c46f8a",
   "metadata": {},
   "source": [
    "### Current directory "
   ]
  },
  {
   "cell_type": "code",
   "execution_count": 137,
   "id": "3ce192a3",
   "metadata": {},
   "outputs": [
    {
     "data": {
      "text/plain": [
       "'C:\\\\Users\\\\mo_si\\\\Documentos\\\\DS Chuy\\\\DS_ADRI'"
      ]
     },
     "execution_count": 137,
     "metadata": {},
     "output_type": "execute_result"
    }
   ],
   "source": [
    "%pwd"
   ]
  },
  {
   "cell_type": "markdown",
   "id": "2e2a6ea4",
   "metadata": {},
   "source": [
    "### Directory Files list"
   ]
  },
  {
   "cell_type": "code",
   "execution_count": 138,
   "id": "95f97b0d",
   "metadata": {},
   "outputs": [
    {
     "name": "stdout",
     "output_type": "stream",
     "text": [
      " El volumen de la unidad C es Reservado para el sistema\n",
      " El n£mero de serie del volumen es: 4C76-9FAE\n",
      "\n",
      " Directorio de C:\\Users\\mo_si\\Documentos\\DS Chuy\\DS_ADRI\n",
      "\n",
      "28/04/2023  17:29    <DIR>          .\n",
      "28/04/2023  17:29    <DIR>          ..\n",
      "28/04/2023  14:57    <DIR>          .ipynb_checkpoints\n",
      "28/04/2023  17:19    <DIR>          files\n",
      "28/04/2023  16:34               314 sume.py\n",
      "28/04/2023  14:57             9,742 Untitled.ipynb\n",
      "28/04/2023  16:19                 0 untitled.txt\n",
      "28/04/2023  17:29            29,079 Untitled-Copy1.ipynb\n",
      "               4 archivos         39,135 bytes\n",
      "               4 dirs  174,774,317,056 bytes libres\n"
     ]
    }
   ],
   "source": [
    "ls"
   ]
  },
  {
   "cell_type": "markdown",
   "id": "7db05e53",
   "metadata": {},
   "source": [
    "### Change and Return directory"
   ]
  },
  {
   "cell_type": "code",
   "execution_count": 159,
   "id": "37bd6436",
   "metadata": {},
   "outputs": [
    {
     "name": "stdout",
     "output_type": "stream",
     "text": [
      "[WinError 2] El sistema no puede encontrar el archivo especificado: 'files'\n",
      "C:\\Users\\mo_si\\Documentos\\DS Chuy\\DS_ADRI\\files\\files\n",
      " El volumen de la unidad C es Reservado para el sistema\n",
      " El n£mero de serie del volumen es: 4C76-9FAE\n",
      "\n",
      " Directorio de C:\\Users\\mo_si\\Documentos\\DS Chuy\\DS_ADRI\\files\\files\n",
      "\n",
      "28/04/2023  17:37    <DIR>          .\n",
      "28/04/2023  17:37    <DIR>          ..\n",
      "28/04/2023  17:37    <DIR>          files_lev2\n",
      "               0 archivos              0 bytes\n",
      "               3 dirs  174,762,639,360 bytes libres\n"
     ]
    }
   ],
   "source": [
    "%cd files\n",
    "%ls"
   ]
  },
  {
   "cell_type": "code",
   "execution_count": 161,
   "id": "79135ceb",
   "metadata": {},
   "outputs": [
    {
     "name": "stdout",
     "output_type": "stream",
     "text": [
      "C:\\Users\\mo_si\\Documentos\\DS Chuy\\DS_ADRI\n",
      " El volumen de la unidad C es Reservado para el sistema\n",
      " El n£mero de serie del volumen es: 4C76-9FAE\n",
      "\n",
      " Directorio de C:\\Users\\mo_si\\Documentos\\DS Chuy\\DS_ADRI\n",
      "\n",
      "28/04/2023  17:37    <DIR>          .\n",
      "28/04/2023  17:37    <DIR>          ..\n",
      "28/04/2023  14:57    <DIR>          .ipynb_checkpoints\n",
      "28/04/2023  17:35    <DIR>          files\n",
      "28/04/2023  16:34               314 sume.py\n",
      "28/04/2023  14:57             9,742 Untitled.ipynb\n",
      "28/04/2023  16:19                 0 untitled.txt\n",
      "28/04/2023  17:37            33,284 Untitled-Copy1.ipynb\n",
      "               4 archivos         43,340 bytes\n",
      "               4 dirs  174,762,639,360 bytes libres\n"
     ]
    }
   ],
   "source": [
    "%cd ..\n",
    "%ls"
   ]
  },
  {
   "cell_type": "markdown",
   "id": "d2a9c651",
   "metadata": {},
   "source": [
    "### Create a new folder"
   ]
  },
  {
   "cell_type": "code",
   "execution_count": 169,
   "id": "93f58522",
   "metadata": {},
   "outputs": [
    {
     "name": "stdout",
     "output_type": "stream",
     "text": [
      " El volumen de la unidad C es Reservado para el sistema\n",
      " El n£mero de serie del volumen es: 4C76-9FAE\n",
      "\n",
      " Directorio de C:\\Users\\mo_si\\Documentos\\DS Chuy\\DS_ADRI\n",
      "\n",
      "28/04/2023  17:59    <DIR>          .\n",
      "28/04/2023  17:59    <DIR>          ..\n",
      "28/04/2023  14:57    <DIR>          .ipynb_checkpoints\n",
      "28/04/2023  17:59    <DIR>          files\n",
      "28/04/2023  16:34               314 sume.py\n",
      "28/04/2023  14:57             9,742 Untitled.ipynb\n",
      "28/04/2023  16:19                 0 untitled.txt\n",
      "28/04/2023  17:49            35,317 Untitled-Copy1.ipynb\n",
      "               4 archivos         45,373 bytes\n",
      "               4 dirs  174,740,254,720 bytes libres\n"
     ]
    }
   ],
   "source": [
    "%mkdir files\n",
    "%pwd\n",
    "%ls"
   ]
  },
  {
   "cell_type": "code",
   "execution_count": 152,
   "id": "6f984ca9",
   "metadata": {},
   "outputs": [
    {
     "name": "stdout",
     "output_type": "stream",
     "text": [
      "C:\\Users\\mo_si\\Documentos\\DS Chuy\\DS_ADRI\\files\\files\n"
     ]
    },
    {
     "data": {
      "text/plain": [
       "'C:\\\\Users\\\\mo_si\\\\Documentos\\\\DS Chuy\\\\DS_ADRI\\\\files\\\\files'"
      ]
     },
     "execution_count": 152,
     "metadata": {},
     "output_type": "execute_result"
    }
   ],
   "source": [
    "# %cd files\n",
    "# %pwd\n",
    "# %mkdir files_lev2\n",
    "# %pwd"
   ]
  },
  {
   "cell_type": "markdown",
   "id": "20118145",
   "metadata": {},
   "source": [
    "### Delete a folder"
   ]
  },
  {
   "cell_type": "code",
   "execution_count": 163,
   "id": "438228fd",
   "metadata": {},
   "outputs": [
    {
     "name": "stderr",
     "output_type": "stream",
     "text": [
      "El directorio no est  vac¡o.\n"
     ]
    },
    {
     "name": "stdout",
     "output_type": "stream",
     "text": [
      " El volumen de la unidad C es Reservado para el sistema\n",
      " El n£mero de serie del volumen es: 4C76-9FAE\n",
      "\n",
      " Directorio de C:\\Users\\mo_si\\Documentos\\DS Chuy\\DS_ADRI\n",
      "\n",
      "28/04/2023  17:39    <DIR>          .\n",
      "28/04/2023  17:39    <DIR>          ..\n",
      "28/04/2023  14:57    <DIR>          .ipynb_checkpoints\n",
      "28/04/2023  17:35    <DIR>          files\n",
      "28/04/2023  16:34               314 sume.py\n",
      "28/04/2023  14:57             9,742 Untitled.ipynb\n",
      "28/04/2023  16:19                 0 untitled.txt\n",
      "28/04/2023  17:39            33,320 Untitled-Copy1.ipynb\n",
      "               4 archivos         43,376 bytes\n",
      "               4 dirs  174,761,222,144 bytes libres\n"
     ]
    }
   ],
   "source": [
    "%rmdir files\n",
    "%ls"
   ]
  },
  {
   "cell_type": "markdown",
   "id": "a8c0216b",
   "metadata": {},
   "source": [
    "### Save a file"
   ]
  },
  {
   "cell_type": "code",
   "execution_count": 170,
   "id": "aa0e37ff",
   "metadata": {},
   "outputs": [
    {
     "name": "stdout",
     "output_type": "stream",
     "text": [
      "Writing files/text.txt\n"
     ]
    }
   ],
   "source": [
    "%%writefile files/text.txt\n",
    "Hola este es un texto escrito\n",
    "en Jupyter"
   ]
  },
  {
   "cell_type": "code",
   "execution_count": 171,
   "id": "2e8bcabb",
   "metadata": {
    "scrolled": false
   },
   "outputs": [
    {
     "name": "stdout",
     "output_type": "stream",
     "text": [
      "Writing files/sume.py\n"
     ]
    }
   ],
   "source": [
    "%%writefile files/sume.py\n",
    "space= 50\n",
    "print('*'*space)\n",
    "print('SUME CALCULATOR'.center(space))\n",
    "print('*'*space)\n",
    "print('This is a program to make a sume of two numbers!!!'.center(space))\n",
    "print('please enter only numeric values:\\n'.center(space))\n",
    "num1 = input('enter a numer:\\n'.center(space))\n",
    "num2 = input('enter other number:\\n'.center(space))\n",
    "print(f\"{'='*30}\".center(space))\n",
    "print(f'Sume of {num1} + {num2} is:'.center(space))\n",
    "print(f'{float(num1)+float(num2)}'.center(space))"
   ]
  },
  {
   "cell_type": "markdown",
   "id": "3a7d5dab",
   "metadata": {},
   "source": [
    "### Run files"
   ]
  },
  {
   "cell_type": "code",
   "execution_count": 173,
   "id": "ebdb4419",
   "metadata": {},
   "outputs": [
    {
     "ename": "SyntaxError",
     "evalue": "invalid syntax (text.txt, line 1)",
     "output_type": "error",
     "traceback": [
      "\u001b[1;36m  File \u001b[1;32m~\\Documentos\\DS Chuy\\DS_ADRI\\files\\text.txt:1\u001b[1;36m\u001b[0m\n\u001b[1;33m    Hola este es un texto escrito\u001b[0m\n\u001b[1;37m         ^\u001b[0m\n\u001b[1;31mSyntaxError\u001b[0m\u001b[1;31m:\u001b[0m invalid syntax\n"
     ]
    }
   ],
   "source": [
    "%run files/text.txt"
   ]
  },
  {
   "cell_type": "code",
   "execution_count": 61,
   "id": "1eaf55a3",
   "metadata": {},
   "outputs": [
    {
     "name": "stdout",
     "output_type": "stream",
     "text": [
      "*******************************************************\n",
      "         SUME CALCULATOR\n",
      "*******************************************************\n",
      "\n",
      "This is a program to make a sume of two numbers!!!\n",
      "please enter only numeric values:\n",
      "\n",
      "enter a numer:\n",
      "34\n",
      "enter other number:\n",
      "23\n",
      "=======================================================\n",
      "Sume of 34 + 23 is:\n",
      "3423\n"
     ]
    }
   ],
   "source": [
    "%run sume.py"
   ]
  },
  {
   "cell_type": "markdown",
   "id": "0bba9a5e",
   "metadata": {},
   "source": [
    "## Magic commands in Jupyter\n"
   ]
  },
  {
   "cell_type": "markdown",
   "id": "7898623e",
   "metadata": {},
   "source": [
    "* **%run**: This command is used to run a Python file as if you were on the command line. Just type %run file.py in a code cell and hit enter.\n",
    "\n",
    "* **%time** and **%timeit**: These commands are used to measure the time it takes to execute a single line or a whole code cell. %time shows the execution time once, while %timeit shows the average time of multiple executions.\n",
    "\n",
    "%matplotlib inline: This command is used to enable visualization of plots directly in the Jupyter notebook.\n",
    "\n",
    "* **%pwd** and **%cd**: These commands are used to display the current working directory and change the working directory, respectively.\n",
    "\n",
    "* **!**: This symbol is used to execute shell commands from a code cell. For example, !ls will show the contents of the current directory you're working in.\n",
    "\n",
    "* **%reset**: This command is used** to reset the state of the Python interpreter. It's useful if you want to delete all variables and functions that have been defined previously.\n",
    "\n",
    "* **%debug**: This command is used to activate the interactive Python debugger in case of errors in the code.\n",
    "\n",
    "* **%load**: This command is used to load a Python file into a code cell. For example, %load file.py will load the contents of the file.py into the code cell.\n"
   ]
  },
  {
   "cell_type": "code",
   "execution_count": 13,
   "id": "5866a400",
   "metadata": {},
   "outputs": [
    {
     "name": "stdout",
     "output_type": "stream",
     "text": [
      "Variable   Type    Data/Info\n",
      "----------------------------\n",
      "int1       int     3\n",
      "text       str     Hola mundo,\\nI am 32 year<...>ke pizzas\\nI have a dog\\n\n"
     ]
    }
   ],
   "source": [
    "%whos"
   ]
  },
  {
   "cell_type": "code",
   "execution_count": 41,
   "id": "2fd6fc08",
   "metadata": {},
   "outputs": [
    {
     "name": "stdout",
     "output_type": "stream",
     "text": [
      "2\n"
     ]
    },
    {
     "ename": "NameError",
     "evalue": "name 'debugger' is not defined",
     "output_type": "error",
     "traceback": [
      "\u001b[1;31m---------------------------------------------------------------------------\u001b[0m",
      "\u001b[1;31mNameError\u001b[0m                                 Traceback (most recent call last)",
      "Cell \u001b[1;32mIn [41], line 4\u001b[0m\n\u001b[0;32m      2\u001b[0m \u001b[38;5;28;01mfor\u001b[39;00m i \u001b[38;5;129;01min\u001b[39;00m l:\n\u001b[0;32m      3\u001b[0m     \u001b[38;5;28mprint\u001b[39m(\u001b[38;5;241m1\u001b[39m\u001b[38;5;241m+\u001b[39mi)\n\u001b[1;32m----> 4\u001b[0m     \u001b[43mdebugger\u001b[49m\u001b[38;5;241m.\u001b[39mset_trace()\n",
      "\u001b[1;31mNameError\u001b[0m: name 'debugger' is not defined"
     ]
    }
   ],
   "source": [
    "l = [1,2,3,'l','r']\n",
    "for i in l:\n",
    "    print(1+i)\n",
    "    debugger.set_trace()"
   ]
  },
  {
   "cell_type": "markdown",
   "id": "8a118dc1",
   "metadata": {},
   "source": [
    "## Variables\n",
    "\n",
    "* No puede comenzar con un número.\n",
    "* No puede contener espacios.\n",
    "* No puede tener simbolos especiales (#á-¿?ñ)\n",
    "* Para crear un espacio podemos usar el símbolo \"_\""
   ]
  },
  {
   "cell_type": "markdown",
   "id": "9612a2ad",
   "metadata": {},
   "source": [
    "### Numeric variables\n",
    "\n",
    "* int\n",
    "* float"
   ]
  },
  {
   "cell_type": "code",
   "execution_count": 2,
   "id": "8644228f",
   "metadata": {},
   "outputs": [
    {
     "data": {
      "text/plain": [
       "int"
      ]
     },
     "execution_count": 2,
     "metadata": {},
     "output_type": "execute_result"
    }
   ],
   "source": [
    "int1 = 3\n",
    "type(int1)"
   ]
  },
  {
   "cell_type": "code",
   "execution_count": 40,
   "id": "f83f368e",
   "metadata": {},
   "outputs": [
    {
     "name": "stdout",
     "output_type": "stream",
     "text": [
      "La suma de 4 y 6 es 10.\n",
      "La resta de 4 y 6 es -2.\n",
      "La multiplicacion de 4 y 6 es 24.\n",
      "La division de 4 entre 6 es 0.6666666666666666.\n",
      "4 elevado a 6 es 4096.\n",
      "La raiz 6 de 4 es 1.2599210498948732.\n"
     ]
    }
   ],
   "source": [
    "num = 4\n",
    "num2 = 6\n",
    "sume = num + num2\n",
    "rest = num - num2\n",
    "mult = num * num2\n",
    "div = num / num2\n",
    "power = num ** num2\n",
    "root = num ** (1/num2)\n",
    "print(f'La suma de {num} y {num2} es {sume}.')\n",
    "print(f'La resta de {num} y {num2} es {rest}.')\n",
    "print(f'La multiplicacion de {num} y {num2} es {mult}.')\n",
    "print(f'La division de {num} entre {num2} es {div}.')\n",
    "print(f'{num} elevado a {num2} es {power}.')\n",
    "print(f'La raiz {num2} de {num} es {root}.')"
   ]
  },
  {
   "cell_type": "code",
   "execution_count": 46,
   "id": "1665d3f1",
   "metadata": {},
   "outputs": [
    {
     "data": {
      "text/plain": [
       "2"
      ]
     },
     "execution_count": 46,
     "metadata": {},
     "output_type": "execute_result"
    }
   ],
   "source": [
    "6//3"
   ]
  },
  {
   "cell_type": "code",
   "execution_count": 51,
   "id": "65359428",
   "metadata": {},
   "outputs": [
    {
     "data": {
      "text/plain": [
       "int"
      ]
     },
     "execution_count": 51,
     "metadata": {},
     "output_type": "execute_result"
    }
   ],
   "source": [
    "type(10//7)"
   ]
  },
  {
   "cell_type": "code",
   "execution_count": 50,
   "id": "5f6d3b41",
   "metadata": {},
   "outputs": [
    {
     "data": {
      "text/plain": [
       "float"
      ]
     },
     "execution_count": 50,
     "metadata": {},
     "output_type": "execute_result"
    }
   ],
   "source": [
    "type(10/10)"
   ]
  },
  {
   "cell_type": "markdown",
   "id": "4ab9539c",
   "metadata": {},
   "source": [
    "## String Variables"
   ]
  },
  {
   "cell_type": "markdown",
   "id": "9f71c3ce",
   "metadata": {},
   "source": [
    "## Python lists"
   ]
  },
  {
   "cell_type": "code",
   "execution_count": 52,
   "id": "a90a2624",
   "metadata": {},
   "outputs": [
    {
     "data": {
      "text/plain": [
       "[1, '2', True]"
      ]
     },
     "execution_count": 52,
     "metadata": {},
     "output_type": "execute_result"
    }
   ],
   "source": [
    "lista = [1, '2', True]\n",
    "lista"
   ]
  },
  {
   "cell_type": "code",
   "execution_count": 53,
   "id": "36f15ffa",
   "metadata": {},
   "outputs": [
    {
     "data": {
      "text/plain": [
       "[11.25, 18.0, 20.0, 10.75, 9.5]"
      ]
     },
     "execution_count": 53,
     "metadata": {},
     "output_type": "execute_result"
    }
   ],
   "source": [
    "hall = 11.25\n",
    "kit = 18.0\n",
    "liv = 20.0\n",
    "bed = 10.75\n",
    "bath = 9.50\n",
    "areas = [hall, kit, liv, bed, bath]\n",
    "areas"
   ]
  },
  {
   "cell_type": "code",
   "execution_count": null,
   "id": "f82334dc",
   "metadata": {},
   "outputs": [],
   "source": []
  },
  {
   "cell_type": "code",
   "execution_count": 18,
   "id": "211cfbb9",
   "metadata": {},
   "outputs": [],
   "source": [
    "%config InlineBackend.figure_format = 'retina'"
   ]
  },
  {
   "cell_type": "code",
   "execution_count": 17,
   "id": "33a8f5bf",
   "metadata": {},
   "outputs": [
    {
     "data": {
      "text/html": [
       "<style>\n",
       "p {text-align: justify !important;\n",
       "    #color: OldLace;\n",
       "  line-height: 129%;}\n",
       "b { text-align: justify;\n",
       "    color: Cyan;} \n",
       "strong { color: LightGreen;\n",
       "       }\n",
       "mark { background-color: gainsboro;\n",
       "  color: crimson;\n",
       "  padding: 0 0.05em;\n",
       "  border: 1px solid #orange ;\n",
       "  border-radius: 2px;\n",
       "  font-weight: bold;}   \n",
       "ul {text-align: justify !important;\n",
       "    color: LightSkyBlue;}    \n",
       "i {text-align: justify !important;\n",
       "    color: DeepPink !important;}\n",
       "em {    text-align: justify;\n",
       "    color: Yellow;}\n",
       "dl {text-align: center !important;\n",
       "    background-color: lawngreen;#LightGreen;\n",
       "    padding: 1.5em 1.5em;\n",
       "    color: black;\n",
       "    font-weight: bold;}   \n",
       "href { text-aligne: center;\n",
       "    color: yellow;\n",
       "    font-weight: bold;}\n",
       "h1 { text-align: center !important;\n",
       "    color: orange;\n",
       " font-size: 40px !important;\n",
       " font-weight: bold !important;}\n",
       "h2 {text-align: center !important;\n",
       "     font-size: 36px !important;\n",
       "     font-weight: bold !important;}\n",
       "h3 { text-align: center !important;\n",
       "    font-size: 32px !important;\n",
       " font-weight: bold !important;}\n",
       "h4 { text-align: left !important;\n",
       "   font-size: 28px !important;}\n",
       "\n",
       "hr { border-top: 7px dotted DarkOrange; !important;\n",
       " #border: 2px solid Fuchsia;\n",
       " border-radius: 6px;}\n",
       "div {\n",
       "    color: Fuchsia;\n",
       "    font-weight: bold; !important;\n",
       "    }\n",
       "</style>\n"
      ],
      "text/plain": [
       "<IPython.core.display.HTML object>"
      ]
     },
     "metadata": {},
     "output_type": "display_data"
    }
   ],
   "source": [
    "%%html\n",
    "<style>\n",
    "p {text-align: justify !important;\n",
    "    #color: OldLace;\n",
    "  line-height: 129%;}\n",
    "b { text-align: justify;\n",
    "    color: Cyan;} \n",
    "strong { color: LightGreen;\n",
    "       }\n",
    "mark { background-color: gainsboro;\n",
    "  color: crimson;\n",
    "  padding: 0 0.05em;\n",
    "  border: 1px solid #orange ;\n",
    "  border-radius: 2px;\n",
    "  font-weight: bold;}   \n",
    "ul {text-align: justify !important;\n",
    "    color: LightSkyBlue;}    \n",
    "i {text-align: justify !important;\n",
    "    color: DeepPink !important;}\n",
    "em {    text-align: justify;\n",
    "    color: Yellow;}\n",
    "dl {text-align: center !important;\n",
    "    background-color: lawngreen;#LightGreen;\n",
    "    padding: 1.5em 1.5em;\n",
    "    color: black;\n",
    "    font-weight: bold;}   \n",
    "href { text-aligne: center;\n",
    "    color: yellow;\n",
    "    font-weight: bold;}\n",
    "h1 { text-align: center !important;\n",
    "    color: orange;\n",
    " font-size: 40px !important;\n",
    " font-weight: bold !important;}\n",
    "h2 {text-align: center !important;\n",
    "     font-size: 36px !important;\n",
    "     font-weight: bold !important;}\n",
    "h3 { text-align: center !important;\n",
    "    font-size: 32px !important;\n",
    " font-weight: bold !important;}\n",
    "h4 { text-align: left !important;\n",
    "   font-size: 28px !important;}\n",
    "\n",
    "hr { border-top: 7px dotted DarkOrange; !important;\n",
    " #border: 2px solid Fuchsia;\n",
    " border-radius: 6px;}\n",
    "div {\n",
    "    color: Fuchsia;\n",
    "    font-weight: bold; !important;\n",
    "    }\n",
    "</style>"
   ]
  }
 ],
 "metadata": {
  "kernelspec": {
   "display_name": "Python 3 (ipykernel)",
   "language": "python",
   "name": "python3"
  },
  "language_info": {
   "codemirror_mode": {
    "name": "ipython",
    "version": 3
   },
   "file_extension": ".py",
   "mimetype": "text/x-python",
   "name": "python",
   "nbconvert_exporter": "python",
   "pygments_lexer": "ipython3",
   "version": "3.10.8"
  }
 },
 "nbformat": 4,
 "nbformat_minor": 5
}

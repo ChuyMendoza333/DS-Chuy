{
 "cells": [
  {
   "cell_type": "markdown",
   "id": "c012c08e",
   "metadata": {},
   "source": [
    "# Intro to Python\n",
    "***"
   ]
  },
  {
   "cell_type": "markdown",
   "id": "6e2b5794",
   "metadata": {},
   "source": [
    "## Print"
   ]
  },
  {
   "cell_type": "code",
   "execution_count": 2,
   "id": "f0150265",
   "metadata": {},
   "outputs": [
    {
     "name": "stdout",
     "output_type": "stream",
     "text": [
      "Hola mundo\n"
     ]
    }
   ],
   "source": [
    "print('Hola mundo')"
   ]
  },
  {
   "cell_type": "code",
   "execution_count": 3,
   "id": "773d058c",
   "metadata": {},
   "outputs": [
    {
     "name": "stdout",
     "output_type": "stream",
     "text": [
      "Hola Mundo\n"
     ]
    }
   ],
   "source": [
    "text = 'Hola Mundo'\n",
    "print(text)"
   ]
  },
  {
   "cell_type": "code",
   "execution_count": 25,
   "id": "cf2c3a4b",
   "metadata": {},
   "outputs": [
    {
     "name": "stdout",
     "output_type": "stream",
     "text": [
      "Hello world, I amyears old\n"
     ]
    }
   ],
   "source": [
    "edad = 32\n",
    "frase = 'Hello world, I am'\n",
    "final_frase = 'years old'\n",
    "print(frase + final_frase)"
   ]
  },
  {
   "cell_type": "code",
   "execution_count": 8,
   "id": "e68a3497",
   "metadata": {},
   "outputs": [
    {
     "name": "stdout",
     "output_type": "stream",
     "text": [
      "Hello world, I am32years old\n"
     ]
    }
   ],
   "source": [
    "print(frase + str(edad) + final_frase)"
   ]
  },
  {
   "cell_type": "code",
   "execution_count": 10,
   "id": "b8473802",
   "metadata": {},
   "outputs": [
    {
     "name": "stdout",
     "output_type": "stream",
     "text": [
      "Hello \"world\", I am 32 years old\n"
     ]
    }
   ],
   "source": [
    "print(frase,str(edad),final_frase)"
   ]
  },
  {
   "cell_type": "code",
   "execution_count": 26,
   "id": "3b336c7f",
   "metadata": {},
   "outputs": [
    {
     "data": {
      "text/plain": [
       "'Hello world, I am 32 years old'"
      ]
     },
     "execution_count": 26,
     "metadata": {},
     "output_type": "execute_result"
    }
   ],
   "source": [
    "f_string = f'Hello world, I am {edad} years old'\n",
    "f_string"
   ]
  },
  {
   "cell_type": "code",
   "execution_count": 30,
   "id": "3d900480",
   "metadata": {},
   "outputs": [
    {
     "name": "stdout",
     "output_type": "stream",
     "text": [
      "Hello world, I am 32 years old\n"
     ]
    }
   ],
   "source": [
    "print('Hello world, I am {} years old'.format(edad))"
   ]
  },
  {
   "cell_type": "code",
   "execution_count": 15,
   "id": "ecfa5476",
   "metadata": {},
   "outputs": [
    {
     "data": {
      "text/plain": [
       "'holaholaholaholaholaholaholaholaholaholahola'"
      ]
     },
     "execution_count": 15,
     "metadata": {},
     "output_type": "execute_result"
    }
   ],
   "source": [
    "'hola' * 11"
   ]
  },
  {
   "cell_type": "code",
   "execution_count": 21,
   "id": "f642fe63",
   "metadata": {},
   "outputs": [
    {
     "name": "stdout",
     "output_type": "stream",
     "text": [
      "Temperature: 30 C\n",
      "==============================\n",
      "PSI: 50 bar\n",
      "==============================\n",
      "Height: 1.72m\n",
      "==============================\n",
      "Age: 32 years old\n"
     ]
    }
   ],
   "source": [
    "temp = 30\n",
    "psi = 50\n",
    "height = 1.72\n",
    "age = 32\n",
    "hr = '=' *30\n",
    "print(f'Temperature: {temp} C')\n",
    "print(hr)\n",
    "print(f'PSI: {psi} bar')\n",
    "print(hr)\n",
    "print(f'Height: {height}m')\n",
    "print(hr)\n",
    "print(f'Age: {age} years old')\n"
   ]
  },
  {
   "cell_type": "code",
   "execution_count": 23,
   "id": "f30d40d0",
   "metadata": {},
   "outputs": [
    {
     "name": "stdout",
     "output_type": "stream",
     "text": [
      "Temperature: 30 C\n",
      "==============================\n",
      "PSI: 50 bar\n",
      "==============================\n",
      "Height: 1.72m\n",
      "==============================\n",
      "Age: 32 years old\n",
      "==============================\n"
     ]
    }
   ],
   "source": [
    "temp = 30\n",
    "psi = 50\n",
    "height = 1.72\n",
    "age = 32\n",
    "hr = '=' *30\n",
    "print(f'Temperature: {temp} C\\n{hr}')\n",
    "print(f'PSI: {psi} bar\\n{hr}')\n",
    "print(f'Height: {height}m\\n{hr}')\n",
    "print(f'Age: {age} years old\\n{hr}')"
   ]
  },
  {
   "cell_type": "markdown",
   "id": "b5e2a3a8",
   "metadata": {},
   "source": [
    "*Hola mundo,*<br>**I am 32 years old**<br>\n",
    "**I am mexican**<br>**I like Pizzas**<br>\n",
    "**I have a dog**"
   ]
  },
  {
   "cell_type": "code",
   "execution_count": 33,
   "id": "defe31e4",
   "metadata": {},
   "outputs": [
    {
     "name": "stdout",
     "output_type": "stream",
     "text": [
      "Temperature:\n",
      "\t30 grades\n"
     ]
    }
   ],
   "source": [
    "text = 'Temperature:\\n\\t30 grades'\n",
    "print(text)"
   ]
  },
  {
   "cell_type": "code",
   "execution_count": 33,
   "id": "a49a4436",
   "metadata": {},
   "outputs": [
    {
     "data": {
      "text/plain": [
       "'Hola mundo,\\nI am 32 years old\\nI am Mexican\\nI like pizzas\\nI have a dog\\n'"
      ]
     },
     "execution_count": 33,
     "metadata": {},
     "output_type": "execute_result"
    }
   ],
   "source": [
    "text = '''Hola mundo,\n",
    "I am 32 years old\n",
    "I am Mexican\n",
    "I like pizzas\n",
    "I have a dog\n",
    "'''\n",
    "text"
   ]
  },
  {
   "cell_type": "markdown",
   "id": "8a118dc1",
   "metadata": {},
   "source": [
    "## Variables\n",
    "\n"
   ]
  },
  {
   "cell_type": "markdown",
   "id": "9612a2ad",
   "metadata": {},
   "source": []
  },
  {
   "cell_type": "code",
   "execution_count": 40,
   "id": "f83f368e",
   "metadata": {},
   "outputs": [
    {
     "name": "stdout",
     "output_type": "stream",
     "text": [
      "La suma de 4 y 6 es 10.\n",
      "La resta de 4 y 6 es -2.\n",
      "La multiplicacion de 4 y 6 es 24.\n",
      "La division de 4 entre 6 es 0.6666666666666666.\n",
      "4 elevado a 6 es 4096.\n",
      "La raiz 6 de 4 es 1.2599210498948732.\n"
     ]
    }
   ],
   "source": [
    "num = 4\n",
    "num2 = 6\n",
    "sume = num + num2\n",
    "rest = num - num2\n",
    "mult = num * num2\n",
    "div = num / num2\n",
    "power = num ** num2\n",
    "root = num ** (1/num2)\n",
    "print(f'La suma de {num} y {num2} es {sume}.')\n",
    "print(f'La resta de {num} y {num2} es {rest}.')\n",
    "print(f'La multiplicacion de {num} y {num2} es {mult}.')\n",
    "print(f'La division de {num} entre {num2} es {div}.')\n",
    "print(f'{num} elevado a {num2} es {power}.')\n",
    "print(f'La raiz {num2} de {num} es {root}.')"
   ]
  },
  {
   "cell_type": "code",
   "execution_count": 46,
   "id": "1665d3f1",
   "metadata": {},
   "outputs": [
    {
     "data": {
      "text/plain": [
       "2"
      ]
     },
     "execution_count": 46,
     "metadata": {},
     "output_type": "execute_result"
    }
   ],
   "source": [
    "6//3"
   ]
  },
  {
   "cell_type": "code",
   "execution_count": 51,
   "id": "65359428",
   "metadata": {},
   "outputs": [
    {
     "data": {
      "text/plain": [
       "int"
      ]
     },
     "execution_count": 51,
     "metadata": {},
     "output_type": "execute_result"
    }
   ],
   "source": [
    "type(10//7)"
   ]
  },
  {
   "cell_type": "code",
   "execution_count": 50,
   "id": "5f6d3b41",
   "metadata": {},
   "outputs": [
    {
     "data": {
      "text/plain": [
       "float"
      ]
     },
     "execution_count": 50,
     "metadata": {},
     "output_type": "execute_result"
    }
   ],
   "source": [
    "type(10/10)"
   ]
  },
  {
   "cell_type": "markdown",
   "id": "4ab9539c",
   "metadata": {},
   "source": [
    "## String Variables"
   ]
  },
  {
   "cell_type": "markdown",
   "id": "9f71c3ce",
   "metadata": {},
   "source": [
    "## Python lists"
   ]
  },
  {
   "cell_type": "code",
   "execution_count": 52,
   "id": "a90a2624",
   "metadata": {},
   "outputs": [
    {
     "data": {
      "text/plain": [
       "[1, '2', True]"
      ]
     },
     "execution_count": 52,
     "metadata": {},
     "output_type": "execute_result"
    }
   ],
   "source": [
    "lista = [1, '2', True]\n",
    "lista"
   ]
  },
  {
   "cell_type": "code",
   "execution_count": 53,
   "id": "36f15ffa",
   "metadata": {},
   "outputs": [
    {
     "data": {
      "text/plain": [
       "[11.25, 18.0, 20.0, 10.75, 9.5]"
      ]
     },
     "execution_count": 53,
     "metadata": {},
     "output_type": "execute_result"
    }
   ],
   "source": [
    "hall = 11.25\n",
    "kit = 18.0\n",
    "liv = 20.0\n",
    "bed = 10.75\n",
    "bath = 9.50\n",
    "areas = [hall, kit, liv, bed, bath]\n",
    "areas"
   ]
  },
  {
   "cell_type": "code",
   "execution_count": null,
   "id": "f82334dc",
   "metadata": {},
   "outputs": [],
   "source": []
  },
  {
   "cell_type": "code",
   "execution_count": null,
   "id": "211cfbb9",
   "metadata": {},
   "outputs": [],
   "source": []
  },
  {
   "cell_type": "code",
   "execution_count": null,
   "id": "33a8f5bf",
   "metadata": {},
   "outputs": [],
   "source": []
  }
 ],
 "metadata": {
  "kernelspec": {
   "display_name": "Python 3 (ipykernel)",
   "language": "python",
   "name": "python3"
  },
  "language_info": {
   "codemirror_mode": {
    "name": "ipython",
    "version": 3
   },
   "file_extension": ".py",
   "mimetype": "text/x-python",
   "name": "python",
   "nbconvert_exporter": "python",
   "pygments_lexer": "ipython3",
   "version": "3.10.8"
  }
 },
 "nbformat": 4,
 "nbformat_minor": 5
}

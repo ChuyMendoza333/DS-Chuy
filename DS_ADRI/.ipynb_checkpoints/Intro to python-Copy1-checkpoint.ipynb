{
 "cells": [
  {
   "cell_type": "markdown",
   "id": "c012c08e",
   "metadata": {},
   "source": [
    "# Intro to Python\n",
    "***\n",
    "***"
   ]
  },
  {
   "cell_type": "code",
   "execution_count": 1,
   "id": "db99d377",
   "metadata": {},
   "outputs": [],
   "source": [
    "!jt -t onedork"
   ]
  },
  {
   "cell_type": "markdown",
   "id": "6e2b5794",
   "metadata": {},
   "source": [
    "## **Print**\n",
    "***"
   ]
  },
  {
   "cell_type": "code",
   "execution_count": null,
   "id": "f0150265",
   "metadata": {
    "slideshow": {
     "slide_type": "-"
    }
   },
   "outputs": [],
   "source": [
    "print('Hoola mundo')"
   ]
  },
  {
   "cell_type": "code",
   "execution_count": null,
   "id": "773d058c",
   "metadata": {
    "scrolled": true
   },
   "outputs": [],
   "source": [
    "text = 'Hola Mundo'\n",
    "print(text)"
   ]
  },
  {
   "cell_type": "code",
   "execution_count": null,
   "id": "cf2c3a4b",
   "metadata": {},
   "outputs": [],
   "source": [
    "edad = 32\n",
    "frase = 'Hello world, I am'\n",
    "final_frase = 'years old'\n",
    "print(frase + final_frase)"
   ]
  },
  {
   "cell_type": "code",
   "execution_count": null,
   "id": "e68a3497",
   "metadata": {},
   "outputs": [],
   "source": [
    "print(frase + str(edad) + final_frase)"
   ]
  },
  {
   "cell_type": "code",
   "execution_count": null,
   "id": "b8473802",
   "metadata": {},
   "outputs": [],
   "source": [
    "print(frase,str(edad),final_frase)"
   ]
  },
  {
   "cell_type": "code",
   "execution_count": null,
   "id": "3b336c7f",
   "metadata": {},
   "outputs": [],
   "source": [
    "f_string = f'Hello world, I am {edad} years old'\n",
    "f_string"
   ]
  },
  {
   "cell_type": "code",
   "execution_count": null,
   "id": "3d900480",
   "metadata": {},
   "outputs": [],
   "source": [
    "print('Hello world, I am {} years old'.format(edad))\n"
   ]
  },
  {
   "cell_type": "code",
   "execution_count": null,
   "id": "c876752f",
   "metadata": {},
   "outputs": [],
   "source": [
    "print('Hello world, I am {} years{} old'.format(edad, edad*2))\n"
   ]
  },
  {
   "cell_type": "code",
   "execution_count": null,
   "id": "ecfa5476",
   "metadata": {},
   "outputs": [],
   "source": [
    "'hola' * 11"
   ]
  },
  {
   "cell_type": "code",
   "execution_count": null,
   "id": "f642fe63",
   "metadata": {},
   "outputs": [],
   "source": [
    "temp = 30\n",
    "psi = 50\n",
    "height = 1.72\n",
    "age = 32\n",
    "hr = '=' *30\n",
    "print(f'Temperature: {temp} C')\n",
    "print(hr)\n",
    "print(f'PSI: {psi} bar')\n",
    "print(hr)\n",
    "print(f'Height: {height}m')\n",
    "print(hr)\n",
    "print(f'Age: {age} years old')\n"
   ]
  },
  {
   "cell_type": "code",
   "execution_count": null,
   "id": "f30d40d0",
   "metadata": {},
   "outputs": [],
   "source": [
    "temp = 30\n",
    "psi = 50\n",
    "height = 1.72\n",
    "age = 32\n",
    "hr = '=' *30\n",
    "print(f'Temperature: {temp} C\\n{hr}')\n",
    "print(f'PSI: {psi} bar\\n{hr}')\n",
    "print(f'Height: {height}m\\n{hr}')\n",
    "print(f'Age: {age} years old\\n{hr}')"
   ]
  },
  {
   "cell_type": "markdown",
   "id": "b5e2a3a8",
   "metadata": {},
   "source": [
    "*Hola mundo,*<br>**I am 32 years old**<br>\n",
    "**I am mexican**<br>**I like Pizzas**<br>\n",
    "**I have a dog**"
   ]
  },
  {
   "cell_type": "code",
   "execution_count": null,
   "id": "defe31e4",
   "metadata": {},
   "outputs": [],
   "source": [
    "text = 'Temperature:\\n\\t30 grades'\n",
    "print(text)"
   ]
  },
  {
   "cell_type": "code",
   "execution_count": null,
   "id": "a49a4436",
   "metadata": {},
   "outputs": [],
   "source": [
    "text = '''Hola mundo,\n",
    "I am 32 years old\n",
    "I am Mexican\n",
    "I like pizzas\n",
    "I have a dog\n",
    "'''\n",
    "text"
   ]
  },
  {
   "cell_type": "markdown",
   "id": "4f65a41e",
   "metadata": {},
   "source": [
    "## **Inputs**\n",
    "***"
   ]
  },
  {
   "cell_type": "code",
   "execution_count": null,
   "id": "a812d1ef",
   "metadata": {},
   "outputs": [],
   "source": [
    "input_1 = input(\"What's your name: \")\n",
    "print(f'Hello {input_1}!!!')"
   ]
  },
  {
   "cell_type": "code",
   "execution_count": 109,
   "id": "15ac99f8",
   "metadata": {
    "scrolled": true
   },
   "outputs": [
    {
     "name": "stdout",
     "output_type": "stream",
     "text": [
      "**************************************************\n",
      "  ++++++++++     SUME CALCULATOR     ++++++++++   \n",
      "**************************************************\n",
      "This is a program to make a sume of two numbers!!!\n",
      "        please enter only numeric values:\n",
      "        \n",
      "                 enter a number:\n",
      "                 34\n",
      "               enter other number:\n",
      "               45\n",
      "          ==============================          \n",
      "             Sume of 34.0 + 45.0 is:              \n",
      "                       79.0                       \n"
     ]
    }
   ],
   "source": [
    "space = 50\n",
    "print('*'*space)\n",
    "print(f'{\"+\"*10}     SUME CALCULATOR     {\"+\"*10}'.center(space))\n",
    "print('*'*space)\n",
    "print('This is a program to make a sume of two numbers!!!'.center(space))\n",
    "print('please enter only numeric values:\\n'.center(space))\n",
    "num1 = float(input('enter a number:\\n'.center(space)))\n",
    "num2 = float(input('enter other number:\\n'.center(space)))\n",
    "print(f\"{'='*30}\".center(space))\n",
    "print(f'Sume of {num1} + {num2} is:'.center(space))\n",
    "print(f'{num1+num2}'.center(space))"
   ]
  },
  {
   "cell_type": "markdown",
   "id": "6739b283",
   "metadata": {},
   "source": [
    "## **Magics commands**\n",
    "***"
   ]
  },
  {
   "cell_type": "markdown",
   "id": "29a3b927",
   "metadata": {},
   "source": [
    "### Current directory "
   ]
  },
  {
   "cell_type": "code",
   "execution_count": null,
   "id": "cd07885e",
   "metadata": {},
   "outputs": [],
   "source": [
    "%pwd"
   ]
  },
  {
   "cell_type": "markdown",
   "id": "0608ea70",
   "metadata": {},
   "source": [
    "### Directory Files list"
   ]
  },
  {
   "cell_type": "code",
   "execution_count": null,
   "id": "505af732",
   "metadata": {},
   "outputs": [],
   "source": [
    "%ls"
   ]
  },
  {
   "cell_type": "markdown",
   "id": "4583461d",
   "metadata": {},
   "source": [
    "### Change and Return directory"
   ]
  },
  {
   "cell_type": "code",
   "execution_count": 113,
   "id": "84e73db0",
   "metadata": {},
   "outputs": [
    {
     "name": "stdout",
     "output_type": "stream",
     "text": [
      "[WinError 2] El sistema no puede encontrar el archivo especificado: 'namedir'\n",
      "C:\\Users\\mo_si\\Documentos\\DS Chuy\\DS_ADRI\n",
      " El volumen de la unidad C es Reservado para el sistema\n",
      " El n£mero de serie del volumen es: 4C76-9FAE\n",
      "\n",
      " Directorio de C:\\Users\\mo_si\\Documentos\\DS Chuy\\DS_ADRI\n",
      "\n",
      "28/04/2023  21:40    <DIR>          .\n",
      "28/04/2023  21:40    <DIR>          ..\n",
      "28/04/2023  18:47    <DIR>          .ipynb_checkpoints\n",
      "28/04/2023  19:30    <DIR>          file\n",
      "28/04/2023  18:00    <DIR>          files\n",
      "28/04/2023  21:40            17,287 Intro to python.ipynb\n",
      "28/04/2023  16:34               314 sume.py\n",
      "28/04/2023  18:35         1,328,752 Themes.ipynb\n",
      "28/04/2023  16:19                 0 untitled.txt\n",
      "28/04/2023  18:03            28,803 Untitled-Copy1.ipynb\n",
      "               5 archivos      1,375,156 bytes\n",
      "               5 dirs  174,713,495,552 bytes libres\n"
     ]
    }
   ],
   "source": [
    "%cd namedir\n",
    "%pwd\n",
    "%ls"
   ]
  },
  {
   "cell_type": "code",
   "execution_count": 114,
   "id": "407c894f",
   "metadata": {},
   "outputs": [
    {
     "name": "stdout",
     "output_type": "stream",
     "text": [
      " El volumen de la unidad C es Reservado para el sistema\n",
      " El n£mero de serie del volumen es: 4C76-9FAE\n",
      "\n",
      " Directorio de C:\\Users\\mo_si\\Documentos\\DS Chuy\\DS_ADRI\n",
      "\n",
      "28/04/2023  21:42    <DIR>          .\n",
      "28/04/2023  21:42    <DIR>          ..\n",
      "28/04/2023  18:47    <DIR>          .ipynb_checkpoints\n",
      "28/04/2023  19:30    <DIR>          file\n",
      "28/04/2023  18:00    <DIR>          files\n",
      "28/04/2023  21:42            18,510 Intro to python.ipynb\n",
      "28/04/2023  16:34               314 sume.py\n",
      "28/04/2023  18:35         1,328,752 Themes.ipynb\n",
      "28/04/2023  16:19                 0 untitled.txt\n",
      "28/04/2023  18:03            28,803 Untitled-Copy1.ipynb\n",
      "               5 archivos      1,376,379 bytes\n",
      "               5 dirs  174,713,085,952 bytes libres\n"
     ]
    }
   ],
   "source": [
    "# %cd ..\n",
    "%ls"
   ]
  },
  {
   "cell_type": "markdown",
   "id": "0170ed70",
   "metadata": {},
   "source": [
    "### Create new folder"
   ]
  },
  {
   "cell_type": "code",
   "execution_count": null,
   "id": "adae1658",
   "metadata": {},
   "outputs": [],
   "source": [
    "%mkdir files\n",
    "%ls"
   ]
  },
  {
   "cell_type": "markdown",
   "id": "b1cdd711",
   "metadata": {},
   "source": [
    "### Save file"
   ]
  },
  {
   "cell_type": "code",
   "execution_count": 10,
   "id": "7fd70ec7",
   "metadata": {},
   "outputs": [
    {
     "name": "stdout",
     "output_type": "stream",
     "text": [
      "Overwriting files/text.txt\n"
     ]
    }
   ],
   "source": [
    "%%file files/text.txt\n",
    "'''Jupyter Notebook is an open-source web application that allows you to create and share documents that contain live code, equations, visualizations, and narrative text. It is a powerful tool that supports a variety of programming languages, including Python, R, and Julia, making it an ideal environment for data analysis, machine learning, and scientific computing.\n",
    "\n",
    "One of the main advantages of Jupyter Notebook is its ability to combine code and documentation in a single document, allowing you to create interactive and dynamic reports. This is made possible through the use of cells, which can contain code, markdown text, or raw text. The code cells can be executed individually, and their output is displayed directly below the cell.\n",
    "\n",
    "Jupyter Notebook also provides a rich set of tools and features that make it easy to manipulate data, explore datasets, and generate visualizations. For example, you can use the pandas library to import, clean, and analyze data, and then use matplotlib or seaborn to create plots and charts.\n",
    "\n",
    "Another great feature of Jupyter Notebook is its support for extensions and plugins, which allow you to customize the interface and add new functionality. There are a wide variety of extensions available, including tools for version control, code formatting, and keyboard shortcuts.\n",
    "\n",
    "Jupyter Notebook has become an essential tool for many data scientists, researchers, and educators, as it provides a flexible and intuitive environment for exploring and sharing data. Whether you are working on a personal project, collaborating with colleagues, or teaching a class, Jupyter Notebook is a powerful and versatile tool that can help you achieve your goals.\n",
    "'''"
   ]
  },
  {
   "cell_type": "code",
   "execution_count": null,
   "id": "f3afaa20",
   "metadata": {},
   "outputs": [],
   "source": [
    "%%writefile files/sume.py\n",
    "space = 50\n",
    "print('*'*space)\n",
    "print('SUME CALCULATOR'.center(space))\n",
    "print('*'*space)\n",
    "print('This is a program to make a sume of two numbers!!!'.center(space))\n",
    "print('please enter only numeric values:\\n'.center(space))\n",
    "num1 = float(input('enter a number:\\n'.center(space)))\n",
    "num2 = float(input('enter other number:\\n'.center(space)))\n",
    "print(f\"{'='*30}\".center(space))\n",
    "print(f'Sume of {num1} + {num2} is:'.center(space))\n",
    "print(f'{num1+num2}'.center(space))"
   ]
  },
  {
   "cell_type": "markdown",
   "id": "8323ccea",
   "metadata": {},
   "source": [
    "### Run py files"
   ]
  },
  {
   "cell_type": "code",
   "execution_count": 115,
   "id": "a2023099",
   "metadata": {},
   "outputs": [
    {
     "name": "stdout",
     "output_type": "stream",
     "text": [
      "**************************************************\n",
      "                 SUME CALCULATOR                  \n",
      "**************************************************\n",
      "This is a program to make a sume of two numbers!!!\n",
      "        please enter only numeric values:\n",
      "        \n",
      "                 enter a number:\n",
      "                 34\n",
      "               enter other number:\n",
      "               45\n",
      "          ==============================          \n",
      "             Sume of 34.0 + 45.0 is:              \n",
      "                       79.0                       \n"
     ]
    }
   ],
   "source": [
    "%run files/sume.py"
   ]
  },
  {
   "cell_type": "markdown",
   "id": "99cf1e4c",
   "metadata": {},
   "source": [
    "### Load files"
   ]
  },
  {
   "cell_type": "code",
   "execution_count": 7,
   "id": "39f98219",
   "metadata": {},
   "outputs": [
    {
     "name": "stdout",
     "output_type": "stream",
     "text": [
      "**************************************************\n",
      "                 SUME CALCULATOR                  \n",
      "**************************************************\n",
      "This is a program to make a sume of two numbers!!!\n",
      "        please enter only numeric values:\n",
      "        \n",
      "                 enter a number:\n",
      "                 23\n",
      "               enter other number:\n",
      "               34\n",
      "          ==============================          \n",
      "             Sume of 23.0 + 34.0 is:              \n",
      "                       57.0                       \n"
     ]
    }
   ],
   "source": [
    "# %load files/sume.py\n",
    "space = 50\n",
    "print('*'*space)\n",
    "print('SUME CALCULATOR'.center(space))\n",
    "print('*'*space)\n",
    "print('This is a program to make a sume of two numbers!!!'.center(space))\n",
    "print('please enter only numeric values:\\n'.center(space))\n",
    "num1 = float(input('enter a number:\\n'.center(space)))\n",
    "num2 = float(input('enter other number:\\n'.center(space)))\n",
    "print(f\"{'='*30}\".center(space))\n",
    "print(f'Sume of {num1} + {num2} is:'.center(space))\n",
    "print(f'{num1+num2}'.center(space))\n"
   ]
  },
  {
   "cell_type": "code",
   "execution_count": null,
   "id": "0736c4fc",
   "metadata": {},
   "outputs": [],
   "source": [
    "# %load files/text.txt\n",
    "'''Jupyter Notebook is an open-source web application that allows you to create and share documents that contain live code, equations, visualizations, and narrative text. It is a powerful tool that supports a variety of programming languages, including Python, R, and Julia, making it an ideal environment for data analysis, machine learning, and scientific computing.\n",
    "\n",
    "One of the main advantages of Jupyter Notebook is its ability to combine code and documentation in a single document, allowing you to create interactive and dynamic reports. This is made possible through the use of cells, which can contain code, markdown text, or raw text. The code cells can be executed individually, and their output is displayed directly below the cell.\n",
    "\n",
    "Jupyter Notebook also provides a rich set of tools and features that make it easy to manipulate data, explore datasets, and generate visualizations. For example, you can use the pandas library to import, clean, and analyze data, and then use matplotlib or seaborn to create plots and charts.\n",
    "\n",
    "Another great feature of Jupyter Notebook is its support for extensions and plugins, which allow you to customize the interface and add new functionality. There are a wide variety of extensions available, including tools for version control, code formatting, and keyboard shortcuts.\n",
    "\n",
    "Jupyter Notebook has become an essential tool for many data scientists, researchers, and educators, as it provides a flexible and intuitive environment for exploring and sharing data. Whether you are working on a personal project, collaborating with colleagues, or teaching a class, Jupyter Notebook is a powerful and versatile tool that can help you achieve your goals.\n",
    "'''"
   ]
  },
  {
   "cell_type": "markdown",
   "id": "8a118dc1",
   "metadata": {},
   "source": [
    "## Variables\n",
    "\n"
   ]
  },
  {
   "cell_type": "code",
   "execution_count": null,
   "id": "f83f368e",
   "metadata": {},
   "outputs": [],
   "source": [
    "num = 4\n",
    "num2 = 6\n",
    "sume = num + num2\n",
    "rest = num - num2\n",
    "mult = num * num2\n",
    "div = num / num2\n",
    "power = num ** num2\n",
    "root = num ** (1/num2)\n",
    "print(f'La suma de {num} y {num2} es {sume}.')\n",
    "print(f'La resta de {num} y {num2} es {rest}.')\n",
    "print(f'La multiplicacion de {num} y {num2} es {mult}.')\n",
    "print(f'La division de {num} entre {num2} es {div}.')\n",
    "print(f'{num} elevado a {num2} es {power}.')\n",
    "print(f'La raiz {num2} de {num} es {root}.')"
   ]
  },
  {
   "cell_type": "code",
   "execution_count": null,
   "id": "1665d3f1",
   "metadata": {},
   "outputs": [],
   "source": [
    "6//3"
   ]
  },
  {
   "cell_type": "code",
   "execution_count": null,
   "id": "65359428",
   "metadata": {},
   "outputs": [],
   "source": [
    "type(10//7)"
   ]
  },
  {
   "cell_type": "code",
   "execution_count": null,
   "id": "5f6d3b41",
   "metadata": {},
   "outputs": [],
   "source": [
    "type(10/10)"
   ]
  },
  {
   "cell_type": "code",
   "execution_count": null,
   "id": "5c1920dd",
   "metadata": {},
   "outputs": [],
   "source": [
    "div = 30/3.3233333\n",
    "round(div,3)"
   ]
  },
  {
   "cell_type": "markdown",
   "id": "4ab9539c",
   "metadata": {},
   "source": [
    "## String Variables"
   ]
  },
  {
   "cell_type": "code",
   "execution_count": 22,
   "id": "451e838d",
   "metadata": {},
   "outputs": [],
   "source": [
    "var1 = 'Hello'\n",
    "var2 = 'WoRld python'"
   ]
  },
  {
   "cell_type": "code",
   "execution_count": 23,
   "id": "9ddb5bc9",
   "metadata": {},
   "outputs": [
    {
     "data": {
      "text/plain": [
       "'HelloWoRld python'"
      ]
     },
     "execution_count": 23,
     "metadata": {},
     "output_type": "execute_result"
    }
   ],
   "source": [
    "var1 + var2"
   ]
  },
  {
   "cell_type": "code",
   "execution_count": null,
   "id": "729ada1f",
   "metadata": {},
   "outputs": [],
   "source": [
    "var1.upper()"
   ]
  },
  {
   "cell_type": "code",
   "execution_count": null,
   "id": "331ecc85",
   "metadata": {},
   "outputs": [],
   "source": [
    "var1.lower()"
   ]
  },
  {
   "cell_type": "code",
   "execution_count": null,
   "id": "839a164c",
   "metadata": {},
   "outputs": [],
   "source": [
    "# var1 = var1.upper()\n",
    "# var1"
   ]
  },
  {
   "cell_type": "code",
   "execution_count": null,
   "id": "f1b67279",
   "metadata": {},
   "outputs": [],
   "source": [
    "var2.title()"
   ]
  },
  {
   "cell_type": "code",
   "execution_count": null,
   "id": "6481ee15",
   "metadata": {},
   "outputs": [],
   "source": [
    "var2.capitalize()"
   ]
  },
  {
   "cell_type": "code",
   "execution_count": null,
   "id": "5464eee3",
   "metadata": {},
   "outputs": [],
   "source": [
    "var_upper = var1.upper()\n",
    "var_lower = var1.lower()"
   ]
  },
  {
   "cell_type": "code",
   "execution_count": null,
   "id": "d68b11e0",
   "metadata": {},
   "outputs": [],
   "source": [
    "print(var_upper)\n",
    "print(var_lower)"
   ]
  },
  {
   "cell_type": "code",
   "execution_count": null,
   "id": "f0fb1e96",
   "metadata": {},
   "outputs": [],
   "source": [
    "print(var_upper.isupper())\n",
    "print(var_lower.isupper())"
   ]
  },
  {
   "cell_type": "code",
   "execution_count": null,
   "id": "92d744a6",
   "metadata": {},
   "outputs": [],
   "source": [
    "print(var_upper.islower())\n",
    "print(var_lower.islower())"
   ]
  },
  {
   "cell_type": "code",
   "execution_count": 19,
   "id": "b799b616",
   "metadata": {},
   "outputs": [
    {
     "name": "stdout",
     "output_type": "stream",
     "text": [
      "True\n",
      "False\n"
     ]
    }
   ],
   "source": [
    "var3 = 'text'\n",
    "var4 = 'aaa1'\n",
    "print(var3.isalpha())\n",
    "print(var4.isalpha())"
   ]
  },
  {
   "cell_type": "markdown",
   "id": "9f71c3ce",
   "metadata": {},
   "source": [
    "## Python lists"
   ]
  },
  {
   "cell_type": "code",
   "execution_count": 11,
   "id": "a90a2624",
   "metadata": {},
   "outputs": [
    {
     "data": {
      "text/plain": [
       "[1, '2', True]"
      ]
     },
     "execution_count": 11,
     "metadata": {},
     "output_type": "execute_result"
    }
   ],
   "source": [
    "lista = [1, '2', True]\n",
    "lista"
   ]
  },
  {
   "cell_type": "code",
   "execution_count": null,
   "id": "36f15ffa",
   "metadata": {},
   "outputs": [],
   "source": [
    "hall = 11.25\n",
    "kit = 18.0\n",
    "liv = 20.0\n",
    "bed = 10.75\n",
    "bath = 9.50\n",
    "areas = [hall, kit, liv, bed, bath]\n",
    "areas"
   ]
  },
  {
   "cell_type": "code",
   "execution_count": 10,
   "id": "f82334dc",
   "metadata": {},
   "outputs": [
    {
     "name": "stderr",
     "output_type": "stream",
     "text": [
      "UsageError: Cell magic `%%Java` not found.\n"
     ]
    }
   ],
   "source": [
    "%%\n",
    "int myNum = 15;\n",
    "System.out.println(myNum);"
   ]
  },
  {
   "cell_type": "code",
   "execution_count": 20,
   "id": "33a8f5bf",
   "metadata": {},
   "outputs": [
    {
     "data": {
      "text/html": [
       "<style>\n",
       "p {text-align: justify !important;\n",
       "    #color: OldLace;\n",
       "  line-height: 129%;}\n",
       "b { text-align: justify;\n",
       "    color: Cyan;} \n",
       "strong { color: LightGreen;\n",
       "       }\n",
       "mark { background-color: gainsboro;\n",
       "  color: crimson;\n",
       "  padding: 0 0.05em;\n",
       "  border: 1px solid #orange ;\n",
       "  border-radius: 2px;\n",
       "  font-weight: bold;}   \n",
       "ul {text-align: justify !important;\n",
       "    color: LightSkyBlue;}    \n",
       "i {text-align: justify !important;\n",
       "    color: DeepPink !important;}\n",
       "em {    text-align: justify;\n",
       "    color: Yellow;}\n",
       "dl {text-align: center !important;\n",
       "    background-color: lawngreen;#LightGreen;\n",
       "    padding: 1.5em 1.5em;\n",
       "    color: black;\n",
       "    font-weight: bold;}   \n",
       "href { text-aligne: center;\n",
       "    color: yellow;\n",
       "    font-weight: bold;}\n",
       "h1 { text-align: center !important;\n",
       "    color: orange;\n",
       " font-size: 40px !important;\n",
       " font-weight: bold !important;}\n",
       "h2 {text-align: center !important;\n",
       "     font-size: 36px !important;\n",
       "     font-weight: bold !important;}\n",
       "h3 { text-align: center !important;\n",
       "    font-size: 32px !important;\n",
       " font-weight: bold !important;}\n",
       "h4 { text-align: left !important;\n",
       "   font-size: 28px !important;}\n",
       "\n",
       "hr { border-top: 7px dotted DarkOrange; !important;\n",
       " #border: 2px solid Fuchsia;\n",
       " border-radius: 6px;}\n",
       "div {\n",
       "    color: Fuchsia;\n",
       "    font-weight: bold; !important;\n",
       "    }\n",
       "</style>\n"
      ],
      "text/plain": [
       "<IPython.core.display.HTML object>"
      ]
     },
     "metadata": {},
     "output_type": "display_data"
    }
   ],
   "source": [
    "%%html\n",
    "<style>\n",
    "p {text-align: justify !important;\n",
    "    #color: OldLace;\n",
    "  line-height: 129%;}\n",
    "b { text-align: justify;\n",
    "    color: Cyan;} \n",
    "strong { color: LightGreen;\n",
    "       }\n",
    "mark { background-color: gainsboro;\n",
    "  color: crimson;\n",
    "  padding: 0 0.05em;\n",
    "  border: 1px solid #orange ;\n",
    "  border-radius: 2px;\n",
    "  font-weight: bold;}   \n",
    "ul {text-align: justify !important;\n",
    "    color: LightSkyBlue;}    \n",
    "i {text-align: justify !important;\n",
    "    color: DeepPink !important;}\n",
    "em {    text-align: justify;\n",
    "    color: Yellow;}\n",
    "dl {text-align: center !important;\n",
    "    background-color: lawngreen;#LightGreen;\n",
    "    padding: 1.5em 1.5em;\n",
    "    color: black;\n",
    "    font-weight: bold;}   \n",
    "href { text-aligne: center;\n",
    "    color: yellow;\n",
    "    font-weight: bold;}\n",
    "h1 { text-align: center !important;\n",
    "    color: orange;\n",
    " font-size: 40px !important;\n",
    " font-weight: bold !important;}\n",
    "h2 {text-align: center !important;\n",
    "     font-size: 36px !important;\n",
    "     font-weight: bold !important;}\n",
    "h3 { text-align: center !important;\n",
    "    font-size: 32px !important;\n",
    " font-weight: bold !important;}\n",
    "h4 { text-align: left !important;\n",
    "   font-size: 28px !important;}\n",
    "\n",
    "hr { border-top: 7px dotted DarkOrange; !important;\n",
    " #border: 2px solid Fuchsia;\n",
    " border-radius: 6px;}\n",
    "div {\n",
    "    color: Fuchsia;\n",
    "    font-weight: bold; !important;\n",
    "    }\n",
    "</style>"
   ]
  }
 ],
 "metadata": {
  "kernelspec": {
   "display_name": "Python 3 (ipykernel)",
   "language": "python",
   "name": "python3"
  },
  "language_info": {
   "codemirror_mode": {
    "name": "ipython",
    "version": 3
   },
   "file_extension": ".py",
   "mimetype": "text/x-python",
   "name": "python",
   "nbconvert_exporter": "python",
   "pygments_lexer": "ipython3",
   "version": "3.10.8"
  }
 },
 "nbformat": 4,
 "nbformat_minor": 5
}

{
 "cells": [
  {
   "cell_type": "markdown",
   "metadata": {},
   "source": [
    "# ***Analisis Cuantitativo de Datos*** "
   ]
  },
  {
   "cell_type": "markdown",
   "metadata": {},
   "source": [
    "## Importar librerias\n",
    "\n"
   ]
  },
  {
   "cell_type": "code",
   "execution_count": 21,
   "metadata": {},
   "outputs": [],
   "source": [
    "import pandas as pd\n",
    "import numpy as np\n",
    "import os\n",
    "import matplotlib.pyplot as plt\n",
    "#import seaborn as sns\n",
    "import plotly.express as px"
   ]
  },
  {
   "cell_type": "code",
   "execution_count": 2,
   "metadata": {},
   "outputs": [
    {
     "data": {
      "text/plain": [
       "['analisis.ipynb', 'country_data.xlsx']"
      ]
     },
     "execution_count": 2,
     "metadata": {},
     "output_type": "execute_result"
    }
   ],
   "source": [
    "# get files\n",
    "files = os.listdir()\n",
    "files"
   ]
  },
  {
   "cell_type": "code",
   "execution_count": 5,
   "metadata": {},
   "outputs": [
    {
     "data": {
      "text/html": [
       "<div>\n",
       "<style scoped>\n",
       "    .dataframe tbody tr th:only-of-type {\n",
       "        vertical-align: middle;\n",
       "    }\n",
       "\n",
       "    .dataframe tbody tr th {\n",
       "        vertical-align: top;\n",
       "    }\n",
       "\n",
       "    .dataframe thead th {\n",
       "        text-align: right;\n",
       "    }\n",
       "</style>\n",
       "<table border=\"1\" class=\"dataframe\">\n",
       "  <thead>\n",
       "    <tr style=\"text-align: right;\">\n",
       "      <th></th>\n",
       "      <th>Country</th>\n",
       "      <th>Code</th>\n",
       "      <th>Year</th>\n",
       "      <th>Terrorism_deaths</th>\n",
       "      <th>Refugees_by_destination</th>\n",
       "      <th>electdem_vdem_owid</th>\n",
       "      <th>PNUD</th>\n",
       "      <th>IDH_Numeros</th>\n",
       "    </tr>\n",
       "  </thead>\n",
       "  <tbody>\n",
       "    <tr>\n",
       "      <th>0</th>\n",
       "      <td>Afganistan</td>\n",
       "      <td>AFG</td>\n",
       "      <td>2020</td>\n",
       "      <td>0</td>\n",
       "      <td>72479</td>\n",
       "      <td>0.356</td>\n",
       "      <td>Bajo</td>\n",
       "      <td>1</td>\n",
       "    </tr>\n",
       "    <tr>\n",
       "      <th>1</th>\n",
       "      <td>Argentina</td>\n",
       "      <td>ARG</td>\n",
       "      <td>2020</td>\n",
       "      <td>0</td>\n",
       "      <td>185268</td>\n",
       "      <td>0.822</td>\n",
       "      <td>Muy Alto</td>\n",
       "      <td>4</td>\n",
       "    </tr>\n",
       "    <tr>\n",
       "      <th>2</th>\n",
       "      <td>Armenia</td>\n",
       "      <td>ARM</td>\n",
       "      <td>2020</td>\n",
       "      <td>0</td>\n",
       "      <td>18158</td>\n",
       "      <td>0.786</td>\n",
       "      <td>Alto</td>\n",
       "      <td>3</td>\n",
       "    </tr>\n",
       "    <tr>\n",
       "      <th>3</th>\n",
       "      <td>Australia</td>\n",
       "      <td>AUS</td>\n",
       "      <td>2020</td>\n",
       "      <td>2</td>\n",
       "      <td>154129</td>\n",
       "      <td>0.854</td>\n",
       "      <td>Muy Alto</td>\n",
       "      <td>4</td>\n",
       "    </tr>\n",
       "    <tr>\n",
       "      <th>4</th>\n",
       "      <td>Austria</td>\n",
       "      <td>AUT</td>\n",
       "      <td>2020</td>\n",
       "      <td>6</td>\n",
       "      <td>162680</td>\n",
       "      <td>0.836</td>\n",
       "      <td>Muy Alto</td>\n",
       "      <td>4</td>\n",
       "    </tr>\n",
       "    <tr>\n",
       "      <th>...</th>\n",
       "      <td>...</td>\n",
       "      <td>...</td>\n",
       "      <td>...</td>\n",
       "      <td>...</td>\n",
       "      <td>...</td>\n",
       "      <td>...</td>\n",
       "      <td>...</td>\n",
       "      <td>...</td>\n",
       "    </tr>\n",
       "    <tr>\n",
       "      <th>156</th>\n",
       "      <td>Venezuela</td>\n",
       "      <td>VEN</td>\n",
       "      <td>2020</td>\n",
       "      <td>14</td>\n",
       "      <td>67804</td>\n",
       "      <td>0.212</td>\n",
       "      <td>Medio</td>\n",
       "      <td>2</td>\n",
       "    </tr>\n",
       "    <tr>\n",
       "      <th>157</th>\n",
       "      <td>Vietnam</td>\n",
       "      <td>VNM</td>\n",
       "      <td>2020</td>\n",
       "      <td>0</td>\n",
       "      <td>0</td>\n",
       "      <td>0.150</td>\n",
       "      <td>Alto</td>\n",
       "      <td>3</td>\n",
       "    </tr>\n",
       "    <tr>\n",
       "      <th>158</th>\n",
       "      <td>Yemen</td>\n",
       "      <td>YEM</td>\n",
       "      <td>2020</td>\n",
       "      <td>903</td>\n",
       "      <td>279193</td>\n",
       "      <td>0.113</td>\n",
       "      <td>Bajo</td>\n",
       "      <td>1</td>\n",
       "    </tr>\n",
       "    <tr>\n",
       "      <th>159</th>\n",
       "      <td>Zambia</td>\n",
       "      <td>ZMB</td>\n",
       "      <td>2020</td>\n",
       "      <td>0</td>\n",
       "      <td>62596</td>\n",
       "      <td>0.334</td>\n",
       "      <td>Medio</td>\n",
       "      <td>2</td>\n",
       "    </tr>\n",
       "    <tr>\n",
       "      <th>160</th>\n",
       "      <td>Zimbabwe</td>\n",
       "      <td>ZWE</td>\n",
       "      <td>2020</td>\n",
       "      <td>1</td>\n",
       "      <td>20492</td>\n",
       "      <td>0.293</td>\n",
       "      <td>Medio</td>\n",
       "      <td>2</td>\n",
       "    </tr>\n",
       "  </tbody>\n",
       "</table>\n",
       "<p>161 rows × 8 columns</p>\n",
       "</div>"
      ],
      "text/plain": [
       "        Country Code  Year  Terrorism_deaths  Refugees_by_destination  \\\n",
       "0    Afganistan  AFG  2020                 0                    72479   \n",
       "1     Argentina  ARG  2020                 0                   185268   \n",
       "2       Armenia  ARM  2020                 0                    18158   \n",
       "3     Australia  AUS  2020                 2                   154129   \n",
       "4       Austria  AUT  2020                 6                   162680   \n",
       "..          ...  ...   ...               ...                      ...   \n",
       "156   Venezuela  VEN  2020                14                    67804   \n",
       "157     Vietnam  VNM  2020                 0                        0   \n",
       "158       Yemen  YEM  2020               903                   279193   \n",
       "159      Zambia  ZMB  2020                 0                    62596   \n",
       "160    Zimbabwe  ZWE  2020                 1                    20492   \n",
       "\n",
       "     electdem_vdem_owid      PNUD  IDH_Numeros  \n",
       "0                 0.356      Bajo            1  \n",
       "1                 0.822  Muy Alto            4  \n",
       "2                 0.786      Alto            3  \n",
       "3                 0.854  Muy Alto            4  \n",
       "4                 0.836  Muy Alto            4  \n",
       "..                  ...       ...          ...  \n",
       "156               0.212     Medio            2  \n",
       "157               0.150      Alto            3  \n",
       "158               0.113      Bajo            1  \n",
       "159               0.334     Medio            2  \n",
       "160               0.293     Medio            2  \n",
       "\n",
       "[161 rows x 8 columns]"
      ]
     },
     "execution_count": 5,
     "metadata": {},
     "output_type": "execute_result"
    }
   ],
   "source": [
    "df = pd.read_excel('country_data.xlsx')\n",
    "df"
   ]
  },
  {
   "cell_type": "code",
   "execution_count": 6,
   "metadata": {},
   "outputs": [
    {
     "name": "stdout",
     "output_type": "stream",
     "text": [
      "<class 'pandas.core.frame.DataFrame'>\n",
      "RangeIndex: 161 entries, 0 to 160\n",
      "Data columns (total 8 columns):\n",
      " #   Column                   Non-Null Count  Dtype  \n",
      "---  ------                   --------------  -----  \n",
      " 0   Country                  161 non-null    object \n",
      " 1   Code                     161 non-null    object \n",
      " 2   Year                     161 non-null    int64  \n",
      " 3   Terrorism_deaths         161 non-null    int64  \n",
      " 4   Refugees_by_destination  161 non-null    int64  \n",
      " 5   electdem_vdem_owid       161 non-null    float64\n",
      " 6   PNUD                     161 non-null    object \n",
      " 7   IDH_Numeros              161 non-null    int64  \n",
      "dtypes: float64(1), int64(4), object(3)\n",
      "memory usage: 10.2+ KB\n"
     ]
    }
   ],
   "source": [
    "df.info()"
   ]
  },
  {
   "cell_type": "code",
   "execution_count": 8,
   "metadata": {},
   "outputs": [
    {
     "data": {
      "text/plain": [
       "Country                    0\n",
       "Code                       0\n",
       "Year                       0\n",
       "Terrorism_deaths           0\n",
       "Refugees_by_destination    0\n",
       "electdem_vdem_owid         0\n",
       "PNUD                       0\n",
       "IDH_Numeros                0\n",
       "dtype: int64"
      ]
     },
     "execution_count": 8,
     "metadata": {},
     "output_type": "execute_result"
    }
   ],
   "source": [
    "df.isna().sum()"
   ]
  },
  {
   "cell_type": "code",
   "execution_count": 10,
   "metadata": {},
   "outputs": [
    {
     "data": {
      "text/html": [
       "<div>\n",
       "<style scoped>\n",
       "    .dataframe tbody tr th:only-of-type {\n",
       "        vertical-align: middle;\n",
       "    }\n",
       "\n",
       "    .dataframe tbody tr th {\n",
       "        vertical-align: top;\n",
       "    }\n",
       "\n",
       "    .dataframe thead th {\n",
       "        text-align: right;\n",
       "    }\n",
       "</style>\n",
       "<table border=\"1\" class=\"dataframe\">\n",
       "  <thead>\n",
       "    <tr style=\"text-align: right;\">\n",
       "      <th></th>\n",
       "      <th>Country</th>\n",
       "      <th>Code</th>\n",
       "      <th>Year</th>\n",
       "      <th>Terrorism_deaths</th>\n",
       "      <th>Refugees_by_destination</th>\n",
       "      <th>electdem_vdem_owid</th>\n",
       "      <th>PNUD</th>\n",
       "      <th>IDH_Numeros</th>\n",
       "    </tr>\n",
       "  </thead>\n",
       "  <tbody>\n",
       "    <tr>\n",
       "      <th>count</th>\n",
       "      <td>161</td>\n",
       "      <td>161</td>\n",
       "      <td>161.0</td>\n",
       "      <td>161.000000</td>\n",
       "      <td>1.610000e+02</td>\n",
       "      <td>161.000000</td>\n",
       "      <td>161</td>\n",
       "      <td>161.000000</td>\n",
       "    </tr>\n",
       "    <tr>\n",
       "      <th>unique</th>\n",
       "      <td>161</td>\n",
       "      <td>161</td>\n",
       "      <td>NaN</td>\n",
       "      <td>NaN</td>\n",
       "      <td>NaN</td>\n",
       "      <td>NaN</td>\n",
       "      <td>5</td>\n",
       "      <td>NaN</td>\n",
       "    </tr>\n",
       "    <tr>\n",
       "      <th>top</th>\n",
       "      <td>Afganistan</td>\n",
       "      <td>AFG</td>\n",
       "      <td>NaN</td>\n",
       "      <td>NaN</td>\n",
       "      <td>NaN</td>\n",
       "      <td>NaN</td>\n",
       "      <td>Muy Alto</td>\n",
       "      <td>NaN</td>\n",
       "    </tr>\n",
       "    <tr>\n",
       "      <th>freq</th>\n",
       "      <td>1</td>\n",
       "      <td>1</td>\n",
       "      <td>NaN</td>\n",
       "      <td>NaN</td>\n",
       "      <td>NaN</td>\n",
       "      <td>NaN</td>\n",
       "      <td>51</td>\n",
       "      <td>NaN</td>\n",
       "    </tr>\n",
       "    <tr>\n",
       "      <th>mean</th>\n",
       "      <td>NaN</td>\n",
       "      <td>NaN</td>\n",
       "      <td>2020.0</td>\n",
       "      <td>78.440994</td>\n",
       "      <td>1.938857e+05</td>\n",
       "      <td>0.521441</td>\n",
       "      <td>NaN</td>\n",
       "      <td>2.726708</td>\n",
       "    </tr>\n",
       "    <tr>\n",
       "      <th>std</th>\n",
       "      <td>NaN</td>\n",
       "      <td>NaN</td>\n",
       "      <td>0.0</td>\n",
       "      <td>270.415140</td>\n",
       "      <td>4.902600e+05</td>\n",
       "      <td>0.257886</td>\n",
       "      <td>NaN</td>\n",
       "      <td>1.151019</td>\n",
       "    </tr>\n",
       "    <tr>\n",
       "      <th>min</th>\n",
       "      <td>NaN</td>\n",
       "      <td>NaN</td>\n",
       "      <td>2020.0</td>\n",
       "      <td>0.000000</td>\n",
       "      <td>0.000000e+00</td>\n",
       "      <td>0.015000</td>\n",
       "      <td>NaN</td>\n",
       "      <td>1.000000</td>\n",
       "    </tr>\n",
       "    <tr>\n",
       "      <th>25%</th>\n",
       "      <td>NaN</td>\n",
       "      <td>NaN</td>\n",
       "      <td>2020.0</td>\n",
       "      <td>0.000000</td>\n",
       "      <td>1.080000e+03</td>\n",
       "      <td>0.291000</td>\n",
       "      <td>NaN</td>\n",
       "      <td>2.000000</td>\n",
       "    </tr>\n",
       "    <tr>\n",
       "      <th>50%</th>\n",
       "      <td>NaN</td>\n",
       "      <td>NaN</td>\n",
       "      <td>2020.0</td>\n",
       "      <td>0.000000</td>\n",
       "      <td>1.568000e+04</td>\n",
       "      <td>0.536000</td>\n",
       "      <td>NaN</td>\n",
       "      <td>3.000000</td>\n",
       "    </tr>\n",
       "    <tr>\n",
       "      <th>75%</th>\n",
       "      <td>NaN</td>\n",
       "      <td>NaN</td>\n",
       "      <td>2020.0</td>\n",
       "      <td>6.000000</td>\n",
       "      <td>1.541290e+05</td>\n",
       "      <td>0.765000</td>\n",
       "      <td>NaN</td>\n",
       "      <td>4.000000</td>\n",
       "    </tr>\n",
       "    <tr>\n",
       "      <th>max</th>\n",
       "      <td>NaN</td>\n",
       "      <td>NaN</td>\n",
       "      <td>2020.0</td>\n",
       "      <td>2102.000000</td>\n",
       "      <td>3.907788e+06</td>\n",
       "      <td>0.914000</td>\n",
       "      <td>NaN</td>\n",
       "      <td>4.000000</td>\n",
       "    </tr>\n",
       "  </tbody>\n",
       "</table>\n",
       "</div>"
      ],
      "text/plain": [
       "           Country Code    Year  Terrorism_deaths  Refugees_by_destination  \\\n",
       "count          161  161   161.0        161.000000             1.610000e+02   \n",
       "unique         161  161     NaN               NaN                      NaN   \n",
       "top     Afganistan  AFG     NaN               NaN                      NaN   \n",
       "freq             1    1     NaN               NaN                      NaN   \n",
       "mean           NaN  NaN  2020.0         78.440994             1.938857e+05   \n",
       "std            NaN  NaN     0.0        270.415140             4.902600e+05   \n",
       "min            NaN  NaN  2020.0          0.000000             0.000000e+00   \n",
       "25%            NaN  NaN  2020.0          0.000000             1.080000e+03   \n",
       "50%            NaN  NaN  2020.0          0.000000             1.568000e+04   \n",
       "75%            NaN  NaN  2020.0          6.000000             1.541290e+05   \n",
       "max            NaN  NaN  2020.0       2102.000000             3.907788e+06   \n",
       "\n",
       "        electdem_vdem_owid      PNUD  IDH_Numeros  \n",
       "count           161.000000       161   161.000000  \n",
       "unique                 NaN         5          NaN  \n",
       "top                    NaN  Muy Alto          NaN  \n",
       "freq                   NaN        51          NaN  \n",
       "mean              0.521441       NaN     2.726708  \n",
       "std               0.257886       NaN     1.151019  \n",
       "min               0.015000       NaN     1.000000  \n",
       "25%               0.291000       NaN     2.000000  \n",
       "50%               0.536000       NaN     3.000000  \n",
       "75%               0.765000       NaN     4.000000  \n",
       "max               0.914000       NaN     4.000000  "
      ]
     },
     "execution_count": 10,
     "metadata": {},
     "output_type": "execute_result"
    }
   ],
   "source": [
    "df.describe(include='all')"
   ]
  },
  {
   "cell_type": "code",
   "execution_count": 15,
   "metadata": {},
   "outputs": [
    {
     "data": {
      "text/plain": [
       "['country',\n",
       " 'code',\n",
       " 'year',\n",
       " 'terrorism_deaths',\n",
       " 'refugees_by_destination',\n",
       " 'demo_index',\n",
       " 'pnud',\n",
       " 'idh_numeros']"
      ]
     },
     "execution_count": 15,
     "metadata": {},
     "output_type": "execute_result"
    }
   ],
   "source": [
    "names = df.columns.str.lower().tolist()\n",
    "names"
   ]
  },
  {
   "cell_type": "code",
   "execution_count": 14,
   "metadata": {},
   "outputs": [
    {
     "data": {
      "text/html": [
       "<div>\n",
       "<style scoped>\n",
       "    .dataframe tbody tr th:only-of-type {\n",
       "        vertical-align: middle;\n",
       "    }\n",
       "\n",
       "    .dataframe tbody tr th {\n",
       "        vertical-align: top;\n",
       "    }\n",
       "\n",
       "    .dataframe thead th {\n",
       "        text-align: right;\n",
       "    }\n",
       "</style>\n",
       "<table border=\"1\" class=\"dataframe\">\n",
       "  <thead>\n",
       "    <tr style=\"text-align: right;\">\n",
       "      <th></th>\n",
       "      <th>country</th>\n",
       "      <th>code</th>\n",
       "      <th>year</th>\n",
       "      <th>terrorism_deaths</th>\n",
       "      <th>refugees_by_destination</th>\n",
       "      <th>demo_index</th>\n",
       "      <th>pnud</th>\n",
       "      <th>idh_numeros</th>\n",
       "    </tr>\n",
       "  </thead>\n",
       "  <tbody>\n",
       "    <tr>\n",
       "      <th>0</th>\n",
       "      <td>Afganistan</td>\n",
       "      <td>AFG</td>\n",
       "      <td>2020</td>\n",
       "      <td>0</td>\n",
       "      <td>72479</td>\n",
       "      <td>0.356</td>\n",
       "      <td>Bajo</td>\n",
       "      <td>1</td>\n",
       "    </tr>\n",
       "    <tr>\n",
       "      <th>1</th>\n",
       "      <td>Argentina</td>\n",
       "      <td>ARG</td>\n",
       "      <td>2020</td>\n",
       "      <td>0</td>\n",
       "      <td>185268</td>\n",
       "      <td>0.822</td>\n",
       "      <td>Muy Alto</td>\n",
       "      <td>4</td>\n",
       "    </tr>\n",
       "    <tr>\n",
       "      <th>2</th>\n",
       "      <td>Armenia</td>\n",
       "      <td>ARM</td>\n",
       "      <td>2020</td>\n",
       "      <td>0</td>\n",
       "      <td>18158</td>\n",
       "      <td>0.786</td>\n",
       "      <td>Alto</td>\n",
       "      <td>3</td>\n",
       "    </tr>\n",
       "    <tr>\n",
       "      <th>3</th>\n",
       "      <td>Australia</td>\n",
       "      <td>AUS</td>\n",
       "      <td>2020</td>\n",
       "      <td>2</td>\n",
       "      <td>154129</td>\n",
       "      <td>0.854</td>\n",
       "      <td>Muy Alto</td>\n",
       "      <td>4</td>\n",
       "    </tr>\n",
       "    <tr>\n",
       "      <th>4</th>\n",
       "      <td>Austria</td>\n",
       "      <td>AUT</td>\n",
       "      <td>2020</td>\n",
       "      <td>6</td>\n",
       "      <td>162680</td>\n",
       "      <td>0.836</td>\n",
       "      <td>Muy Alto</td>\n",
       "      <td>4</td>\n",
       "    </tr>\n",
       "    <tr>\n",
       "      <th>...</th>\n",
       "      <td>...</td>\n",
       "      <td>...</td>\n",
       "      <td>...</td>\n",
       "      <td>...</td>\n",
       "      <td>...</td>\n",
       "      <td>...</td>\n",
       "      <td>...</td>\n",
       "      <td>...</td>\n",
       "    </tr>\n",
       "    <tr>\n",
       "      <th>156</th>\n",
       "      <td>Venezuela</td>\n",
       "      <td>VEN</td>\n",
       "      <td>2020</td>\n",
       "      <td>14</td>\n",
       "      <td>67804</td>\n",
       "      <td>0.212</td>\n",
       "      <td>Medio</td>\n",
       "      <td>2</td>\n",
       "    </tr>\n",
       "    <tr>\n",
       "      <th>157</th>\n",
       "      <td>Vietnam</td>\n",
       "      <td>VNM</td>\n",
       "      <td>2020</td>\n",
       "      <td>0</td>\n",
       "      <td>0</td>\n",
       "      <td>0.150</td>\n",
       "      <td>Alto</td>\n",
       "      <td>3</td>\n",
       "    </tr>\n",
       "    <tr>\n",
       "      <th>158</th>\n",
       "      <td>Yemen</td>\n",
       "      <td>YEM</td>\n",
       "      <td>2020</td>\n",
       "      <td>903</td>\n",
       "      <td>279193</td>\n",
       "      <td>0.113</td>\n",
       "      <td>Bajo</td>\n",
       "      <td>1</td>\n",
       "    </tr>\n",
       "    <tr>\n",
       "      <th>159</th>\n",
       "      <td>Zambia</td>\n",
       "      <td>ZMB</td>\n",
       "      <td>2020</td>\n",
       "      <td>0</td>\n",
       "      <td>62596</td>\n",
       "      <td>0.334</td>\n",
       "      <td>Medio</td>\n",
       "      <td>2</td>\n",
       "    </tr>\n",
       "    <tr>\n",
       "      <th>160</th>\n",
       "      <td>Zimbabwe</td>\n",
       "      <td>ZWE</td>\n",
       "      <td>2020</td>\n",
       "      <td>1</td>\n",
       "      <td>20492</td>\n",
       "      <td>0.293</td>\n",
       "      <td>Medio</td>\n",
       "      <td>2</td>\n",
       "    </tr>\n",
       "  </tbody>\n",
       "</table>\n",
       "<p>161 rows × 8 columns</p>\n",
       "</div>"
      ],
      "text/plain": [
       "        country code  year  terrorism_deaths  refugees_by_destination  \\\n",
       "0    Afganistan  AFG  2020                 0                    72479   \n",
       "1     Argentina  ARG  2020                 0                   185268   \n",
       "2       Armenia  ARM  2020                 0                    18158   \n",
       "3     Australia  AUS  2020                 2                   154129   \n",
       "4       Austria  AUT  2020                 6                   162680   \n",
       "..          ...  ...   ...               ...                      ...   \n",
       "156   Venezuela  VEN  2020                14                    67804   \n",
       "157     Vietnam  VNM  2020                 0                        0   \n",
       "158       Yemen  YEM  2020               903                   279193   \n",
       "159      Zambia  ZMB  2020                 0                    62596   \n",
       "160    Zimbabwe  ZWE  2020                 1                    20492   \n",
       "\n",
       "     demo_index      pnud  idh_numeros  \n",
       "0         0.356      Bajo            1  \n",
       "1         0.822  Muy Alto            4  \n",
       "2         0.786      Alto            3  \n",
       "3         0.854  Muy Alto            4  \n",
       "4         0.836  Muy Alto            4  \n",
       "..          ...       ...          ...  \n",
       "156       0.212     Medio            2  \n",
       "157       0.150      Alto            3  \n",
       "158       0.113      Bajo            1  \n",
       "159       0.334     Medio            2  \n",
       "160       0.293     Medio            2  \n",
       "\n",
       "[161 rows x 8 columns]"
      ]
     },
     "execution_count": 14,
     "metadata": {},
     "output_type": "execute_result"
    }
   ],
   "source": [
    "df.columns = ['country', 'code', 'year', 'terrorism_deaths',\n",
    "       'refugees_by_destination', 'demo_index', 'pnud', 'idh_numeros']\n",
    "df"
   ]
  },
  {
   "cell_type": "markdown",
   "metadata": {},
   "source": [
    "### objects descibe"
   ]
  },
  {
   "cell_type": "code",
   "execution_count": 28,
   "metadata": {},
   "outputs": [
    {
     "data": {
      "text/html": [
       "<style type=\"text/css\">\n",
       "</style>\n",
       "<table id=\"T_5f239\">\n",
       "  <thead>\n",
       "    <tr>\n",
       "      <th class=\"blank level0\" >&nbsp;</th>\n",
       "      <th id=\"T_5f239_level0_col0\" class=\"col_heading level0 col0\" >count</th>\n",
       "      <th id=\"T_5f239_level0_col1\" class=\"col_heading level0 col1\" >unique</th>\n",
       "      <th id=\"T_5f239_level0_col2\" class=\"col_heading level0 col2\" >top</th>\n",
       "      <th id=\"T_5f239_level0_col3\" class=\"col_heading level0 col3\" >freq</th>\n",
       "    </tr>\n",
       "  </thead>\n",
       "  <tbody>\n",
       "    <tr>\n",
       "      <th id=\"T_5f239_level0_row0\" class=\"row_heading level0 row0\" >country</th>\n",
       "      <td id=\"T_5f239_row0_col0\" class=\"data row0 col0\" >161</td>\n",
       "      <td id=\"T_5f239_row0_col1\" class=\"data row0 col1\" >161</td>\n",
       "      <td id=\"T_5f239_row0_col2\" class=\"data row0 col2\" >Afganistan</td>\n",
       "      <td id=\"T_5f239_row0_col3\" class=\"data row0 col3\" >1</td>\n",
       "    </tr>\n",
       "    <tr>\n",
       "      <th id=\"T_5f239_level0_row1\" class=\"row_heading level0 row1\" >code</th>\n",
       "      <td id=\"T_5f239_row1_col0\" class=\"data row1 col0\" >161</td>\n",
       "      <td id=\"T_5f239_row1_col1\" class=\"data row1 col1\" >161</td>\n",
       "      <td id=\"T_5f239_row1_col2\" class=\"data row1 col2\" >AFG</td>\n",
       "      <td id=\"T_5f239_row1_col3\" class=\"data row1 col3\" >1</td>\n",
       "    </tr>\n",
       "    <tr>\n",
       "      <th id=\"T_5f239_level0_row2\" class=\"row_heading level0 row2\" >pnud</th>\n",
       "      <td id=\"T_5f239_row2_col0\" class=\"data row2 col0\" >161</td>\n",
       "      <td id=\"T_5f239_row2_col1\" class=\"data row2 col1\" >5</td>\n",
       "      <td id=\"T_5f239_row2_col2\" class=\"data row2 col2\" >Muy Alto</td>\n",
       "      <td id=\"T_5f239_row2_col3\" class=\"data row2 col3\" >51</td>\n",
       "    </tr>\n",
       "  </tbody>\n",
       "</table>\n"
      ],
      "text/plain": [
       "<pandas.io.formats.style.Styler at 0x16732edb5d0>"
      ]
     },
     "execution_count": 28,
     "metadata": {},
     "output_type": "execute_result"
    }
   ],
   "source": [
    "df.describe(include='object').T.style.background_gradient('Blues')"
   ]
  },
  {
   "cell_type": "markdown",
   "metadata": {},
   "source": [
    "### numbers describe"
   ]
  },
  {
   "cell_type": "code",
   "execution_count": 27,
   "metadata": {},
   "outputs": [
    {
     "data": {
      "text/html": [
       "<style type=\"text/css\">\n",
       "#T_6013d_row0_col0, #T_6013d_row0_col2, #T_6013d_row0_col7, #T_6013d_row1_col0, #T_6013d_row1_col1, #T_6013d_row1_col2, #T_6013d_row1_col3, #T_6013d_row1_col4, #T_6013d_row1_col5, #T_6013d_row1_col6, #T_6013d_row1_col7, #T_6013d_row2_col0, #T_6013d_row2_col3, #T_6013d_row3_col0, #T_6013d_row3_col1, #T_6013d_row3_col2, #T_6013d_row3_col3, #T_6013d_row3_col4, #T_6013d_row3_col5, #T_6013d_row3_col6, #T_6013d_row3_col7, #T_6013d_row4_col0, #T_6013d_row4_col1, #T_6013d_row4_col2, #T_6013d_row4_col3, #T_6013d_row4_col4, #T_6013d_row4_col5, #T_6013d_row4_col6, #T_6013d_row4_col7 {\n",
       "  background-color: #f7fbff;\n",
       "  color: #000000;\n",
       "}\n",
       "#T_6013d_row0_col1 {\n",
       "  background-color: #f5fafe;\n",
       "  color: #000000;\n",
       "}\n",
       "#T_6013d_row0_col3, #T_6013d_row0_col4, #T_6013d_row2_col1, #T_6013d_row2_col2, #T_6013d_row2_col5, #T_6013d_row2_col6, #T_6013d_row2_col7 {\n",
       "  background-color: #08306b;\n",
       "  color: #f1f1f1;\n",
       "}\n",
       "#T_6013d_row0_col5 {\n",
       "  background-color: #deebf7;\n",
       "  color: #000000;\n",
       "}\n",
       "#T_6013d_row0_col6 {\n",
       "  background-color: #f5f9fe;\n",
       "  color: #000000;\n",
       "}\n",
       "#T_6013d_row2_col4 {\n",
       "  background-color: #60a7d2;\n",
       "  color: #f1f1f1;\n",
       "}\n",
       "</style>\n",
       "<table id=\"T_6013d\">\n",
       "  <thead>\n",
       "    <tr>\n",
       "      <th class=\"blank level0\" >&nbsp;</th>\n",
       "      <th id=\"T_6013d_level0_col0\" class=\"col_heading level0 col0\" >count</th>\n",
       "      <th id=\"T_6013d_level0_col1\" class=\"col_heading level0 col1\" >mean</th>\n",
       "      <th id=\"T_6013d_level0_col2\" class=\"col_heading level0 col2\" >std</th>\n",
       "      <th id=\"T_6013d_level0_col3\" class=\"col_heading level0 col3\" >min</th>\n",
       "      <th id=\"T_6013d_level0_col4\" class=\"col_heading level0 col4\" >25%</th>\n",
       "      <th id=\"T_6013d_level0_col5\" class=\"col_heading level0 col5\" >50%</th>\n",
       "      <th id=\"T_6013d_level0_col6\" class=\"col_heading level0 col6\" >75%</th>\n",
       "      <th id=\"T_6013d_level0_col7\" class=\"col_heading level0 col7\" >max</th>\n",
       "    </tr>\n",
       "  </thead>\n",
       "  <tbody>\n",
       "    <tr>\n",
       "      <th id=\"T_6013d_level0_row0\" class=\"row_heading level0 row0\" >year</th>\n",
       "      <td id=\"T_6013d_row0_col0\" class=\"data row0 col0\" >161.000000</td>\n",
       "      <td id=\"T_6013d_row0_col1\" class=\"data row0 col1\" >2020.000000</td>\n",
       "      <td id=\"T_6013d_row0_col2\" class=\"data row0 col2\" >0.000000</td>\n",
       "      <td id=\"T_6013d_row0_col3\" class=\"data row0 col3\" >2020.000000</td>\n",
       "      <td id=\"T_6013d_row0_col4\" class=\"data row0 col4\" >2020.000000</td>\n",
       "      <td id=\"T_6013d_row0_col5\" class=\"data row0 col5\" >2020.000000</td>\n",
       "      <td id=\"T_6013d_row0_col6\" class=\"data row0 col6\" >2020.000000</td>\n",
       "      <td id=\"T_6013d_row0_col7\" class=\"data row0 col7\" >2020.000000</td>\n",
       "    </tr>\n",
       "    <tr>\n",
       "      <th id=\"T_6013d_level0_row1\" class=\"row_heading level0 row1\" >terrorism_deaths</th>\n",
       "      <td id=\"T_6013d_row1_col0\" class=\"data row1 col0\" >161.000000</td>\n",
       "      <td id=\"T_6013d_row1_col1\" class=\"data row1 col1\" >78.440994</td>\n",
       "      <td id=\"T_6013d_row1_col2\" class=\"data row1 col2\" >270.415140</td>\n",
       "      <td id=\"T_6013d_row1_col3\" class=\"data row1 col3\" >0.000000</td>\n",
       "      <td id=\"T_6013d_row1_col4\" class=\"data row1 col4\" >0.000000</td>\n",
       "      <td id=\"T_6013d_row1_col5\" class=\"data row1 col5\" >0.000000</td>\n",
       "      <td id=\"T_6013d_row1_col6\" class=\"data row1 col6\" >6.000000</td>\n",
       "      <td id=\"T_6013d_row1_col7\" class=\"data row1 col7\" >2102.000000</td>\n",
       "    </tr>\n",
       "    <tr>\n",
       "      <th id=\"T_6013d_level0_row2\" class=\"row_heading level0 row2\" >refugees_by_destination</th>\n",
       "      <td id=\"T_6013d_row2_col0\" class=\"data row2 col0\" >161.000000</td>\n",
       "      <td id=\"T_6013d_row2_col1\" class=\"data row2 col1\" >193885.732919</td>\n",
       "      <td id=\"T_6013d_row2_col2\" class=\"data row2 col2\" >490260.011971</td>\n",
       "      <td id=\"T_6013d_row2_col3\" class=\"data row2 col3\" >0.000000</td>\n",
       "      <td id=\"T_6013d_row2_col4\" class=\"data row2 col4\" >1080.000000</td>\n",
       "      <td id=\"T_6013d_row2_col5\" class=\"data row2 col5\" >15680.000000</td>\n",
       "      <td id=\"T_6013d_row2_col6\" class=\"data row2 col6\" >154129.000000</td>\n",
       "      <td id=\"T_6013d_row2_col7\" class=\"data row2 col7\" >3907788.000000</td>\n",
       "    </tr>\n",
       "    <tr>\n",
       "      <th id=\"T_6013d_level0_row3\" class=\"row_heading level0 row3\" >demo_index</th>\n",
       "      <td id=\"T_6013d_row3_col0\" class=\"data row3 col0\" >161.000000</td>\n",
       "      <td id=\"T_6013d_row3_col1\" class=\"data row3 col1\" >0.521441</td>\n",
       "      <td id=\"T_6013d_row3_col2\" class=\"data row3 col2\" >0.257886</td>\n",
       "      <td id=\"T_6013d_row3_col3\" class=\"data row3 col3\" >0.015000</td>\n",
       "      <td id=\"T_6013d_row3_col4\" class=\"data row3 col4\" >0.291000</td>\n",
       "      <td id=\"T_6013d_row3_col5\" class=\"data row3 col5\" >0.536000</td>\n",
       "      <td id=\"T_6013d_row3_col6\" class=\"data row3 col6\" >0.765000</td>\n",
       "      <td id=\"T_6013d_row3_col7\" class=\"data row3 col7\" >0.914000</td>\n",
       "    </tr>\n",
       "    <tr>\n",
       "      <th id=\"T_6013d_level0_row4\" class=\"row_heading level0 row4\" >idh_numeros</th>\n",
       "      <td id=\"T_6013d_row4_col0\" class=\"data row4 col0\" >161.000000</td>\n",
       "      <td id=\"T_6013d_row4_col1\" class=\"data row4 col1\" >2.726708</td>\n",
       "      <td id=\"T_6013d_row4_col2\" class=\"data row4 col2\" >1.151019</td>\n",
       "      <td id=\"T_6013d_row4_col3\" class=\"data row4 col3\" >1.000000</td>\n",
       "      <td id=\"T_6013d_row4_col4\" class=\"data row4 col4\" >2.000000</td>\n",
       "      <td id=\"T_6013d_row4_col5\" class=\"data row4 col5\" >3.000000</td>\n",
       "      <td id=\"T_6013d_row4_col6\" class=\"data row4 col6\" >4.000000</td>\n",
       "      <td id=\"T_6013d_row4_col7\" class=\"data row4 col7\" >4.000000</td>\n",
       "    </tr>\n",
       "  </tbody>\n",
       "</table>\n"
      ],
      "text/plain": [
       "<pandas.io.formats.style.Styler at 0x1673385c350>"
      ]
     },
     "execution_count": 27,
     "metadata": {},
     "output_type": "execute_result"
    }
   ],
   "source": [
    "df.describe().T.style.background_gradient('Blues')"
   ]
  },
  {
   "cell_type": "markdown",
   "metadata": {},
   "source": [
    "### Correlation matrix"
   ]
  },
  {
   "cell_type": "code",
   "execution_count": 38,
   "metadata": {},
   "outputs": [
    {
     "data": {
      "text/html": [
       "<style type=\"text/css\">\n",
       "#T_55ff1_row0_col0 {\n",
       "  background-color: #000000;\n",
       "  color: #f1f1f1;\n",
       "}\n",
       "#T_55ff1_row1_col0 {\n",
       "  background-color: #f0f921;\n",
       "  color: #000000;\n",
       "}\n",
       "#T_55ff1_row2_col0 {\n",
       "  background-color: #9511a1;\n",
       "  color: #f1f1f1;\n",
       "}\n",
       "#T_55ff1_row3_col0 {\n",
       "  background-color: #5002a2;\n",
       "  color: #f1f1f1;\n",
       "}\n",
       "#T_55ff1_row4_col0 {\n",
       "  background-color: #0d0887;\n",
       "  color: #f1f1f1;\n",
       "}\n",
       "</style>\n",
       "<table id=\"T_55ff1\">\n",
       "  <thead>\n",
       "    <tr>\n",
       "      <th class=\"blank level0\" >&nbsp;</th>\n",
       "      <th id=\"T_55ff1_level0_col0\" class=\"col_heading level0 col0\" >terrorism_deaths</th>\n",
       "    </tr>\n",
       "  </thead>\n",
       "  <tbody>\n",
       "    <tr>\n",
       "      <th id=\"T_55ff1_level0_row0\" class=\"row_heading level0 row0\" >year</th>\n",
       "      <td id=\"T_55ff1_row0_col0\" class=\"data row0 col0\" >nan</td>\n",
       "    </tr>\n",
       "    <tr>\n",
       "      <th id=\"T_55ff1_level0_row1\" class=\"row_heading level0 row1\" >terrorism_deaths</th>\n",
       "      <td id=\"T_55ff1_row1_col0\" class=\"data row1 col0\" >1.000000</td>\n",
       "    </tr>\n",
       "    <tr>\n",
       "      <th id=\"T_55ff1_level0_row2\" class=\"row_heading level0 row2\" >refugees_by_destination</th>\n",
       "      <td id=\"T_55ff1_row2_col0\" class=\"data row2 col0\" >0.061580</td>\n",
       "    </tr>\n",
       "    <tr>\n",
       "      <th id=\"T_55ff1_level0_row3\" class=\"row_heading level0 row3\" >demo_index</th>\n",
       "      <td id=\"T_55ff1_row3_col0\" class=\"data row3 col0\" >-0.181875</td>\n",
       "    </tr>\n",
       "    <tr>\n",
       "      <th id=\"T_55ff1_level0_row4\" class=\"row_heading level0 row4\" >idh_numeros</th>\n",
       "      <td id=\"T_55ff1_row4_col0\" class=\"data row4 col0\" >-0.368221</td>\n",
       "    </tr>\n",
       "  </tbody>\n",
       "</table>\n"
      ],
      "text/plain": [
       "<pandas.io.formats.style.Styler at 0x16730f77510>"
      ]
     },
     "execution_count": 38,
     "metadata": {},
     "output_type": "execute_result"
    }
   ],
   "source": [
    "df.select_dtypes('number').corr()[['terrorism_deaths']].style.background_gradient('plasma')"
   ]
  },
  {
   "cell_type": "markdown",
   "metadata": {},
   "source": [
    "### Linear Regression"
   ]
  },
  {
   "cell_type": "code",
   "execution_count": 48,
   "metadata": {},
   "outputs": [
    {
     "data": {
      "application/vnd.plotly.v1+json": {
       "config": {
        "plotlyServerURL": "https://plot.ly"
       },
       "data": [
        {
         "hovertemplate": "demo_index=%{x}<br>terrorism_deaths=%{marker.color}<extra></extra>",
         "legendgroup": "",
         "marker": {
          "color": [
           0,
           0,
           0,
           2,
           6,
           0,
           0,
           3,
           0,
           0,
           0,
           1,
           0,
           0,
           0,
           0,
           3,
           0,
           681,
           28,
           0,
           209,
           3,
           244,
           3,
           0,
           171,
           0,
           0,
           16,
           1,
           0,
           0,
           0,
           1356,
           0,
           0,
           0,
           0,
           143,
           0,
           0,
           0,
           0,
           0,
           1330,
           0,
           0,
           11,
           0,
           0,
           0,
           14,
           4,
           0,
           2,
           0,
           0,
           0,
           2,
           2,
           0,
           0,
           0,
           212,
           15,
           6,
           525,
           0,
           9,
           0,
           0,
           0,
           0,
           0,
           59,
           0,
           0,
           0,
           0,
           10,
           0,
           0,
           11,
           0,
           0,
           0,
           0,
           1,
           0,
           566,
           0,
           0,
           0,
           13,
           0,
           0,
           0,
           709,
           41,
           0,
           1,
           0,
           0,
           1,
           371,
           2102,
           0,
           322,
           0,
           0,
           1,
           0,
           280,
           0,
           0,
           0,
           0,
           6,
           4,
           2,
           0,
           0,
           0,
           0,
           0,
           0,
           0,
           0,
           885,
           7,
           0,
           56,
           0,
           0,
           160,
           0,
           0,
           1,
           973,
           0,
           24,
           18,
           0,
           0,
           5,
           34,
           0,
           20,
           8,
           0,
           6,
           12,
           0,
           0,
           0,
           14,
           0,
           903,
           0,
           1
          ],
          "coloraxis": "coloraxis",
          "symbol": "circle"
         },
         "mode": "markers",
         "name": "",
         "orientation": "v",
         "showlegend": false,
         "type": "scatter",
         "x": [
          0.356,
          0.822,
          0.786,
          0.854,
          0.836,
          0.194,
          0.119,
          0.254,
          0.799,
          0.212,
          0.89,
          0.423,
          0.593,
          0.332,
          0.536,
          0.599,
          0.687,
          0.615,
          0.669,
          0.169,
          0.195,
          0.288,
          0.854,
          0.272,
          0.832,
          0.076,
          0.637,
          0.291,
          0.899,
          0.508,
          0.765,
          0.178,
          0.803,
          0.822,
          0.356,
          0.914,
          0.255,
          0.646,
          0.628,
          0.174,
          0.556,
          0.175,
          0.069,
          0.893,
          0.132,
          0.32,
          0.417,
          0.874,
          0.872,
          0.376,
          0.498,
          0.63,
          0.876,
          0.727,
          0.814,
          0.541,
          0.311,
          0.527,
          0.571,
          0.374,
          0.38,
          0.269,
          0.46,
          0.855,
          0.404,
          0.594,
          0.19,
          0.362,
          0.887,
          0.731,
          0.854,
          0.814,
          0.839,
          0.261,
          0.246,
          0.474,
          0.326,
          0.383,
          0.126,
          0.823,
          0.439,
          0.634,
          0.639,
          0.271,
          0.809,
          0.881,
          0.506,
          0.556,
          0.418,
          0.595,
          0.385,
          0.771,
          0.389,
          0.564,
          0.652,
          0.633,
          0.481,
          0.257,
          0.364,
          0.438,
          0.648,
          0.592,
          0.864,
          0.891,
          0.226,
          0.55,
          0.529,
          0.897,
          0.385,
          0.736,
          0.434,
          0.581,
          0.818,
          0.425,
          0.617,
          0.891,
          0.04,
          0.801,
          0.263,
          0.234,
          0.015,
          0.745,
          0.357,
          0.674,
          0.552,
          0.418,
          0.851,
          0.749,
          0.621,
          0.163,
          0.696,
          0.859,
          0.178,
          0.878,
          0.567,
          0.183,
          0.761,
          0.903,
          0.902,
          0.14,
          0.175,
          0.389,
          0.193,
          0.461,
          0.76,
          0.709,
          0.288,
          0.151,
          0.306,
          0.53,
          0.101,
          0.877,
          0.805,
          0.863,
          0.211,
          0.746,
          0.212,
          0.15,
          0.113,
          0.334,
          0.293
         ],
         "xaxis": "x",
         "y": [
          0,
          0,
          0,
          2,
          6,
          0,
          0,
          3,
          0,
          0,
          0,
          1,
          0,
          0,
          0,
          0,
          3,
          0,
          681,
          28,
          0,
          209,
          3,
          244,
          3,
          0,
          171,
          0,
          0,
          16,
          1,
          0,
          0,
          0,
          1356,
          0,
          0,
          0,
          0,
          143,
          0,
          0,
          0,
          0,
          0,
          1330,
          0,
          0,
          11,
          0,
          0,
          0,
          14,
          4,
          0,
          2,
          0,
          0,
          0,
          2,
          2,
          0,
          0,
          0,
          212,
          15,
          6,
          525,
          0,
          9,
          0,
          0,
          0,
          0,
          0,
          59,
          0,
          0,
          0,
          0,
          10,
          0,
          0,
          11,
          0,
          0,
          0,
          0,
          1,
          0,
          566,
          0,
          0,
          0,
          13,
          0,
          0,
          0,
          709,
          41,
          0,
          1,
          0,
          0,
          1,
          371,
          2102,
          0,
          322,
          0,
          0,
          1,
          0,
          280,
          0,
          0,
          0,
          0,
          6,
          4,
          2,
          0,
          0,
          0,
          0,
          0,
          0,
          0,
          0,
          885,
          7,
          0,
          56,
          0,
          0,
          160,
          0,
          0,
          1,
          973,
          0,
          24,
          18,
          0,
          0,
          5,
          34,
          0,
          20,
          8,
          0,
          6,
          12,
          0,
          0,
          0,
          14,
          0,
          903,
          0,
          1
         ],
         "yaxis": "y"
        },
        {
         "hovertemplate": "<b>OLS trendline</b><br>terrorism_deaths = -190.711 * demo_index + 177.886<br>R<sup>2</sup>=0.033079<br><br>demo_index=%{x}<br>terrorism_deaths=%{y} <b>(trend)</b><extra></extra>",
         "legendgroup": "",
         "marker": {
          "symbol": "circle"
         },
         "mode": "lines",
         "name": "",
         "showlegend": false,
         "type": "scatter",
         "x": [
          0.015,
          0.04,
          0.069,
          0.076,
          0.101,
          0.113,
          0.119,
          0.126,
          0.132,
          0.14,
          0.15,
          0.151,
          0.163,
          0.169,
          0.174,
          0.175,
          0.175,
          0.178,
          0.178,
          0.183,
          0.19,
          0.193,
          0.194,
          0.195,
          0.211,
          0.212,
          0.212,
          0.226,
          0.234,
          0.246,
          0.254,
          0.255,
          0.257,
          0.261,
          0.263,
          0.269,
          0.271,
          0.272,
          0.288,
          0.288,
          0.291,
          0.293,
          0.306,
          0.311,
          0.32,
          0.326,
          0.332,
          0.334,
          0.356,
          0.356,
          0.357,
          0.362,
          0.364,
          0.374,
          0.376,
          0.38,
          0.383,
          0.385,
          0.385,
          0.389,
          0.389,
          0.404,
          0.417,
          0.418,
          0.418,
          0.423,
          0.425,
          0.434,
          0.438,
          0.439,
          0.46,
          0.461,
          0.474,
          0.481,
          0.498,
          0.506,
          0.508,
          0.527,
          0.529,
          0.53,
          0.536,
          0.541,
          0.55,
          0.552,
          0.556,
          0.556,
          0.564,
          0.567,
          0.571,
          0.581,
          0.592,
          0.593,
          0.594,
          0.595,
          0.599,
          0.615,
          0.617,
          0.621,
          0.628,
          0.63,
          0.633,
          0.634,
          0.637,
          0.639,
          0.646,
          0.648,
          0.652,
          0.669,
          0.674,
          0.687,
          0.696,
          0.709,
          0.727,
          0.731,
          0.736,
          0.745,
          0.746,
          0.749,
          0.76,
          0.761,
          0.765,
          0.771,
          0.786,
          0.799,
          0.801,
          0.803,
          0.805,
          0.809,
          0.814,
          0.814,
          0.818,
          0.822,
          0.822,
          0.823,
          0.832,
          0.836,
          0.839,
          0.851,
          0.854,
          0.854,
          0.854,
          0.855,
          0.859,
          0.863,
          0.864,
          0.872,
          0.874,
          0.876,
          0.877,
          0.878,
          0.881,
          0.887,
          0.89,
          0.891,
          0.891,
          0.893,
          0.897,
          0.899,
          0.902,
          0.903,
          0.914
         ],
         "xaxis": "x",
         "y": [
          175.0250293993923,
          170.25724614353845,
          164.72661756674802,
          163.39163825510894,
          158.62385499925512,
          156.3353190364453,
          155.19105105504036,
          153.8560717434013,
          152.71180376199638,
          151.18611312012314,
          149.27899981778162,
          149.08828848754746,
          146.7997525247376,
          145.6554845433327,
          144.70192789216193,
          144.5112165619278,
          144.5112165619278,
          143.93908257122533,
          143.93908257122533,
          142.98552592005456,
          141.65054660841548,
          141.078412617713,
          140.88770128747888,
          140.6969899572447,
          137.64560867349826,
          137.45489734326412,
          137.45489734326412,
          134.78493871998597,
          133.25924807811276,
          130.97071211530292,
          129.44502147342968,
          129.25431014319554,
          128.8728874827272,
          128.1100421617906,
          127.7286195013223,
          126.58435151991739,
          126.20292885944907,
          126.01221752921492,
          122.96083624546847,
          122.96083624546847,
          122.38870225476602,
          122.00727959429771,
          119.52803230125372,
          118.57447565008295,
          116.85807367797557,
          115.71380569657066,
          114.56953771516572,
          114.18811505469742,
          109.99246578954606,
          109.99246578954606,
          109.80175445931191,
          108.84819780814114,
          108.46677514767283,
          106.5596618453313,
          106.17823918486299,
          105.41539386392638,
          104.84325987322391,
          104.46183721275561,
          104.46183721275561,
          103.698991891819,
          103.698991891819,
          100.8383219383067,
          98.35907464526272,
          98.16836331502856,
          98.16836331502856,
          97.2148066638578,
          96.83338400338948,
          95.1169820312821,
          94.3541367103455,
          94.16342538011135,
          90.15848744519413,
          89.96777611495997,
          87.48852882191599,
          86.15354951027692,
          82.9114568962963,
          81.38576625442307,
          81.00434359395477,
          77.38082831950585,
          76.99940565903755,
          76.8086943288034,
          75.66442634739848,
          74.7108696962277,
          72.99446772412033,
          72.61304506365202,
          71.8501997427154,
          71.8501997427154,
          70.3245091008422,
          69.75237511013974,
          68.98952978920313,
          67.08241648686159,
          64.98459185428591,
          64.79388052405176,
          64.6031691938176,
          64.41245786358346,
          63.649612542646835,
          60.598231258900384,
          60.21680859843208,
          59.45396327749546,
          58.11898396585639,
          57.737561305388084,
          57.165427314685616,
          56.974715984451464,
          56.40258199374901,
          56.02115933328071,
          54.68618002164163,
          54.304757361173316,
          53.54191204023671,
          50.29981942625611,
          49.346262775085336,
          46.86701548204135,
          45.150613509933976,
          42.67136621688999,
          39.23856227267524,
          38.475716951738605,
          37.52216030056783,
          35.805758328460456,
          35.61504699822632,
          35.04291300752385,
          32.94508837494817,
          32.754377044714005,
          31.9915317237774,
          30.84726374237249,
          27.986593788860176,
          25.507346495816194,
          25.12592383534789,
          24.74450117487956,
          24.363078514411256,
          23.60023319347465,
          22.646676542303908,
          22.646676542303908,
          21.883831221367302,
          21.120985900430668,
          21.120985900430668,
          20.93027457019653,
          19.213872598089154,
          18.45102727715252,
          17.87889328645008,
          15.590357323640234,
          15.018223332937765,
          15.018223332937765,
          15.018223332937765,
          14.827512002703628,
          14.064666681766994,
          13.301821360830388,
          13.111110030596222,
          11.585419388723011,
          11.203996728254708,
          10.822574067786405,
          10.63186273755224,
          10.441151407318102,
          9.869017416615634,
          8.724749435210697,
          8.152615444508257,
          7.961904114274091,
          7.961904114274091,
          7.580481453805788,
          6.817636132869183,
          6.43621347240088,
          5.864079481698411,
          5.673368151464246,
          3.5755435188885656
         ],
         "yaxis": "y"
        }
       ],
       "layout": {
        "coloraxis": {
         "colorbar": {
          "title": {
           "text": "terrorism_deaths"
          }
         },
         "colorscale": [
          [
           0,
           "#0d0887"
          ],
          [
           0.1111111111111111,
           "#46039f"
          ],
          [
           0.2222222222222222,
           "#7201a8"
          ],
          [
           0.3333333333333333,
           "#9c179e"
          ],
          [
           0.4444444444444444,
           "#bd3786"
          ],
          [
           0.5555555555555556,
           "#d8576b"
          ],
          [
           0.6666666666666666,
           "#ed7953"
          ],
          [
           0.7777777777777778,
           "#fb9f3a"
          ],
          [
           0.8888888888888888,
           "#fdca26"
          ],
          [
           1,
           "#f0f921"
          ]
         ]
        },
        "legend": {
         "tracegroupgap": 0
        },
        "template": {
         "data": {
          "bar": [
           {
            "error_x": {
             "color": "#f2f5fa"
            },
            "error_y": {
             "color": "#f2f5fa"
            },
            "marker": {
             "line": {
              "color": "rgb(17,17,17)",
              "width": 0.5
             },
             "pattern": {
              "fillmode": "overlay",
              "size": 10,
              "solidity": 0.2
             }
            },
            "type": "bar"
           }
          ],
          "barpolar": [
           {
            "marker": {
             "line": {
              "color": "rgb(17,17,17)",
              "width": 0.5
             },
             "pattern": {
              "fillmode": "overlay",
              "size": 10,
              "solidity": 0.2
             }
            },
            "type": "barpolar"
           }
          ],
          "carpet": [
           {
            "aaxis": {
             "endlinecolor": "#A2B1C6",
             "gridcolor": "#506784",
             "linecolor": "#506784",
             "minorgridcolor": "#506784",
             "startlinecolor": "#A2B1C6"
            },
            "baxis": {
             "endlinecolor": "#A2B1C6",
             "gridcolor": "#506784",
             "linecolor": "#506784",
             "minorgridcolor": "#506784",
             "startlinecolor": "#A2B1C6"
            },
            "type": "carpet"
           }
          ],
          "choropleth": [
           {
            "colorbar": {
             "outlinewidth": 0,
             "ticks": ""
            },
            "type": "choropleth"
           }
          ],
          "contour": [
           {
            "colorbar": {
             "outlinewidth": 0,
             "ticks": ""
            },
            "colorscale": [
             [
              0,
              "#0d0887"
             ],
             [
              0.1111111111111111,
              "#46039f"
             ],
             [
              0.2222222222222222,
              "#7201a8"
             ],
             [
              0.3333333333333333,
              "#9c179e"
             ],
             [
              0.4444444444444444,
              "#bd3786"
             ],
             [
              0.5555555555555556,
              "#d8576b"
             ],
             [
              0.6666666666666666,
              "#ed7953"
             ],
             [
              0.7777777777777778,
              "#fb9f3a"
             ],
             [
              0.8888888888888888,
              "#fdca26"
             ],
             [
              1,
              "#f0f921"
             ]
            ],
            "type": "contour"
           }
          ],
          "contourcarpet": [
           {
            "colorbar": {
             "outlinewidth": 0,
             "ticks": ""
            },
            "type": "contourcarpet"
           }
          ],
          "heatmap": [
           {
            "colorbar": {
             "outlinewidth": 0,
             "ticks": ""
            },
            "colorscale": [
             [
              0,
              "#0d0887"
             ],
             [
              0.1111111111111111,
              "#46039f"
             ],
             [
              0.2222222222222222,
              "#7201a8"
             ],
             [
              0.3333333333333333,
              "#9c179e"
             ],
             [
              0.4444444444444444,
              "#bd3786"
             ],
             [
              0.5555555555555556,
              "#d8576b"
             ],
             [
              0.6666666666666666,
              "#ed7953"
             ],
             [
              0.7777777777777778,
              "#fb9f3a"
             ],
             [
              0.8888888888888888,
              "#fdca26"
             ],
             [
              1,
              "#f0f921"
             ]
            ],
            "type": "heatmap"
           }
          ],
          "heatmapgl": [
           {
            "colorbar": {
             "outlinewidth": 0,
             "ticks": ""
            },
            "colorscale": [
             [
              0,
              "#0d0887"
             ],
             [
              0.1111111111111111,
              "#46039f"
             ],
             [
              0.2222222222222222,
              "#7201a8"
             ],
             [
              0.3333333333333333,
              "#9c179e"
             ],
             [
              0.4444444444444444,
              "#bd3786"
             ],
             [
              0.5555555555555556,
              "#d8576b"
             ],
             [
              0.6666666666666666,
              "#ed7953"
             ],
             [
              0.7777777777777778,
              "#fb9f3a"
             ],
             [
              0.8888888888888888,
              "#fdca26"
             ],
             [
              1,
              "#f0f921"
             ]
            ],
            "type": "heatmapgl"
           }
          ],
          "histogram": [
           {
            "marker": {
             "pattern": {
              "fillmode": "overlay",
              "size": 10,
              "solidity": 0.2
             }
            },
            "type": "histogram"
           }
          ],
          "histogram2d": [
           {
            "colorbar": {
             "outlinewidth": 0,
             "ticks": ""
            },
            "colorscale": [
             [
              0,
              "#0d0887"
             ],
             [
              0.1111111111111111,
              "#46039f"
             ],
             [
              0.2222222222222222,
              "#7201a8"
             ],
             [
              0.3333333333333333,
              "#9c179e"
             ],
             [
              0.4444444444444444,
              "#bd3786"
             ],
             [
              0.5555555555555556,
              "#d8576b"
             ],
             [
              0.6666666666666666,
              "#ed7953"
             ],
             [
              0.7777777777777778,
              "#fb9f3a"
             ],
             [
              0.8888888888888888,
              "#fdca26"
             ],
             [
              1,
              "#f0f921"
             ]
            ],
            "type": "histogram2d"
           }
          ],
          "histogram2dcontour": [
           {
            "colorbar": {
             "outlinewidth": 0,
             "ticks": ""
            },
            "colorscale": [
             [
              0,
              "#0d0887"
             ],
             [
              0.1111111111111111,
              "#46039f"
             ],
             [
              0.2222222222222222,
              "#7201a8"
             ],
             [
              0.3333333333333333,
              "#9c179e"
             ],
             [
              0.4444444444444444,
              "#bd3786"
             ],
             [
              0.5555555555555556,
              "#d8576b"
             ],
             [
              0.6666666666666666,
              "#ed7953"
             ],
             [
              0.7777777777777778,
              "#fb9f3a"
             ],
             [
              0.8888888888888888,
              "#fdca26"
             ],
             [
              1,
              "#f0f921"
             ]
            ],
            "type": "histogram2dcontour"
           }
          ],
          "mesh3d": [
           {
            "colorbar": {
             "outlinewidth": 0,
             "ticks": ""
            },
            "type": "mesh3d"
           }
          ],
          "parcoords": [
           {
            "line": {
             "colorbar": {
              "outlinewidth": 0,
              "ticks": ""
             }
            },
            "type": "parcoords"
           }
          ],
          "pie": [
           {
            "automargin": true,
            "type": "pie"
           }
          ],
          "scatter": [
           {
            "marker": {
             "line": {
              "color": "#283442"
             }
            },
            "type": "scatter"
           }
          ],
          "scatter3d": [
           {
            "line": {
             "colorbar": {
              "outlinewidth": 0,
              "ticks": ""
             }
            },
            "marker": {
             "colorbar": {
              "outlinewidth": 0,
              "ticks": ""
             }
            },
            "type": "scatter3d"
           }
          ],
          "scattercarpet": [
           {
            "marker": {
             "colorbar": {
              "outlinewidth": 0,
              "ticks": ""
             }
            },
            "type": "scattercarpet"
           }
          ],
          "scattergeo": [
           {
            "marker": {
             "colorbar": {
              "outlinewidth": 0,
              "ticks": ""
             }
            },
            "type": "scattergeo"
           }
          ],
          "scattergl": [
           {
            "marker": {
             "line": {
              "color": "#283442"
             }
            },
            "type": "scattergl"
           }
          ],
          "scattermapbox": [
           {
            "marker": {
             "colorbar": {
              "outlinewidth": 0,
              "ticks": ""
             }
            },
            "type": "scattermapbox"
           }
          ],
          "scatterpolar": [
           {
            "marker": {
             "colorbar": {
              "outlinewidth": 0,
              "ticks": ""
             }
            },
            "type": "scatterpolar"
           }
          ],
          "scatterpolargl": [
           {
            "marker": {
             "colorbar": {
              "outlinewidth": 0,
              "ticks": ""
             }
            },
            "type": "scatterpolargl"
           }
          ],
          "scatterternary": [
           {
            "marker": {
             "colorbar": {
              "outlinewidth": 0,
              "ticks": ""
             }
            },
            "type": "scatterternary"
           }
          ],
          "surface": [
           {
            "colorbar": {
             "outlinewidth": 0,
             "ticks": ""
            },
            "colorscale": [
             [
              0,
              "#0d0887"
             ],
             [
              0.1111111111111111,
              "#46039f"
             ],
             [
              0.2222222222222222,
              "#7201a8"
             ],
             [
              0.3333333333333333,
              "#9c179e"
             ],
             [
              0.4444444444444444,
              "#bd3786"
             ],
             [
              0.5555555555555556,
              "#d8576b"
             ],
             [
              0.6666666666666666,
              "#ed7953"
             ],
             [
              0.7777777777777778,
              "#fb9f3a"
             ],
             [
              0.8888888888888888,
              "#fdca26"
             ],
             [
              1,
              "#f0f921"
             ]
            ],
            "type": "surface"
           }
          ],
          "table": [
           {
            "cells": {
             "fill": {
              "color": "#506784"
             },
             "line": {
              "color": "rgb(17,17,17)"
             }
            },
            "header": {
             "fill": {
              "color": "#2a3f5f"
             },
             "line": {
              "color": "rgb(17,17,17)"
             }
            },
            "type": "table"
           }
          ]
         },
         "layout": {
          "annotationdefaults": {
           "arrowcolor": "#f2f5fa",
           "arrowhead": 0,
           "arrowwidth": 1
          },
          "autotypenumbers": "strict",
          "coloraxis": {
           "colorbar": {
            "outlinewidth": 0,
            "ticks": ""
           }
          },
          "colorscale": {
           "diverging": [
            [
             0,
             "#8e0152"
            ],
            [
             0.1,
             "#c51b7d"
            ],
            [
             0.2,
             "#de77ae"
            ],
            [
             0.3,
             "#f1b6da"
            ],
            [
             0.4,
             "#fde0ef"
            ],
            [
             0.5,
             "#f7f7f7"
            ],
            [
             0.6,
             "#e6f5d0"
            ],
            [
             0.7,
             "#b8e186"
            ],
            [
             0.8,
             "#7fbc41"
            ],
            [
             0.9,
             "#4d9221"
            ],
            [
             1,
             "#276419"
            ]
           ],
           "sequential": [
            [
             0,
             "#0d0887"
            ],
            [
             0.1111111111111111,
             "#46039f"
            ],
            [
             0.2222222222222222,
             "#7201a8"
            ],
            [
             0.3333333333333333,
             "#9c179e"
            ],
            [
             0.4444444444444444,
             "#bd3786"
            ],
            [
             0.5555555555555556,
             "#d8576b"
            ],
            [
             0.6666666666666666,
             "#ed7953"
            ],
            [
             0.7777777777777778,
             "#fb9f3a"
            ],
            [
             0.8888888888888888,
             "#fdca26"
            ],
            [
             1,
             "#f0f921"
            ]
           ],
           "sequentialminus": [
            [
             0,
             "#0d0887"
            ],
            [
             0.1111111111111111,
             "#46039f"
            ],
            [
             0.2222222222222222,
             "#7201a8"
            ],
            [
             0.3333333333333333,
             "#9c179e"
            ],
            [
             0.4444444444444444,
             "#bd3786"
            ],
            [
             0.5555555555555556,
             "#d8576b"
            ],
            [
             0.6666666666666666,
             "#ed7953"
            ],
            [
             0.7777777777777778,
             "#fb9f3a"
            ],
            [
             0.8888888888888888,
             "#fdca26"
            ],
            [
             1,
             "#f0f921"
            ]
           ]
          },
          "colorway": [
           "#636efa",
           "#EF553B",
           "#00cc96",
           "#ab63fa",
           "#FFA15A",
           "#19d3f3",
           "#FF6692",
           "#B6E880",
           "#FF97FF",
           "#FECB52"
          ],
          "font": {
           "color": "#f2f5fa"
          },
          "geo": {
           "bgcolor": "rgb(17,17,17)",
           "lakecolor": "rgb(17,17,17)",
           "landcolor": "rgb(17,17,17)",
           "showlakes": true,
           "showland": true,
           "subunitcolor": "#506784"
          },
          "hoverlabel": {
           "align": "left"
          },
          "hovermode": "closest",
          "mapbox": {
           "style": "dark"
          },
          "paper_bgcolor": "rgb(17,17,17)",
          "plot_bgcolor": "rgb(17,17,17)",
          "polar": {
           "angularaxis": {
            "gridcolor": "#506784",
            "linecolor": "#506784",
            "ticks": ""
           },
           "bgcolor": "rgb(17,17,17)",
           "radialaxis": {
            "gridcolor": "#506784",
            "linecolor": "#506784",
            "ticks": ""
           }
          },
          "scene": {
           "xaxis": {
            "backgroundcolor": "rgb(17,17,17)",
            "gridcolor": "#506784",
            "gridwidth": 2,
            "linecolor": "#506784",
            "showbackground": true,
            "ticks": "",
            "zerolinecolor": "#C8D4E3"
           },
           "yaxis": {
            "backgroundcolor": "rgb(17,17,17)",
            "gridcolor": "#506784",
            "gridwidth": 2,
            "linecolor": "#506784",
            "showbackground": true,
            "ticks": "",
            "zerolinecolor": "#C8D4E3"
           },
           "zaxis": {
            "backgroundcolor": "rgb(17,17,17)",
            "gridcolor": "#506784",
            "gridwidth": 2,
            "linecolor": "#506784",
            "showbackground": true,
            "ticks": "",
            "zerolinecolor": "#C8D4E3"
           }
          },
          "shapedefaults": {
           "line": {
            "color": "#f2f5fa"
           }
          },
          "sliderdefaults": {
           "bgcolor": "#C8D4E3",
           "bordercolor": "rgb(17,17,17)",
           "borderwidth": 1,
           "tickwidth": 0
          },
          "ternary": {
           "aaxis": {
            "gridcolor": "#506784",
            "linecolor": "#506784",
            "ticks": ""
           },
           "baxis": {
            "gridcolor": "#506784",
            "linecolor": "#506784",
            "ticks": ""
           },
           "bgcolor": "rgb(17,17,17)",
           "caxis": {
            "gridcolor": "#506784",
            "linecolor": "#506784",
            "ticks": ""
           }
          },
          "title": {
           "x": 0.05
          },
          "updatemenudefaults": {
           "bgcolor": "#506784",
           "borderwidth": 0
          },
          "xaxis": {
           "automargin": true,
           "gridcolor": "#283442",
           "linecolor": "#506784",
           "ticks": "",
           "title": {
            "standoff": 15
           },
           "zerolinecolor": "#283442",
           "zerolinewidth": 2
          },
          "yaxis": {
           "automargin": true,
           "gridcolor": "#283442",
           "linecolor": "#506784",
           "ticks": "",
           "title": {
            "standoff": 15
           },
           "zerolinecolor": "#283442",
           "zerolinewidth": 2
          }
         }
        },
        "title": {
         "text": "terrorism_deaths vs demo_index"
        },
        "xaxis": {
         "anchor": "y",
         "domain": [
          0,
          1
         ],
         "title": {
          "text": "demo_index"
         }
        },
        "yaxis": {
         "anchor": "x",
         "domain": [
          0,
          1
         ],
         "title": {
          "text": "terrorism_deaths"
         }
        }
       }
      }
     },
     "metadata": {},
     "output_type": "display_data"
    }
   ],
   "source": [
    "reg = px.scatter(df, x='demo_index', y='terrorism_deaths', template = 'plotly_dark',\n",
    "                  color='terrorism_deaths', trendline='ols', title= 'terrorism_deaths vs demo_index')\n",
    "reg.show()"
   ]
  },
  {
   "cell_type": "code",
   "execution_count": 43,
   "metadata": {},
   "outputs": [],
   "source": [
    "#%pip install statsmodels"
   ]
  }
 ],
 "metadata": {
  "kernelspec": {
   "display_name": "DataScience",
   "language": "python",
   "name": "python3"
  },
  "language_info": {
   "codemirror_mode": {
    "name": "ipython",
    "version": 3
   },
   "file_extension": ".py",
   "mimetype": "text/x-python",
   "name": "python",
   "nbconvert_exporter": "python",
   "pygments_lexer": "ipython3",
   "version": "3.11.5"
  }
 },
 "nbformat": 4,
 "nbformat_minor": 2
}

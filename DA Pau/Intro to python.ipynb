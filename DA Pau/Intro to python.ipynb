{
 "cells": [
  {
   "cell_type": "markdown",
   "id": "7f1193df",
   "metadata": {},
   "source": [
    "## Intro to python"
   ]
  },
  {
   "cell_type": "markdown",
   "id": "ccdc5817",
   "metadata": {},
   "source": [
    "## **print**\n",
    "***"
   ]
  },
  {
   "cell_type": "code",
   "execution_count": 1,
   "id": "3d66e7b7",
   "metadata": {},
   "outputs": [
    {
     "name": "stdout",
     "output_type": "stream",
     "text": [
      "Hello world!\n"
     ]
    }
   ],
   "source": [
    "print('Hello world!')"
   ]
  },
  {
   "cell_type": "code",
   "execution_count": 53,
   "id": "b92424c3",
   "metadata": {},
   "outputs": [
    {
     "data": {
      "text/plain": [
       "'Hello World'"
      ]
     },
     "execution_count": 53,
     "metadata": {},
     "output_type": "execute_result"
    }
   ],
   "source": [
    "text = 'Hello World'\n",
    "text"
   ]
  },
  {
   "cell_type": "code",
   "execution_count": 56,
   "id": "d7e93417",
   "metadata": {},
   "outputs": [
    {
     "ename": "TypeError",
     "evalue": "can only concatenate str (not \"int\") to str",
     "output_type": "error",
     "traceback": [
      "\u001b[1;31m---------------------------------------------------------------------------\u001b[0m",
      "\u001b[1;31mTypeError\u001b[0m                                 Traceback (most recent call last)",
      "Cell \u001b[1;32mIn [56], line 4\u001b[0m\n\u001b[0;32m      2\u001b[0m phrase \u001b[38;5;241m=\u001b[39m \u001b[38;5;124m'\u001b[39m\u001b[38;5;124mHello world, I am\u001b[39m\u001b[38;5;124m'\u001b[39m\n\u001b[0;32m      3\u001b[0m final_phrase \u001b[38;5;241m=\u001b[39m \u001b[38;5;124m'\u001b[39m\u001b[38;5;124myears old\u001b[39m\u001b[38;5;124m'\u001b[39m\n\u001b[1;32m----> 4\u001b[0m \u001b[38;5;28mprint\u001b[39m(\u001b[43mphrase\u001b[49m\u001b[43m \u001b[49m\u001b[38;5;241;43m+\u001b[39;49m\u001b[43m \u001b[49m\u001b[43mage\u001b[49m \u001b[38;5;241m+\u001b[39m final_phrase)\n",
      "\u001b[1;31mTypeError\u001b[0m: can only concatenate str (not \"int\") to str"
     ]
    }
   ],
   "source": [
    "age = 32\n",
    "phrase = 'Hello world, I am'\n",
    "final_phrase = 'years old'\n",
    "print(phrase + age + final_phrase)"
   ]
  },
  {
   "cell_type": "code",
   "execution_count": 66,
   "id": "c7624696",
   "metadata": {},
   "outputs": [
    {
     "name": "stdout",
     "output_type": "stream",
     "text": [
      "Hello world, I am32years old!\n"
     ]
    }
   ],
   "source": [
    "print(phrase + str(age) + final_phrase + '!')"
   ]
  },
  {
   "cell_type": "code",
   "execution_count": 67,
   "id": "4e19063e",
   "metadata": {},
   "outputs": [
    {
     "name": "stdout",
     "output_type": "stream",
     "text": [
      "Hello world, I am 32 years old!\n"
     ]
    }
   ],
   "source": [
    "print(phrase, str(age), final_phrase+ '!')"
   ]
  },
  {
   "cell_type": "code",
   "execution_count": 78,
   "id": "d0d60181",
   "metadata": {
    "scrolled": true
   },
   "outputs": [
    {
     "ename": "ValueError",
     "evalue": "Format specifier missing precision",
     "output_type": "error",
     "traceback": [
      "\u001b[1;31m---------------------------------------------------------------------------\u001b[0m",
      "\u001b[1;31mValueError\u001b[0m                                Traceback (most recent call last)",
      "Cell \u001b[1;32mIn [78], line 2\u001b[0m\n\u001b[0;32m      1\u001b[0m age \u001b[38;5;241m=\u001b[39m \u001b[38;5;241m32\u001b[39m\n\u001b[1;32m----> 2\u001b[0m f_string \u001b[38;5;241m=\u001b[39m \u001b[38;5;124mf\u001b[39m\u001b[38;5;124m'\u001b[39m\u001b[38;5;124mHello world, I am \u001b[39m\u001b[38;5;132;01m{\u001b[39;00mage\u001b[38;5;132;01m:\u001b[39;00m\u001b[38;5;124m2.f\u001b[39m\u001b[38;5;132;01m}\u001b[39;00m\u001b[38;5;124m years old!\u001b[39m\u001b[38;5;124m'\u001b[39m\n\u001b[0;32m      3\u001b[0m f_string\n",
      "\u001b[1;31mValueError\u001b[0m: Format specifier missing precision"
     ]
    }
   ],
   "source": [
    "age = 32\n",
    "f_string = f'Hello world, I am {age} years old!'\n",
    "f_string"
   ]
  },
  {
   "cell_type": "code",
   "execution_count": 80,
   "id": "0735308e",
   "metadata": {},
   "outputs": [
    {
     "name": "stdout",
     "output_type": "stream",
     "text": [
      "Hello world, I am 32 years 32old!\n"
     ]
    }
   ],
   "source": [
    "print('Hello world, I am {} years {}old!'.format(age, age), \n",
    "      sep='#')"
   ]
  },
  {
   "cell_type": "code",
   "execution_count": 83,
   "id": "78d11dee",
   "metadata": {},
   "outputs": [
    {
     "name": "stdout",
     "output_type": "stream",
     "text": [
      "The temperature is 3.33\n"
     ]
    }
   ],
   "source": [
    "print(f'The temperature is {3.33333:.2f}')"
   ]
  },
  {
   "cell_type": "code",
   "execution_count": 85,
   "id": "ce512cbb",
   "metadata": {},
   "outputs": [
    {
     "name": "stdout",
     "output_type": "stream",
     "text": [
      "Hello#world\n"
     ]
    }
   ],
   "source": [
    "print('Hello', 'world', sep='#')"
   ]
  },
  {
   "cell_type": "code",
   "execution_count": 88,
   "id": "b20755f9",
   "metadata": {},
   "outputs": [
    {
     "name": "stdout",
     "output_type": "stream",
     "text": [
      "Temperature: 30 C\n",
      "==============================\n",
      "PSI: 50 bar\n",
      "==============================\n",
      "Height: 1.72m\n",
      "==============================\n",
      "Age: 32 years old\n",
      "==============================\n"
     ]
    }
   ],
   "source": [
    "temp = 30\n",
    "psi = 50\n",
    "height = 1.72\n",
    "age = 32\n",
    "hr = '=' * 30\n",
    "print(f'Temperature: {temp} C')\n",
    "print(hr)\n",
    "print(f'PSI: {psi} bar')\n",
    "print(hr)\n",
    "print(f'Height: {height}m')\n",
    "print(hr)\n",
    "print(f'Age: {age} years old')\n",
    "print(hr)"
   ]
  },
  {
   "cell_type": "code",
   "execution_count": 89,
   "id": "5a0bdb79",
   "metadata": {},
   "outputs": [
    {
     "name": "stdout",
     "output_type": "stream",
     "text": [
      "      Temperature: 30 C       \n",
      "==============================\n",
      "         PSI: 50 bar          \n",
      "==============================\n",
      "        Height: 1.72m         \n",
      "==============================\n",
      "      Age: 32 years old       \n",
      "==============================\n"
     ]
    }
   ],
   "source": [
    "print(f'Temperature: {temp} C'.center(30))\n",
    "print(hr)\n",
    "print(f'PSI: {psi} bar'.center(30))\n",
    "print(hr)\n",
    "print(f'Height: {height}m'.center(30))\n",
    "print(hr)\n",
    "print(f'Age: {age} years old'.center(30))\n",
    "print(hr)"
   ]
  },
  {
   "cell_type": "code",
   "execution_count": 92,
   "id": "29d3f261",
   "metadata": {},
   "outputs": [
    {
     "name": "stdout",
     "output_type": "stream",
     "text": [
      "Temperature: 30 C\n",
      "==============================\n",
      "PSI: 50 bar\n",
      "==============================\n",
      "Height: 1.72m\n",
      "==============================\n",
      "Age: 32 years old\n",
      "==============================\n"
     ]
    }
   ],
   "source": [
    "print(f'Temperature: {temp} C\\n{hr}')\n",
    "print(f'PSI: {psi} bar\\n{hr}')\n",
    "print(f'Height: {height}m\\n{hr}')\n",
    "print(f'Age: {age} years old\\n{hr}')"
   ]
  },
  {
   "cell_type": "markdown",
   "id": "4d95a7ef",
   "metadata": {},
   "source": [
    "**Hello world,**<br>**I am 32 years old**<br>\n",
    "**I am mexican**<br>**I like Pizzas**<br>\n",
    "**I have a dog**"
   ]
  },
  {
   "cell_type": "code",
   "execution_count": 93,
   "id": "a44c4d41",
   "metadata": {},
   "outputs": [
    {
     "name": "stdout",
     "output_type": "stream",
     "text": [
      "hello\n",
      "world\n"
     ]
    }
   ],
   "source": [
    "print('hello\\nworld')"
   ]
  },
  {
   "cell_type": "code",
   "execution_count": 94,
   "id": "b9992c03",
   "metadata": {},
   "outputs": [
    {
     "name": "stdout",
     "output_type": "stream",
     "text": [
      "hello\n",
      "\tworld\n"
     ]
    }
   ],
   "source": [
    "print('hello\\n\\tworld')"
   ]
  },
  {
   "cell_type": "markdown",
   "id": "0397bf37",
   "metadata": {},
   "source": [
    "**Hello world,**\n",
    "\n",
    "     **I am 32 years old**\n",
    "\n",
    "     **I am mexican**\n",
    "\n",
    "     **I like Pizzas**<br>\n",
    "    \n",
    "**I have a dog**"
   ]
  },
  {
   "cell_type": "code",
   "execution_count": 97,
   "id": "90172b0e",
   "metadata": {},
   "outputs": [
    {
     "name": "stdout",
     "output_type": "stream",
     "text": [
      "Hello world\n",
      "this is a program to prove\n",
      "my model which accuracy was\n",
      "    accuracy:.99\n"
     ]
    }
   ],
   "source": [
    "text = '''Hello world\n",
    "this is a program to prove\n",
    "my model which accuracy was\n",
    "    accuracy:.99'''\n",
    "print(text)"
   ]
  },
  {
   "cell_type": "markdown",
   "id": "0fc77439",
   "metadata": {},
   "source": [
    "## **inputs**\n",
    "***"
   ]
  },
  {
   "cell_type": "markdown",
   "id": "3e163c05",
   "metadata": {},
   "source": [
    "* Intro to python\n",
    "* Intermediate Python\n",
    "* data science tools\n",
    "* intro to matplotlib\n",
    "* intro to seaborn\n",
    "* statistics for data science\n",
    "* intro to pandas\n",
    "* efficient code\n",
    "* data manipulation with pandas\n",
    "* Supervised learning\n",
    "* unsupervised learning\n",
    "* neural networks"
   ]
  },
  {
   "cell_type": "code",
   "execution_count": 3,
   "id": "00e535e6",
   "metadata": {},
   "outputs": [
    {
     "name": "stdout",
     "output_type": "stream",
     "text": [
      "**************************************************\n",
      "  ++++++++++     SUME CALCULATOR     ++++++++++   \n",
      "**************************************************\n",
      "This is a program to make a sume of two numbers!!!\n",
      "        please enter only numeric values:\n",
      "        \n",
      "                 enter a number:\n",
      "                 36\n",
      "               enter other number:\n",
      "               56\n",
      "          ==============================          \n",
      "             Sume of 36.0 + 56.0 is:              \n",
      "                       92.0                       \n"
     ]
    }
   ],
   "source": [
    "space = 50\n",
    "print('*'*space)\n",
    "print(f'{\"+\"*10}     SUME CALCULATOR     {\"+\"*10}'.center(space))\n",
    "print('*'*space)\n",
    "print('This is a program to make a sume of two numbers!!!'.center(space))\n",
    "print('please enter only numeric values:\\n'.center(space))\n",
    "num1 = float(input('enter a number:\\n'.center(space)))\n",
    "num2 = float(input('enter other number:\\n'.center(space)))\n",
    "print(f\"{'='*30}\".center(space))\n",
    "print(f'Sume of {num1} + {num2} is:'.center(space))\n",
    "print(f'{num1+num2}'.center(space))"
   ]
  },
  {
   "cell_type": "markdown",
   "id": "aba7287f",
   "metadata": {},
   "source": [
    "## **Python Zen**\n",
    "***"
   ]
  },
  {
   "cell_type": "code",
   "execution_count": 8,
   "id": "81cbf688",
   "metadata": {},
   "outputs": [],
   "source": [
    "import plotly.express as px\n",
    "import pandas as pd"
   ]
  },
  {
   "cell_type": "code",
   "execution_count": 7,
   "id": "766531a1",
   "metadata": {},
   "outputs": [
    {
     "data": {
      "text/html": [
       "<div>\n",
       "<style scoped>\n",
       "    .dataframe tbody tr th:only-of-type {\n",
       "        vertical-align: middle;\n",
       "    }\n",
       "\n",
       "    .dataframe tbody tr th {\n",
       "        vertical-align: top;\n",
       "    }\n",
       "\n",
       "    .dataframe thead th {\n",
       "        text-align: right;\n",
       "    }\n",
       "</style>\n",
       "<table border=\"1\" class=\"dataframe\">\n",
       "  <thead>\n",
       "    <tr style=\"text-align: right;\">\n",
       "      <th></th>\n",
       "      <th>sepal_length</th>\n",
       "      <th>sepal_width</th>\n",
       "      <th>petal_length</th>\n",
       "      <th>petal_width</th>\n",
       "      <th>species</th>\n",
       "      <th>species_id</th>\n",
       "    </tr>\n",
       "  </thead>\n",
       "  <tbody>\n",
       "    <tr>\n",
       "      <th>0</th>\n",
       "      <td>5.1</td>\n",
       "      <td>3.5</td>\n",
       "      <td>1.4</td>\n",
       "      <td>0.2</td>\n",
       "      <td>setosa</td>\n",
       "      <td>1</td>\n",
       "    </tr>\n",
       "    <tr>\n",
       "      <th>1</th>\n",
       "      <td>4.9</td>\n",
       "      <td>3.0</td>\n",
       "      <td>1.4</td>\n",
       "      <td>0.2</td>\n",
       "      <td>setosa</td>\n",
       "      <td>1</td>\n",
       "    </tr>\n",
       "    <tr>\n",
       "      <th>2</th>\n",
       "      <td>4.7</td>\n",
       "      <td>3.2</td>\n",
       "      <td>1.3</td>\n",
       "      <td>0.2</td>\n",
       "      <td>setosa</td>\n",
       "      <td>1</td>\n",
       "    </tr>\n",
       "    <tr>\n",
       "      <th>3</th>\n",
       "      <td>4.6</td>\n",
       "      <td>3.1</td>\n",
       "      <td>1.5</td>\n",
       "      <td>0.2</td>\n",
       "      <td>setosa</td>\n",
       "      <td>1</td>\n",
       "    </tr>\n",
       "    <tr>\n",
       "      <th>4</th>\n",
       "      <td>5.0</td>\n",
       "      <td>3.6</td>\n",
       "      <td>1.4</td>\n",
       "      <td>0.2</td>\n",
       "      <td>setosa</td>\n",
       "      <td>1</td>\n",
       "    </tr>\n",
       "  </tbody>\n",
       "</table>\n",
       "</div>"
      ],
      "text/plain": [
       "   sepal_length  sepal_width  petal_length  petal_width species  species_id\n",
       "0           5.1          3.5           1.4          0.2  setosa           1\n",
       "1           4.9          3.0           1.4          0.2  setosa           1\n",
       "2           4.7          3.2           1.3          0.2  setosa           1\n",
       "3           4.6          3.1           1.5          0.2  setosa           1\n",
       "4           5.0          3.6           1.4          0.2  setosa           1"
      ]
     },
     "execution_count": 7,
     "metadata": {},
     "output_type": "execute_result"
    }
   ],
   "source": [
    "iris = px.data.iris()\n",
    "iris.head()"
   ]
  },
  {
   "cell_type": "code",
   "execution_count": 12,
   "id": "f31e9ee2",
   "metadata": {},
   "outputs": [
    {
     "data": {
      "text/plain": [
       "0         No\n",
       "1         No\n",
       "2         No\n",
       "3         No\n",
       "4         No\n",
       "       ...  \n",
       "145        4\n",
       "146    prove\n",
       "147        4\n",
       "148    prove\n",
       "149    prove\n",
       "Name: sepal_length, Length: 150, dtype: category\n",
       "Categories (4, object): ['No' < 'Yes' < 'prove' < '4']"
      ]
     },
     "execution_count": 12,
     "metadata": {},
     "output_type": "execute_result"
    }
   ],
   "source": [
    "pd."
   ]
  },
  {
   "cell_type": "code",
   "execution_count": 69,
   "id": "8cd02196",
   "metadata": {},
   "outputs": [
    {
     "name": "stdout",
     "output_type": "stream",
     "text": [
      "The Zen of Python, by Tim Peters\n",
      "\n",
      "Beautiful is better than ugly.\n",
      "Explicit is better than implicit.\n",
      "Simple is better than complex.\n",
      "Complex is better than complicated.\n",
      "Flat is better than nested.\n",
      "Sparse is better than dense.\n",
      "Readability counts.\n",
      "Special cases aren't special enough to break the rules.\n",
      "Although practicality beats purity.\n",
      "Errors should never pass silently.\n",
      "Unless explicitly silenced.\n",
      "In the face of ambiguity, refuse the temptation to guess.\n",
      "There should be one-- and preferably only one --obvious way to do it.\n",
      "Although that way may not be obvious at first unless you're Dutch.\n",
      "Now is better than never.\n",
      "Although never is often better than *right* now.\n",
      "If the implementation is hard to explain, it's a bad idea.\n",
      "If the implementation is easy to explain, it may be a good idea.\n",
      "Namespaces are one honking great idea -- let's do more of those!\n"
     ]
    }
   ],
   "source": [
    "import this"
   ]
  },
  {
   "cell_type": "markdown",
   "id": "b1997836",
   "metadata": {},
   "source": [
    "## **Magic commands**\n",
    "***"
   ]
  },
  {
   "cell_type": "markdown",
   "id": "87ce828b",
   "metadata": {},
   "source": [
    "### Current directory"
   ]
  },
  {
   "cell_type": "code",
   "execution_count": 4,
   "id": "100068f3",
   "metadata": {},
   "outputs": [
    {
     "data": {
      "text/plain": [
       "'C:\\\\Users\\\\mo_si\\\\Documentos\\\\DS Chuy\\\\DA Pau'"
      ]
     },
     "execution_count": 4,
     "metadata": {},
     "output_type": "execute_result"
    }
   ],
   "source": [
    "%pwd"
   ]
  },
  {
   "cell_type": "markdown",
   "id": "c64ed247",
   "metadata": {},
   "source": [
    "### Directory Files list"
   ]
  },
  {
   "cell_type": "code",
   "execution_count": 5,
   "id": "9f059724",
   "metadata": {
    "scrolled": true
   },
   "outputs": [
    {
     "name": "stdout",
     "output_type": "stream",
     "text": [
      " El volumen de la unidad C es Reservado para el sistema\n",
      " El n£mero de serie del volumen es: 4C76-9FAE\n",
      "\n",
      " Directorio de C:\\Users\\mo_si\\Documentos\\DS Chuy\\DA Pau\n",
      "\n",
      "02/05/2023  17:41    <DIR>          .\n",
      "02/05/2023  17:41    <DIR>          ..\n",
      "02/05/2023  17:11    <DIR>          .ipynb_checkpoints\n",
      "18/04/2023  17:02         8,834,482 Deforest analysis.ipynb\n",
      "12/04/2023  01:40            37,380 edu_chunk.csv\n",
      "18/04/2023  19:22            60,445 forest_clean.csv\n",
      "02/05/2023  17:41            22,658 Intro to python.ipynb\n",
      "27/04/2023  19:01         1,767,731 Python Intermediate.ipynb\n",
      "21/04/2023  19:19         5,935,681 Untitled.ipynb\n",
      "02/05/2023  17:25               920 Untitled1.ipynb\n",
      "               7 archivos     16,659,297 bytes\n",
      "               3 dirs  175,076,610,048 bytes libres\n"
     ]
    }
   ],
   "source": [
    "%ls"
   ]
  },
  {
   "cell_type": "markdown",
   "id": "47a8cbe4",
   "metadata": {},
   "source": [
    "### Change and Return directory"
   ]
  },
  {
   "cell_type": "code",
   "execution_count": null,
   "id": "dd75b68d",
   "metadata": {},
   "outputs": [],
   "source": [
    "%cd dire"
   ]
  },
  {
   "cell_type": "code",
   "execution_count": 8,
   "id": "53774b43",
   "metadata": {},
   "outputs": [
    {
     "name": "stdout",
     "output_type": "stream",
     "text": [
      "C:\\Users\\mo_si\\Documentos\\DS Chuy\\DA Pau\n"
     ]
    }
   ],
   "source": [
    "%cd .. "
   ]
  },
  {
   "cell_type": "markdown",
   "id": "39211dff",
   "metadata": {},
   "source": [
    "### Create new folder"
   ]
  },
  {
   "cell_type": "code",
   "execution_count": 9,
   "id": "99d34585",
   "metadata": {},
   "outputs": [
    {
     "name": "stdout",
     "output_type": "stream",
     "text": [
      " El volumen de la unidad C es Reservado para el sistema\n",
      " El n£mero de serie del volumen es: 4C76-9FAE\n",
      "\n",
      " Directorio de C:\\Users\\mo_si\\Documentos\\DS Chuy\\DA Pau\n",
      "\n",
      "02/05/2023  17:56    <DIR>          .\n",
      "02/05/2023  17:56    <DIR>          ..\n",
      "02/05/2023  17:11    <DIR>          .ipynb_checkpoints\n",
      "18/04/2023  17:02         8,834,482 Deforest analysis.ipynb\n",
      "02/05/2023  17:44    <DIR>          dir1\n",
      "02/05/2023  17:56    <DIR>          dir2\n",
      "12/04/2023  01:40            37,380 edu_chunk.csv\n",
      "18/04/2023  19:22            60,445 forest_clean.csv\n",
      "02/05/2023  17:55            24,468 Intro to python.ipynb\n",
      "27/04/2023  19:01         1,767,731 Python Intermediate.ipynb\n",
      "21/04/2023  19:19         5,935,681 Untitled.ipynb\n",
      "02/05/2023  17:25               920 Untitled1.ipynb\n",
      "               7 archivos     16,661,107 bytes\n",
      "               5 dirs  175,073,558,528 bytes libres\n"
     ]
    }
   ],
   "source": [
    "%mkdir dir2\n",
    "%ls"
   ]
  },
  {
   "cell_type": "markdown",
   "id": "8a6eb1dc",
   "metadata": {},
   "source": [
    "### Save file"
   ]
  },
  {
   "cell_type": "code",
   "execution_count": 11,
   "id": "31eb926f",
   "metadata": {},
   "outputs": [
    {
     "name": "stdout",
     "output_type": "stream",
     "text": [
      "Overwriting dir1/text.txt\n"
     ]
    }
   ],
   "source": [
    "%%file dir1/text.txt\n",
    "Jupyter Notebook is an open-source web application that allows you to create and share documents that contain live code, equations, visualizations, and narrative text. It is a powerful tool that supports a variety of programming languages, including Python, R, and Julia, making it an ideal environment for data analysis, machine learning, and scientific computing.\n",
    "\n",
    "One of the main advantages of Jupyter Notebook is its ability to combine code and documentation in a single document, allowing you to create interactive and dynamic reports. This is made possible through the use of cells, which can contain code, markdown text, or raw text. The code cells can be executed individually, and their output is displayed directly below the cell.\n",
    "\n",
    "Jupyter Notebook also provides a rich set of tools and features that make it easy to manipulate data, explore datasets, and generate visualizations. For example, you can use the pandas library to import, clean, and analyze data, and then use matplotlib or seaborn to create plots and charts.\n",
    "\n",
    "Another great feature of Jupyter Notebook is its support for extensions and plugins, which allow you to customize the interface and add new functionality. There are a wide variety of extensions available, including tools for version control, code formatting, and keyboard shortcuts.\n",
    "\n",
    "Jupyter Notebook has become an essential tool for many data scientists, researchers, and educators, as it provides a flexible and intuitive environment for exploring and sharing data. Whether you are working on a personal project, collaborating with colleagues, or teaching a class, Jupyter Notebook is a powerful and versatile tool that can help you achieve your goals."
   ]
  },
  {
   "cell_type": "code",
   "execution_count": 12,
   "id": "f846a50a",
   "metadata": {},
   "outputs": [
    {
     "name": "stdout",
     "output_type": "stream",
     "text": [
      "Writing dir2/sume.py\n"
     ]
    }
   ],
   "source": [
    "%%writefile dir2/sume.py\n",
    "space = 50\n",
    "print('*'*space)\n",
    "print('SUME CALCULATOR'.center(space))\n",
    "print('*'*space)\n",
    "print('This is a program to make a sume of two numbers!!!'.center(space))\n",
    "print('please enter only numeric values:\\n'.center(space))\n",
    "num1 = float(input('enter a number:\\n'.center(space)))\n",
    "num2 = float(input('enter other number:\\n'.center(space)))\n",
    "print(f\"{'='*30}\".center(space))\n",
    "print(f'Sume of {num1} + {num2} is:'.center(space))\n",
    "print(f'{num1+num2}'.center(space))"
   ]
  },
  {
   "cell_type": "markdown",
   "id": "39e2733c",
   "metadata": {},
   "source": [
    "### Run py files"
   ]
  },
  {
   "cell_type": "code",
   "execution_count": 13,
   "id": "b47c314f",
   "metadata": {},
   "outputs": [
    {
     "name": "stdout",
     "output_type": "stream",
     "text": [
      "**************************************************\n",
      "                 SUME CALCULATOR                  \n",
      "**************************************************\n",
      "This is a program to make a sume of two numbers!!!\n",
      "        please enter only numeric values:\n",
      "        \n",
      "                 enter a number:\n",
      "                 3\n",
      "               enter other number:\n",
      "               3\n",
      "          ==============================          \n",
      "              Sume of 3.0 + 3.0 is:               \n",
      "                       6.0                        \n"
     ]
    }
   ],
   "source": [
    "%run dir2/sume.py"
   ]
  },
  {
   "cell_type": "markdown",
   "id": "55c68eb3",
   "metadata": {},
   "source": [
    "### Load files"
   ]
  },
  {
   "cell_type": "code",
   "execution_count": 14,
   "id": "286dc076",
   "metadata": {},
   "outputs": [],
   "source": [
    "%pycat dir1/text.txt"
   ]
  },
  {
   "cell_type": "code",
   "execution_count": 16,
   "id": "dca4bc42",
   "metadata": {},
   "outputs": [],
   "source": [
    "%pycat https://github.com/ChuyMendoza333/DS-commits/raw/main/Python/Intro%20to%20python/text.txt"
   ]
  },
  {
   "cell_type": "code",
   "execution_count": 15,
   "id": "daf1846b",
   "metadata": {},
   "outputs": [],
   "source": [
    "%pycat dir2/sume.py"
   ]
  },
  {
   "cell_type": "code",
   "execution_count": null,
   "id": "c2bd3cb3",
   "metadata": {},
   "outputs": [],
   "source": [
    "# %load dir1/text.txt\n",
    "Jupyter Notebook is an open-source web application that allows you to create and share documents that contain live code, equations, visualizations, and narrative text. It is a powerful tool that supports a variety of programming languages, including Python, R, and Julia, making it an ideal environment for data analysis, machine learning, and scientific computing.\n",
    "\n",
    "One of the main advantages of Jupyter Notebook is its ability to combine code and documentation in a single document, allowing you to create interactive and dynamic reports. This is made possible through the use of cells, which can contain code, markdown text, or raw text. The code cells can be executed individually, and their output is displayed directly below the cell.\n",
    "\n",
    "Jupyter Notebook also provides a rich set of tools and features that make it easy to manipulate data, explore datasets, and generate visualizations. For example, you can use the pandas library to import, clean, and analyze data, and then use matplotlib or seaborn to create plots and charts.\n",
    "\n",
    "Another great feature of Jupyter Notebook is its support for extensions and plugins, which allow you to customize the interface and add new functionality. There are a wide variety of extensions available, including tools for version control, code formatting, and keyboard shortcuts.\n",
    "\n",
    "Jupyter Notebook has become an essential tool for many data scientists, researchers, and educators, as it provides a flexible and intuitive environment for exploring and sharing data. Whether you are working on a personal project, collaborating with colleagues, or teaching a class, Jupyter Notebook is a powerful and versatile tool that can help you achieve your goals.\n"
   ]
  },
  {
   "cell_type": "code",
   "execution_count": null,
   "id": "2f3379f4",
   "metadata": {},
   "outputs": [],
   "source": [
    "# %load dir2/sume.py\n",
    "space = 50\n",
    "print('*'*space)\n",
    "print('SUME CALCULATOR'.center(space))\n",
    "print('*'*space)\n",
    "print('This is a program to make a sume of two numbers!!!'.center(space))\n",
    "print('please enter only numeric values:\\n'.center(space))\n",
    "num1 = float(input('enter a number:\\n'.center(space)))\n",
    "num2 = float(input('enter other number:\\n'.center(space)))\n",
    "print(f\"{'='*30}\".center(space))\n",
    "print(f'Sume of {num1} + {num2} is:'.center(space))\n",
    "print(f'{num1+num2}'.center(space))\n"
   ]
  },
  {
   "cell_type": "code",
   "execution_count": null,
   "id": "318ddbac",
   "metadata": {},
   "outputs": [],
   "source": [
    "# %load https://github.com/ChuyMendoza333/DS-commits/raw/main/Python/Intro%20to%20python/text.txt\n",
    "Jupyter Notebook is an open-source web application that allows you to create and share documents that contain live code, equations, visualizations, and narrative text. It is a powerful tool that supports a variety of programming languages, including Python, R, and Julia, making it an ideal environment for data analysis, machine learning, and scientific computing.\n",
    "\n",
    "One of the main advantages of Jupyter Notebook is its ability to combine code and documentation in a single document, allowing you to create interactive and dynamic reports. This is made possible through the use of cells, which can contain code, markdown text, or raw text. The code cells can be executed individually, and their output is displayed directly below the cell.\n",
    "\n",
    "Jupyter Notebook also provides a rich set of tools and features that make it easy to manipulate data, explore datasets, and generate visualizations. For example, you can use the pandas library to import, clean, and analyze data, and then use matplotlib or seaborn to create plots and charts.\n",
    "\n",
    "Another great feature of Jupyter Notebook is its support for extensions and plugins, which allow you to customize the interface and add new functionality. There are a wide variety of extensions available, including tools for version control, code formatting, and keyboard shortcuts.\n",
    "\n",
    "Jupyter Notebook has become an essential tool for many data scientists, researchers, and educators, as it provides a flexible and intuitive environment for exploring and sharing data. Whether you are working on a personal project, collaborating with colleagues, or teaching a class, Jupyter Notebook is a powerful and versatile tool that can help you achieve your goals.\n"
   ]
  },
  {
   "cell_type": "markdown",
   "id": "f4a79da3",
   "metadata": {},
   "source": [
    "### Explore variables"
   ]
  },
  {
   "cell_type": "code",
   "execution_count": 20,
   "id": "9d8feacc",
   "metadata": {},
   "outputs": [],
   "source": [
    "a = 'a'\n",
    "b = 2\n",
    "c = True"
   ]
  },
  {
   "cell_type": "markdown",
   "id": "0149dfc5",
   "metadata": {},
   "source": [
    "#### Variables"
   ]
  },
  {
   "cell_type": "code",
   "execution_count": 21,
   "id": "bae92112",
   "metadata": {},
   "outputs": [
    {
     "name": "stdout",
     "output_type": "stream",
     "text": [
      "a\t b\t c\t num1\t num2\t space\t \n"
     ]
    }
   ],
   "source": [
    "%who"
   ]
  },
  {
   "cell_type": "markdown",
   "id": "251367d7",
   "metadata": {},
   "source": [
    "#### Variables info"
   ]
  },
  {
   "cell_type": "code",
   "execution_count": 22,
   "id": "1233693c",
   "metadata": {},
   "outputs": [
    {
     "name": "stdout",
     "output_type": "stream",
     "text": [
      "Variable   Type     Data/Info\n",
      "-----------------------------\n",
      "a          str      a\n",
      "b          int      2\n",
      "c          bool     True\n",
      "num1       float    3.0\n",
      "num2       float    3.0\n",
      "space      int      50\n"
     ]
    }
   ],
   "source": [
    "%whos"
   ]
  },
  {
   "cell_type": "markdown",
   "id": "b196412a",
   "metadata": {},
   "source": [
    "#### Variables list"
   ]
  },
  {
   "cell_type": "code",
   "execution_count": 23,
   "id": "222511f7",
   "metadata": {},
   "outputs": [
    {
     "data": {
      "text/plain": [
       "['a', 'b', 'c', 'num1', 'num2', 'space']"
      ]
     },
     "execution_count": 23,
     "metadata": {},
     "output_type": "execute_result"
    }
   ],
   "source": [
    "%who_ls"
   ]
  },
  {
   "cell_type": "markdown",
   "id": "b47c4767",
   "metadata": {},
   "source": [
    "### String methods"
   ]
  },
  {
   "cell_type": "code",
   "execution_count": 4,
   "id": "403f30e6",
   "metadata": {},
   "outputs": [
    {
     "name": "stdout",
     "output_type": "stream",
     "text": [
      "hola mundo\n",
      "Hola mundo\n",
      "Hola Mundo\n"
     ]
    }
   ],
   "source": [
    "words = 'Hola mundo'\n",
    "words_low = words.lower()\n",
    "words_cap = words.capitalize()\n",
    "words_title = words.title()\n",
    "print(words_low)\n",
    "print(words_cap)\n",
    "print(words_title)"
   ]
  },
  {
   "cell_type": "markdown",
   "id": "24dd8325",
   "metadata": {},
   "source": [
    "### History"
   ]
  },
  {
   "cell_type": "code",
   "execution_count": 24,
   "id": "c321b4de",
   "metadata": {},
   "outputs": [
    {
     "name": "stdout",
     "output_type": "stream",
     "text": [
      "space = 50\n",
      "print('*'*space)\n",
      "print(f'{\"+\"*10}     SUME CALCULATOR     {\"+\"*10}'.center(space))\n",
      "print('*'*space)\n",
      "print('This is a program to make a sume of two numbers!!!'.center(space))\n",
      "print('please enter only numeric values:\\n'.center(space))\n",
      "num1 = float(input('enter a number:\\n'.center(space)))\n",
      "num2 = float(input('enter other number:\\n'.center(space)))\n",
      "print(f\"{'='*30}\".center(space))\n",
      "print(f'Sume of {num1} + {num2} is:'.center(space))\n",
      "print(f'{num1+num2}'.center(space))\n",
      "%%html\n",
      "<style>\n",
      "p {text-align: justify !important;\n",
      "    #color: OldLace;\n",
      "  line-height: 129%;}\n",
      "b { text-align: justify;\n",
      "    color: Cyan;} \n",
      "strong { color: LightGreen;\n",
      "       }\n",
      "mark { background-color: gainsboro;\n",
      "  color: crimson;\n",
      "  padding: 0 0.05em;\n",
      "  border: 1px solid #orange ;\n",
      "  border-radius: 2px;\n",
      "  font-weight: bold;}   \n",
      "ul {text-align: justify !important;\n",
      "    color: LightSkyBlue;}    \n",
      "i {text-align: justify !important;\n",
      "    color: DeepPink !important;}\n",
      "em {    text-align: justify;\n",
      "    color: Yellow;}\n",
      "dl {text-align: center !important;\n",
      "    background-color: lawngreen;#LightGreen;\n",
      "    padding: 1.5em 1.5em;\n",
      "    color: black;\n",
      "    font-weight: bold;}   \n",
      "href { text-aligne: center;\n",
      "    color: yellow;\n",
      "    font-weight: bold;}\n",
      "h1 { text-align: center !important;\n",
      "    color: orange;\n",
      " font-size: 40px !important;\n",
      " font-weight: bold !important;}\n",
      "h2 {text-align: center !important;\n",
      "     font-size: 36px !important;\n",
      "     font-weight: bold !important;}\n",
      "h3 { text-align: center !important;\n",
      "    font-size: 32px !important;\n",
      " font-weight: bold !important;}\n",
      "h4 { text-align: left !important;\n",
      "   font-size: 28px !important;}\n",
      "\n",
      "hr { border-top: 7px dotted DarkOrange; !important;\n",
      " #border: 2px solid Fuchsia;\n",
      " border-radius: 6px;}\n",
      "div {\n",
      "    color: Fuchsia;\n",
      "    font-weight: bold; !important;\n",
      "    }\n",
      "</style>\n",
      "space = 50\n",
      "print('*'*space)\n",
      "print(f'{\"+\"*10}     SUME CALCULATOR     {\"+\"*10}'.center(space))\n",
      "print('*'*space)\n",
      "print('This is a program to make a sume of two numbers!!!'.center(space))\n",
      "print('please enter only numeric values:\\n'.center(space))\n",
      "num1 = float(input('enter a number:\\n'.center(space)))\n",
      "num2 = float(input('enter other number:\\n'.center(space)))\n",
      "print(f\"{'='*30}\".center(space))\n",
      "print(f'Sume of {num1} + {num2} is:'.center(space))\n",
      "print(f'{num1+num2}'.center(space))\n",
      "%pwd\n",
      "%ls\n",
      "%cd files\n",
      "%cd dir1\n",
      "%cd ..\n",
      "%mkdir dir2\n",
      "%ls\n",
      "%%file dir1/text.txt\n",
      "Jupyter Notebook is an open-source web application that allows you to create and share documents that contain live code, equations, visualizations, and narrative text. It is a powerful tool that supports a variety of programming languages, including Python, R, and Julia, making it an ideal environment for data analysis, machine learning, and scientific computing.\n",
      "\n",
      "One of the main advantages of Jupyter Notebook is its ability to combine code and documentation in a single document, allowing you to create interactive and dynamic reports. This is made possible through the use of cells, which can contain code, markdown text, or raw text. The code cells can be executed individually, and their output is displayed directly below the cell.\n",
      "\n",
      "Jupyter Notebook also provides a rich set of tools and features that make it easy to manipulate data, explore datasets, and generate visualizations. For example, you can use the pandas library to import, clean, and analyze data, and then use matplotlib or seaborn to create plots and charts.\n",
      "\n",
      "Another great feature of Jupyter Notebook is its support for extensions and plugins, which allow you to customize the interface and add new functionality. There are a wide variety of extensions available, including tools for version control, code formatting, and keyboard shortcuts.\n",
      "\n",
      "Jupyter Notebook has become an essential tool for many data scientists, researchers, and educators, as it provides a flexible and intuitive environment for exploring and sharing data. Whether you are working on a personal project, collaborating with colleagues, or teaching a class, Jupyter Notebook is a powerful and versatile tool that can help you achieve your goals.\n",
      "%%file dir1/text.txt\n",
      "Jupyter Notebook is an open-source web application that allows you to create and share documents that contain live code, equations, visualizations, and narrative text. It is a powerful tool that supports a variety of programming languages, including Python, R, and Julia, making it an ideal environment for data analysis, machine learning, and scientific computing.\n",
      "\n",
      "One of the main advantages of Jupyter Notebook is its ability to combine code and documentation in a single document, allowing you to create interactive and dynamic reports. This is made possible through the use of cells, which can contain code, markdown text, or raw text. The code cells can be executed individually, and their output is displayed directly below the cell.\n",
      "\n",
      "Jupyter Notebook also provides a rich set of tools and features that make it easy to manipulate data, explore datasets, and generate visualizations. For example, you can use the pandas library to import, clean, and analyze data, and then use matplotlib or seaborn to create plots and charts.\n",
      "\n",
      "Another great feature of Jupyter Notebook is its support for extensions and plugins, which allow you to customize the interface and add new functionality. There are a wide variety of extensions available, including tools for version control, code formatting, and keyboard shortcuts.\n",
      "\n",
      "Jupyter Notebook has become an essential tool for many data scientists, researchers, and educators, as it provides a flexible and intuitive environment for exploring and sharing data. Whether you are working on a personal project, collaborating with colleagues, or teaching a class, Jupyter Notebook is a powerful and versatile tool that can help you achieve your goals.\n",
      "%%writefile dir2/sume.py\n",
      "space = 50\n",
      "print('*'*space)\n",
      "print('SUME CALCULATOR'.center(space))\n",
      "print('*'*space)\n",
      "print('This is a program to make a sume of two numbers!!!'.center(space))\n",
      "print('please enter only numeric values:\\n'.center(space))\n",
      "num1 = float(input('enter a number:\\n'.center(space)))\n",
      "num2 = float(input('enter other number:\\n'.center(space)))\n",
      "print(f\"{'='*30}\".center(space))\n",
      "print(f'Sume of {num1} + {num2} is:'.center(space))\n",
      "print(f'{num1+num2}'.center(space))\n",
      "%run dir2/sume.py\n",
      "%pycat dir1/text.txt\n",
      "%pycat dir2/sume.py\n",
      "%pycat https://github.com/ChuyMendoza333/DS-commits/raw/main/Python/Intro%20to%20python/text.txt\n",
      "%load dir1/text.txt\n",
      "%load dir2/sume.py\n",
      "%load https://github.com/ChuyMendoza333/DS-commits/raw/main/Python/Intro%20to%20python/text.txt\n",
      "a = 'a'\n",
      "b = 2\n",
      "c = True\n",
      "%who\n",
      "%whos\n",
      "%who_ls\n",
      "%history\n"
     ]
    }
   ],
   "source": [
    "%history"
   ]
  },
  {
   "cell_type": "markdown",
   "id": "5929d4d9",
   "metadata": {},
   "source": [
    "## Variables types"
   ]
  },
  {
   "cell_type": "markdown",
   "id": "98a5ec36",
   "metadata": {},
   "source": [
    "#### Operators"
   ]
  },
  {
   "cell_type": "code",
   "execution_count": null,
   "id": "dde88d7c",
   "metadata": {},
   "outputs": [],
   "source": [
    "num = 4\n",
    "num2 = 6\n",
    "sume = num + num2\n",
    "rest = num - num2\n",
    "mult = num * num2\n",
    "div = num / num2\n",
    "power = num ** num2\n",
    "root = num ** (1/num2)\n",
    "print(f'La suma de {num} y {num2} es {sume}.')\n",
    "print(f'La resta de {num} y {num2} es {rest}.')\n",
    "print(f'La multiplicacion de {num} y {num2} es {mult}.')\n",
    "print(f'La division de {num} entre {num2} es {div}.')\n",
    "print(f'{num} elevado a {num2} es {power}.')\n",
    "print(f'La raiz {num2} de {num} es {root}.')"
   ]
  },
  {
   "cell_type": "code",
   "execution_count": 28,
   "id": "9b27d6cc",
   "metadata": {},
   "outputs": [
    {
     "data": {
      "text/plain": [
       "1"
      ]
     },
     "execution_count": 28,
     "metadata": {},
     "output_type": "execute_result"
    }
   ],
   "source": [
    "6//6"
   ]
  },
  {
   "cell_type": "code",
   "execution_count": 29,
   "id": "94f90277",
   "metadata": {},
   "outputs": [
    {
     "data": {
      "text/plain": [
       "6"
      ]
     },
     "execution_count": 29,
     "metadata": {},
     "output_type": "execute_result"
    }
   ],
   "source": [
    "abs(-6)"
   ]
  },
  {
   "cell_type": "code",
   "execution_count": 30,
   "id": "91dba10b",
   "metadata": {},
   "outputs": [
    {
     "data": {
      "text/plain": [
       "8"
      ]
     },
     "execution_count": 30,
     "metadata": {},
     "output_type": "execute_result"
    }
   ],
   "source": [
    "pow(2,3)"
   ]
  },
  {
   "cell_type": "code",
   "execution_count": 37,
   "id": "f05054c3",
   "metadata": {},
   "outputs": [
    {
     "data": {
      "text/plain": [
       "15"
      ]
     },
     "execution_count": 37,
     "metadata": {},
     "output_type": "execute_result"
    }
   ],
   "source": [
    "int(str(1111), 2)"
   ]
  },
  {
   "cell_type": "code",
   "execution_count": 39,
   "id": "0a43e2a1",
   "metadata": {},
   "outputs": [
    {
     "data": {
      "text/plain": [
       "(1, 1)"
      ]
     },
     "execution_count": 39,
     "metadata": {},
     "output_type": "execute_result"
    }
   ],
   "source": [
    "divmod(6,5)"
   ]
  },
  {
   "cell_type": "markdown",
   "id": "34538eb7",
   "metadata": {},
   "source": [
    "### String Variables"
   ]
  },
  {
   "cell_type": "code",
   "execution_count": 40,
   "id": "21e6a406",
   "metadata": {},
   "outputs": [],
   "source": [
    "var1 = 'Hello!'\n",
    "var2 = 'WoRld python'"
   ]
  },
  {
   "cell_type": "code",
   "execution_count": 41,
   "id": "a55549c0",
   "metadata": {},
   "outputs": [
    {
     "data": {
      "text/plain": [
       "'Hello!WoRld python'"
      ]
     },
     "execution_count": 41,
     "metadata": {},
     "output_type": "execute_result"
    }
   ],
   "source": [
    "var1+var2"
   ]
  },
  {
   "cell_type": "code",
   "execution_count": 5,
   "id": "c4e6195c",
   "metadata": {},
   "outputs": [
    {
     "data": {
      "text/plain": [
       "True"
      ]
     },
     "execution_count": 5,
     "metadata": {},
     "output_type": "execute_result"
    }
   ],
   "source": [
    "words.islower()"
   ]
  },
  {
   "cell_type": "code",
   "execution_count": 6,
   "id": "1f567956",
   "metadata": {},
   "outputs": [
    {
     "data": {
      "text/plain": [
       "False"
      ]
     },
     "execution_count": 6,
     "metadata": {},
     "output_type": "execute_result"
    }
   ],
   "source": [
    "words.isupper()"
   ]
  },
  {
   "cell_type": "code",
   "execution_count": 42,
   "id": "358b1699",
   "metadata": {},
   "outputs": [
    {
     "data": {
      "text/plain": [
       "False"
      ]
     },
     "execution_count": 42,
     "metadata": {},
     "output_type": "execute_result"
    }
   ],
   "source": [
    "'a' in var1"
   ]
  },
  {
   "cell_type": "code",
   "execution_count": 43,
   "id": "caa9d041",
   "metadata": {},
   "outputs": [
    {
     "data": {
      "text/plain": [
       "2"
      ]
     },
     "execution_count": 43,
     "metadata": {},
     "output_type": "execute_result"
    }
   ],
   "source": [
    "var1.count('l')"
   ]
  },
  {
   "cell_type": "code",
   "execution_count": 49,
   "id": "0d4e7a13",
   "metadata": {},
   "outputs": [
    {
     "data": {
      "text/plain": [
       "True"
      ]
     },
     "execution_count": 49,
     "metadata": {},
     "output_type": "execute_result"
    }
   ],
   "source": [
    "var1.startswith('H')"
   ]
  },
  {
   "cell_type": "code",
   "execution_count": 50,
   "id": "d3187a81",
   "metadata": {},
   "outputs": [
    {
     "data": {
      "text/plain": [
       "False"
      ]
     },
     "execution_count": 50,
     "metadata": {},
     "output_type": "execute_result"
    }
   ],
   "source": [
    "var1.endswith('o')"
   ]
  },
  {
   "cell_type": "code",
   "execution_count": 53,
   "id": "c27ab393",
   "metadata": {},
   "outputs": [
    {
     "data": {
      "text/plain": [
       "0"
      ]
     },
     "execution_count": 53,
     "metadata": {},
     "output_type": "execute_result"
    }
   ],
   "source": [
    "var1.index('H')"
   ]
  },
  {
   "cell_type": "code",
   "execution_count": 55,
   "id": "b60c9a6c",
   "metadata": {},
   "outputs": [
    {
     "data": {
      "text/plain": [
       "-1"
      ]
     },
     "execution_count": 55,
     "metadata": {},
     "output_type": "execute_result"
    }
   ],
   "source": [
    "var1.find('x')"
   ]
  },
  {
   "cell_type": "code",
   "execution_count": 56,
   "id": "1030c36e",
   "metadata": {},
   "outputs": [],
   "source": [
    "palindrome = 'Anita lava la tina'"
   ]
  },
  {
   "cell_type": "code",
   "execution_count": 58,
   "id": "201d970a",
   "metadata": {},
   "outputs": [
    {
     "data": {
      "text/plain": [
       "'Anita '"
      ]
     },
     "execution_count": 58,
     "metadata": {},
     "output_type": "execute_result"
    }
   ],
   "source": [
    "palindrome[:6]"
   ]
  },
  {
   "cell_type": "code",
   "execution_count": 59,
   "id": "a6fb3667",
   "metadata": {},
   "outputs": [
    {
     "data": {
      "text/plain": [
       "'Aia'"
      ]
     },
     "execution_count": 59,
     "metadata": {},
     "output_type": "execute_result"
    }
   ],
   "source": [
    "palindrome[:6:2]"
   ]
  },
  {
   "cell_type": "code",
   "execution_count": 60,
   "id": "36f673c2",
   "metadata": {},
   "outputs": [
    {
     "data": {
      "text/plain": [
       "'Aialv atn'"
      ]
     },
     "execution_count": 60,
     "metadata": {},
     "output_type": "execute_result"
    }
   ],
   "source": [
    "palindrome[::2]"
   ]
  },
  {
   "cell_type": "code",
   "execution_count": 61,
   "id": "43e62e2f",
   "metadata": {},
   "outputs": [
    {
     "data": {
      "text/plain": [
       "'anit al aval atinA'"
      ]
     },
     "execution_count": 61,
     "metadata": {},
     "output_type": "execute_result"
    }
   ],
   "source": [
    "palindrome[::-1]"
   ]
  },
  {
   "cell_type": "code",
   "execution_count": 62,
   "id": "09a7cd34",
   "metadata": {},
   "outputs": [
    {
     "data": {
      "text/plain": [
       "'H e l l o !'"
      ]
     },
     "execution_count": 62,
     "metadata": {},
     "output_type": "execute_result"
    }
   ],
   "source": [
    "new_var = 'H e l l o !'\n",
    "new_var"
   ]
  },
  {
   "cell_type": "code",
   "execution_count": 76,
   "id": "db7f03f3",
   "metadata": {},
   "outputs": [
    {
     "data": {
      "text/plain": [
       "['H', 'e', 'l', 'l', 'o', '!']"
      ]
     },
     "execution_count": 76,
     "metadata": {},
     "output_type": "execute_result"
    }
   ],
   "source": [
    "list1 = new_var.split(' ')\n",
    "list1"
   ]
  },
  {
   "cell_type": "code",
   "execution_count": 66,
   "id": "be155eb9",
   "metadata": {},
   "outputs": [
    {
     "name": "stdout",
     "output_type": "stream",
     "text": [
      "3\n",
      "5\n"
     ]
    }
   ],
   "source": [
    "a, b,c = 3,5,3\n",
    "print(a)\n",
    "print(b)"
   ]
  },
  {
   "cell_type": "code",
   "execution_count": 71,
   "id": "c0e33ebd",
   "metadata": {},
   "outputs": [
    {
     "data": {
      "text/plain": [
       "'Hello!'"
      ]
     },
     "execution_count": 71,
     "metadata": {},
     "output_type": "execute_result"
    }
   ],
   "source": [
    "char1,char2,char3, char4, char5, char6 = list1\n",
    "char1+char2+char3+char4+char5+char6"
   ]
  },
  {
   "cell_type": "code",
   "execution_count": 77,
   "id": "32df0f0a",
   "metadata": {},
   "outputs": [
    {
     "data": {
      "text/plain": [
       "'Hello!'"
      ]
     },
     "execution_count": 77,
     "metadata": {},
     "output_type": "execute_result"
    }
   ],
   "source": [
    "''.join(list1)"
   ]
  },
  {
   "cell_type": "code",
   "execution_count": 78,
   "id": "1cfadb44",
   "metadata": {},
   "outputs": [
    {
     "data": {
      "text/plain": [
       "['H', 'e', 'l', 'l', 'o', '!']"
      ]
     },
     "execution_count": 78,
     "metadata": {},
     "output_type": "execute_result"
    }
   ],
   "source": [
    "list('Hello!')"
   ]
  },
  {
   "cell_type": "code",
   "execution_count": 79,
   "id": "518a6638",
   "metadata": {},
   "outputs": [
    {
     "data": {
      "text/plain": [
       "'Hello!'"
      ]
     },
     "execution_count": 79,
     "metadata": {},
     "output_type": "execute_result"
    }
   ],
   "source": [
    "new_var.replace(' ','')"
   ]
  },
  {
   "cell_type": "code",
   "execution_count": 82,
   "id": "6a7e952c",
   "metadata": {},
   "outputs": [
    {
     "data": {
      "text/plain": [
       "'H|space|e|space|l|space|l|space|o|space|!'"
      ]
     },
     "execution_count": 82,
     "metadata": {},
     "output_type": "execute_result"
    }
   ],
   "source": [
    "new_var.replace(' ','|space|')"
   ]
  },
  {
   "cell_type": "code",
   "execution_count": 85,
   "id": "7912cb2e",
   "metadata": {},
   "outputs": [
    {
     "data": {
      "text/plain": [
       "'Hello World!'"
      ]
     },
     "execution_count": 85,
     "metadata": {},
     "output_type": "execute_result"
    }
   ],
   "source": [
    "space_string = '      Hello       World!    '\n",
    "space_string.strip().replace(' ','').replace('W',' W')"
   ]
  },
  {
   "attachments": {
    "image.png": {
     "image/png": "[encoded data removed]"
    }
   },
   "cell_type": "markdown",
   "id": "f1a1d3a3",
   "metadata": {},
   "source": [
    "![image.png](attachment:image.png)"
   ]
  },
  {
   "cell_type": "markdown",
   "id": "e2dbe2d1",
   "metadata": {},
   "source": [
    "### python lists"
   ]
  },
  {
   "cell_type": "code",
   "execution_count": 13,
   "id": "116943a9",
   "metadata": {},
   "outputs": [
    {
     "data": {
      "text/plain": [
       "[1, True, 'a']"
      ]
     },
     "execution_count": 13,
     "metadata": {},
     "output_type": "execute_result"
    }
   ],
   "source": [
    "list1 = [1, True, 'a']\n",
    "list1"
   ]
  },
  {
   "cell_type": "code",
   "execution_count": 28,
   "id": "ed16b381",
   "metadata": {},
   "outputs": [
    {
     "data": {
      "text/plain": [
       "[11.25, 18.0, 20.0, 10.75, 9.5]"
      ]
     },
     "execution_count": 28,
     "metadata": {},
     "output_type": "execute_result"
    }
   ],
   "source": [
    "list3 = [11.25, 18.0, 20.0, 10.75, 9.5]\n",
    "list3"
   ]
  },
  {
   "cell_type": "code",
   "execution_count": 29,
   "id": "4781e8d8",
   "metadata": {},
   "outputs": [
    {
     "data": {
      "text/plain": [
       "5"
      ]
     },
     "execution_count": 29,
     "metadata": {},
     "output_type": "execute_result"
    }
   ],
   "source": [
    "len(list3)"
   ]
  },
  {
   "cell_type": "code",
   "execution_count": 30,
   "id": "7faccf54",
   "metadata": {},
   "outputs": [
    {
     "data": {
      "text/plain": [
       "11.25"
      ]
     },
     "execution_count": 30,
     "metadata": {},
     "output_type": "execute_result"
    }
   ],
   "source": [
    "hall,kit,liv,bed,bath = list3\n",
    "hall"
   ]
  },
  {
   "cell_type": "code",
   "execution_count": 32,
   "id": "c8bbd415",
   "metadata": {},
   "outputs": [
    {
     "name": "stdout",
     "output_type": "stream",
     "text": [
      "['hallway', 11.25, 'kitchen', 18.0, 'living room', 20.0, 'bedroom', 10.75, 'bathroom', 9.5]\n"
     ]
    }
   ],
   "source": [
    "areas = ['hallway', hall, 'kitchen', kit,\n",
    "        'living room', liv, 'bedroom', bed,\n",
    "        'bathroom', bath]\n",
    "print(areas)"
   ]
  },
  {
   "cell_type": "code",
   "execution_count": 27,
   "id": "52a916f5",
   "metadata": {},
   "outputs": [
    {
     "ename": "NameError",
     "evalue": "name 'hall' is not defined",
     "output_type": "error",
     "traceback": [
      "\u001b[1;31m---------------------------------------------------------------------------\u001b[0m",
      "\u001b[1;31mNameError\u001b[0m                                 Traceback (most recent call last)",
      "Cell \u001b[1;32mIn [27], line 1\u001b[0m\n\u001b[1;32m----> 1\u001b[0m list1 \u001b[38;5;241m=\u001b[39m [\u001b[43mhall\u001b[49m, kit, liv, bed, bath]\n\u001b[0;32m      2\u001b[0m list2 \u001b[38;5;241m=\u001b[39m [\u001b[38;5;124m'\u001b[39m\u001b[38;5;124mhallway\u001b[39m\u001b[38;5;124m'\u001b[39m, \u001b[38;5;124m'\u001b[39m\u001b[38;5;124mkitchen\u001b[39m\u001b[38;5;124m'\u001b[39m, \u001b[38;5;124m'\u001b[39m\u001b[38;5;124mliving room\u001b[39m\u001b[38;5;124m'\u001b[39m,\n\u001b[0;32m      3\u001b[0m         \u001b[38;5;124m'\u001b[39m\u001b[38;5;124mbedroom\u001b[39m\u001b[38;5;124m'\u001b[39m, \u001b[38;5;124m'\u001b[39m\u001b[38;5;124mbathroom\u001b[39m\u001b[38;5;124m'\u001b[39m]\n\u001b[0;32m      4\u001b[0m areas2 \u001b[38;5;241m=\u001b[39m [\u001b[38;5;241m*\u001b[39m\u001b[38;5;28mrange\u001b[39m(\u001b[38;5;241m10\u001b[39m)]\n",
      "\u001b[1;31mNameError\u001b[0m: name 'hall' is not defined"
     ]
    }
   ],
   "source": [
    "list1 = [hall, kit, liv, bed, bath]\n",
    "list2 = ['hallway', 'kitchen', 'living room',\n",
    "        'bedroom', 'bathroom']\n",
    "areas2 = [*range(10)]\n",
    "areas2[::2] = list2\n",
    "areas2[1::2] = list1\n",
    "print(areas2)"
   ]
  },
  {
   "cell_type": "code",
   "execution_count": 35,
   "id": "0d7d044f",
   "metadata": {
    "scrolled": true
   },
   "outputs": [
    {
     "name": "stdout",
     "output_type": "stream",
     "text": [
      "['hallway', 11.25, 'kitchen', 18.0, 'living room', 20.0]\n",
      "['bedroom', 10.75, 'bathroom', 9.5]\n"
     ]
    }
   ],
   "source": [
    "downstairs = areas2[:6]\n",
    "upstairs = areas2[-4:]\n",
    "print(downstairs)\n",
    "print(upstairs)"
   ]
  },
  {
   "cell_type": "code",
   "execution_count": 10,
   "id": "bc3fd47f",
   "metadata": {
    "scrolled": true
   },
   "outputs": [
    {
     "name": "stdout",
     "output_type": "stream",
     "text": [
      "[['hallway', 11.25], ['kitchen', 18.0], ['living room', 20.0]]\n",
      "==================================================\n",
      "[['bedroom', 10.75], ['bathroom', 9.5]]\n"
     ]
    }
   ],
   "source": [
    "downstairs = house[:3]\n",
    "upstairs = house[3:]\n",
    "print(downstairs)\n",
    "print('='*50)\n",
    "print(upstairs)"
   ]
  },
  {
   "cell_type": "markdown",
   "id": "201a67ea",
   "metadata": {},
   "source": [
    "### list of list"
   ]
  },
  {
   "cell_type": "code",
   "execution_count": 20,
   "id": "04b5f557",
   "metadata": {},
   "outputs": [],
   "source": [
    "house= [['hallway', 11.25],\n",
    " ['kitchen', 18.0],\n",
    " ['living room', 20.0],\n",
    " ['bedroom', 10.75],\n",
    " ['bathroom', 9.5]]"
   ]
  },
  {
   "cell_type": "code",
   "execution_count": 3,
   "id": "8e30b362",
   "metadata": {},
   "outputs": [
    {
     "data": {
      "text/plain": [
       "20.0"
      ]
     },
     "execution_count": 3,
     "metadata": {},
     "output_type": "execute_result"
    }
   ],
   "source": [
    "house[2][1]"
   ]
  },
  {
   "cell_type": "code",
   "execution_count": 53,
   "id": "8a01d188",
   "metadata": {},
   "outputs": [
    {
     "data": {
      "text/plain": [
       "2"
      ]
     },
     "execution_count": 53,
     "metadata": {},
     "output_type": "execute_result"
    }
   ],
   "source": [
    "int(str(house[2][1])[0])"
   ]
  },
  {
   "cell_type": "code",
   "execution_count": 5,
   "id": "92a17632",
   "metadata": {},
   "outputs": [],
   "source": [
    "# import itertools\n",
    "# cols = ['col1','col2','col3','col3','col4']\n",
    "# pairs = [list(i) for i in itertools.combinations(cols,2)]\n",
    "# [pairs[0][0],pairs[0][1]]"
   ]
  },
  {
   "cell_type": "code",
   "execution_count": 4,
   "id": "a05b9f8c",
   "metadata": {},
   "outputs": [],
   "source": [
    "# for pair in pairs:\n",
    "#     x,y = pair[0], pair[1]\n",
    "#     print(x,y)    \n",
    "# #     plt.plot(x=x, y=y)\n",
    "# #     plt.show()"
   ]
  },
  {
   "cell_type": "markdown",
   "id": "ffd07d41",
   "metadata": {},
   "source": [
    "### Manipulating List"
   ]
  },
  {
   "cell_type": "code",
   "execution_count": 25,
   "id": "22958749",
   "metadata": {},
   "outputs": [],
   "source": [
    "areas = ['hallway', 11.25, 'kitchen', 18.0, 'living room', \n",
    "         20.0, 'bedroom', 10.75, 'bathroom', 9.5]\n"
   ]
  },
  {
   "cell_type": "code",
   "execution_count": 36,
   "id": "151753e1",
   "metadata": {},
   "outputs": [
    {
     "data": {
      "text/plain": [
       "['hallway',\n",
       " 11.25,\n",
       " 'kitchen',\n",
       " 18.0,\n",
       " 'chill zone',\n",
       " 20.0,\n",
       " 'bedroom',\n",
       " 10.75,\n",
       " 'bathroom',\n",
       " 10.5]"
      ]
     },
     "execution_count": 36,
     "metadata": {},
     "output_type": "execute_result"
    }
   ],
   "source": [
    "areas[-1] = 10.5\n",
    "areas[4] = 'chill zone'\n",
    "areas"
   ]
  },
  {
   "cell_type": "code",
   "execution_count": 38,
   "id": "5823f6b4",
   "metadata": {},
   "outputs": [
    {
     "data": {
      "text/plain": [
       "['hall',\n",
       " 11.4,\n",
       " 'kitchen2',\n",
       " 19,\n",
       " 'living room',\n",
       " 20.0,\n",
       " 'bedroom',\n",
       " 10.75,\n",
       " 'bathroom',\n",
       " 10.5]"
      ]
     },
     "execution_count": 38,
     "metadata": {},
     "output_type": "execute_result"
    }
   ],
   "source": [
    "areas[:5] = ['hall', 11.4, 'kitchen2', 19, 'living room']\n",
    "areas"
   ]
  },
  {
   "cell_type": "markdown",
   "id": "6749dcfc",
   "metadata": {},
   "source": [
    "### Extend a list"
   ]
  },
  {
   "cell_type": "code",
   "execution_count": 39,
   "id": "d5660b60",
   "metadata": {},
   "outputs": [
    {
     "data": {
      "text/plain": [
       "['hall',\n",
       " 11.4,\n",
       " 'kitchen2',\n",
       " 19,\n",
       " 'living room',\n",
       " 20.0,\n",
       " 'bedroom',\n",
       " 10.75,\n",
       " 'bathroom',\n",
       " 10.5,\n",
       " 'polhouse',\n",
       " 15.45,\n",
       " 'garage',\n",
       " 24.5]"
      ]
     },
     "execution_count": 39,
     "metadata": {},
     "output_type": "execute_result"
    }
   ],
   "source": [
    "areas_1 = areas + ['polhouse', 15.45]\n",
    "areas_2 = areas_1 + ['garage', 24.5]\n",
    "areas_2"
   ]
  },
  {
   "cell_type": "code",
   "execution_count": 42,
   "id": "0c069b91",
   "metadata": {},
   "outputs": [
    {
     "data": {
      "text/plain": [
       "['hall',\n",
       " 11.4,\n",
       " 'kitchen2',\n",
       " 19,\n",
       " 'living room',\n",
       " 20.0,\n",
       " 'bedroom',\n",
       " 10.75,\n",
       " 'bathroom',\n",
       " 10.5,\n",
       " 'new value',\n",
       " 'new value',\n",
       " 'new value']"
      ]
     },
     "execution_count": 42,
     "metadata": {},
     "output_type": "execute_result"
    }
   ],
   "source": [
    "areas.append('new value')\n",
    "areas"
   ]
  },
  {
   "cell_type": "code",
   "execution_count": 43,
   "id": "ead09c00",
   "metadata": {
    "scrolled": true
   },
   "outputs": [
    {
     "data": {
      "text/plain": [
       "['hall',\n",
       " 11.4,\n",
       " 'kitchen2',\n",
       " 19,\n",
       " 'living room',\n",
       " 20.0,\n",
       " 'bedroom',\n",
       " 10.75,\n",
       " 'bathroom',\n",
       " 10.5,\n",
       " 'new value',\n",
       " 'new value',\n",
       " 'new value',\n",
       " 1,\n",
       " 2,\n",
       " 3]"
      ]
     },
     "execution_count": 43,
     "metadata": {},
     "output_type": "execute_result"
    }
   ],
   "source": [
    "areas.extend([1,2,3])\n",
    "areas"
   ]
  },
  {
   "cell_type": "markdown",
   "id": "ccda6ef0",
   "metadata": {},
   "source": [
    "### working with copies"
   ]
  },
  {
   "cell_type": "code",
   "execution_count": 44,
   "id": "b53d924a",
   "metadata": {},
   "outputs": [
    {
     "data": {
      "text/plain": [
       "[1, 18.0, 20.0, 10.75, 9.5]"
      ]
     },
     "execution_count": 44,
     "metadata": {},
     "output_type": "execute_result"
    }
   ],
   "source": [
    "areas = [11.25, 18.0, 20.0, 10.75, 9.50]\n",
    "areas2 = areas\n",
    "areas2[0] = 1\n",
    "areas2"
   ]
  },
  {
   "cell_type": "code",
   "execution_count": 111,
   "id": "0ad4534e",
   "metadata": {},
   "outputs": [
    {
     "name": "stdout",
     "output_type": "stream",
     "text": [
      "real => [11.25, 18.0, 20.0, 10.75, 9.5]\n",
      "copy => [1, 18.0, 20.0, 10.75, 9.5]\n"
     ]
    }
   ],
   "source": [
    "areas = [11.25, 18.0, 20.0, 10.75, 9.50]\n",
    "areas_copy = areas.copy()#[:]\n",
    "areas_copy[0] = 1\n",
    "print(f'real => {areas}')\n",
    "print(f'copy => {areas_copy}')"
   ]
  },
  {
   "cell_type": "code",
   "execution_count": 112,
   "id": "a4f38a9c",
   "metadata": {},
   "outputs": [],
   "source": [
    "del areas[areas.index(9.5)]"
   ]
  },
  {
   "cell_type": "code",
   "execution_count": 109,
   "id": "7ffd0d48",
   "metadata": {},
   "outputs": [
    {
     "data": {
      "text/plain": [
       "[18.0, 20.0, 10.75]"
      ]
     },
     "execution_count": 109,
     "metadata": {},
     "output_type": "execute_result"
    }
   ],
   "source": [
    "areas"
   ]
  },
  {
   "cell_type": "code",
   "execution_count": 114,
   "id": "b50349a8",
   "metadata": {},
   "outputs": [
    {
     "data": {
      "text/plain": [
       "[10.75, 20.0, 18.0, 11.25]"
      ]
     },
     "execution_count": 114,
     "metadata": {},
     "output_type": "execute_result"
    }
   ],
   "source": [
    "[*reversed(areas)]"
   ]
  },
  {
   "cell_type": "code",
   "execution_count": 119,
   "id": "26c3580d",
   "metadata": {},
   "outputs": [],
   "source": [
    "areas.reverse()"
   ]
  },
  {
   "cell_type": "code",
   "execution_count": 120,
   "id": "f4f0879b",
   "metadata": {},
   "outputs": [
    {
     "data": {
      "text/plain": [
       "[10.75, 20.0, 18.0, 11.25]"
      ]
     },
     "execution_count": 120,
     "metadata": {},
     "output_type": "execute_result"
    }
   ],
   "source": [
    "areas"
   ]
  },
  {
   "cell_type": "markdown",
   "id": "0584edb2",
   "metadata": {},
   "source": [
    "### numpy"
   ]
  },
  {
   "cell_type": "code",
   "execution_count": 7,
   "id": "b1073ff0",
   "metadata": {},
   "outputs": [],
   "source": [
    "baseball = [180, 215,210, 210, 188, 176, 209, 200]"
   ]
  },
  {
   "cell_type": "code",
   "execution_count": 8,
   "id": "ec074ebe",
   "metadata": {},
   "outputs": [
    {
     "ename": "TypeError",
     "evalue": "can only concatenate list (not \"int\") to list",
     "output_type": "error",
     "traceback": [
      "\u001b[1;31m---------------------------------------------------------------------------\u001b[0m",
      "\u001b[1;31mTypeError\u001b[0m                                 Traceback (most recent call last)",
      "Cell \u001b[1;32mIn [8], line 1\u001b[0m\n\u001b[1;32m----> 1\u001b[0m \u001b[43mbaseball\u001b[49m\u001b[43m \u001b[49m\u001b[38;5;241;43m+\u001b[39;49m\u001b[43m \u001b[49m\u001b[38;5;241;43m3\u001b[39;49m\n",
      "\u001b[1;31mTypeError\u001b[0m: can only concatenate list (not \"int\") to list"
     ]
    }
   ],
   "source": [
    "baseball + 3"
   ]
  },
  {
   "cell_type": "code",
   "execution_count": 10,
   "id": "f89e9ab7",
   "metadata": {},
   "outputs": [
    {
     "data": {
      "text/plain": [
       "[180,\n",
       " 215,\n",
       " 210,\n",
       " 210,\n",
       " 188,\n",
       " 176,\n",
       " 209,\n",
       " 200,\n",
       " 180,\n",
       " 215,\n",
       " 210,\n",
       " 210,\n",
       " 188,\n",
       " 176,\n",
       " 209,\n",
       " 200,\n",
       " 180,\n",
       " 215,\n",
       " 210,\n",
       " 210,\n",
       " 188,\n",
       " 176,\n",
       " 209,\n",
       " 200]"
      ]
     },
     "execution_count": 10,
     "metadata": {},
     "output_type": "execute_result"
    }
   ],
   "source": [
    "baseball * 3"
   ]
  },
  {
   "cell_type": "code",
   "execution_count": 11,
   "id": "9da3b7ee",
   "metadata": {},
   "outputs": [
    {
     "ename": "TypeError",
     "evalue": "'>' not supported between instances of 'list' and 'int'",
     "output_type": "error",
     "traceback": [
      "\u001b[1;31m---------------------------------------------------------------------------\u001b[0m",
      "\u001b[1;31mTypeError\u001b[0m                                 Traceback (most recent call last)",
      "Cell \u001b[1;32mIn [11], line 1\u001b[0m\n\u001b[1;32m----> 1\u001b[0m \u001b[43mbaseball\u001b[49m\u001b[43m \u001b[49m\u001b[38;5;241;43m>\u001b[39;49m\u001b[43m \u001b[49m\u001b[38;5;241;43m200\u001b[39;49m\n",
      "\u001b[1;31mTypeError\u001b[0m: '>' not supported between instances of 'list' and 'int'"
     ]
    }
   ],
   "source": [
    "baseball > 200"
   ]
  },
  {
   "cell_type": "code",
   "execution_count": 13,
   "id": "8e8b3169",
   "metadata": {},
   "outputs": [
    {
     "data": {
      "text/plain": [
       "numpy.ndarray"
      ]
     },
     "execution_count": 13,
     "metadata": {},
     "output_type": "execute_result"
    }
   ],
   "source": [
    "import numpy as np\n",
    "np_baseball = np.array(baseball)\n",
    "type(np_baseball)"
   ]
  },
  {
   "cell_type": "code",
   "execution_count": 122,
   "id": "7604dbe1",
   "metadata": {},
   "outputs": [
    {
     "data": {
      "text/html": [
       "<div>\n",
       "<style scoped>\n",
       "    .dataframe tbody tr th:only-of-type {\n",
       "        vertical-align: middle;\n",
       "    }\n",
       "\n",
       "    .dataframe tbody tr th {\n",
       "        vertical-align: top;\n",
       "    }\n",
       "\n",
       "    .dataframe thead th {\n",
       "        text-align: right;\n",
       "    }\n",
       "</style>\n",
       "<table border=\"1\" class=\"dataframe\">\n",
       "  <thead>\n",
       "    <tr style=\"text-align: right;\">\n",
       "      <th></th>\n",
       "      <th>Name</th>\n",
       "      <th>Team</th>\n",
       "      <th>Position</th>\n",
       "      <th>Height</th>\n",
       "      <th>Weight</th>\n",
       "      <th>Age</th>\n",
       "      <th>PosCategory</th>\n",
       "    </tr>\n",
       "  </thead>\n",
       "  <tbody>\n",
       "    <tr>\n",
       "      <th>0</th>\n",
       "      <td>Adam_Donachie</td>\n",
       "      <td>BAL</td>\n",
       "      <td>Catcher</td>\n",
       "      <td>74</td>\n",
       "      <td>180</td>\n",
       "      <td>22.99</td>\n",
       "      <td>Catcher</td>\n",
       "    </tr>\n",
       "    <tr>\n",
       "      <th>1</th>\n",
       "      <td>Paul_Bako</td>\n",
       "      <td>BAL</td>\n",
       "      <td>Catcher</td>\n",
       "      <td>74</td>\n",
       "      <td>215</td>\n",
       "      <td>34.69</td>\n",
       "      <td>Catcher</td>\n",
       "    </tr>\n",
       "    <tr>\n",
       "      <th>2</th>\n",
       "      <td>Ramon_Hernandez</td>\n",
       "      <td>BAL</td>\n",
       "      <td>Catcher</td>\n",
       "      <td>72</td>\n",
       "      <td>210</td>\n",
       "      <td>30.78</td>\n",
       "      <td>Catcher</td>\n",
       "    </tr>\n",
       "    <tr>\n",
       "      <th>3</th>\n",
       "      <td>Kevin_Millar</td>\n",
       "      <td>BAL</td>\n",
       "      <td>First_Baseman</td>\n",
       "      <td>72</td>\n",
       "      <td>210</td>\n",
       "      <td>35.43</td>\n",
       "      <td>Infielder</td>\n",
       "    </tr>\n",
       "    <tr>\n",
       "      <th>4</th>\n",
       "      <td>Chris_Gomez</td>\n",
       "      <td>BAL</td>\n",
       "      <td>First_Baseman</td>\n",
       "      <td>73</td>\n",
       "      <td>188</td>\n",
       "      <td>35.71</td>\n",
       "      <td>Infielder</td>\n",
       "    </tr>\n",
       "  </tbody>\n",
       "</table>\n",
       "</div>"
      ],
      "text/plain": [
       "              Name Team       Position  Height  Weight    Age PosCategory\n",
       "0    Adam_Donachie  BAL        Catcher      74     180  22.99     Catcher\n",
       "1        Paul_Bako  BAL        Catcher      74     215  34.69     Catcher\n",
       "2  Ramon_Hernandez  BAL        Catcher      72     210  30.78     Catcher\n",
       "3     Kevin_Millar  BAL  First_Baseman      72     210  35.43   Infielder\n",
       "4      Chris_Gomez  BAL  First_Baseman      73     188  35.71   Infielder"
      ]
     },
     "execution_count": 122,
     "metadata": {},
     "output_type": "execute_result"
    }
   ],
   "source": [
    "import pandas as pd\n",
    "baseball_df = pd.read_csv('https://github.com/ChuyMendoza333/Data/raw/main/baseball.csv')\n",
    "baseball_df.head()"
   ]
  },
  {
   "cell_type": "code",
   "execution_count": 128,
   "id": "be14b7c2",
   "metadata": {},
   "outputs": [
    {
     "data": {
      "text/plain": [
       "array([1.8796, 1.8796, 1.8288, ..., 1.905 , 1.905 , 1.8542])"
      ]
     },
     "execution_count": 128,
     "metadata": {},
     "output_type": "execute_result"
    }
   ],
   "source": [
    "height_in = baseball_df.Height\n",
    "np_height_in = np.array(height_in)\n",
    "np_height_m = np_height_in * 2.54/100\n",
    "np_height_m"
   ]
  },
  {
   "cell_type": "code",
   "execution_count": 133,
   "id": "3c65250b",
   "metadata": {},
   "outputs": [
    {
     "name": "stdout",
     "output_type": "stream",
     "text": [
      "[81.   96.75 94.5  ... 92.25 85.5  87.75]\n"
     ]
    }
   ],
   "source": [
    "weight_lb = baseball_df.Weight\n",
    "np_weight_kg = np.array(weight_lb) * .45\n",
    "print(np_weight_kg)"
   ]
  },
  {
   "cell_type": "code",
   "execution_count": 130,
   "id": "71575e33",
   "metadata": {},
   "outputs": [
    {
     "data": {
      "text/plain": [
       "array([0, 1, 2, 3])"
      ]
     },
     "execution_count": 130,
     "metadata": {},
     "output_type": "execute_result"
    }
   ],
   "source": [
    "x = np.array(range(10))\n",
    "x[:4]"
   ]
  },
  {
   "cell_type": "code",
   "execution_count": 134,
   "id": "57538de7",
   "metadata": {},
   "outputs": [
    {
     "name": "stdout",
     "output_type": "stream",
     "text": [
      "[22.92736507 27.38546383 28.25526484 ... 25.42005084 23.56004712\n",
      " 25.5231323 ]\n"
     ]
    }
   ],
   "source": [
    "bmi = np_weight_kg/np_height_m**2\n",
    "print(bmi)"
   ]
  },
  {
   "cell_type": "code",
   "execution_count": 142,
   "id": "b2308ea3",
   "metadata": {},
   "outputs": [
    {
     "data": {
      "text/plain": [
       "array([[ 1.8796 , 81.64656],\n",
       "       [ 1.8796 , 97.52228],\n",
       "       [ 1.8288 , 95.25432],\n",
       "       ...,\n",
       "       [ 1.905  , 92.98636],\n",
       "       [ 1.905  , 86.18248],\n",
       "       [ 1.8542 , 88.45044]])"
      ]
     },
     "execution_count": 142,
     "metadata": {},
     "output_type": "execute_result"
    }
   ],
   "source": [
    "baseball = np.array(baseball_df[['Height', 'Weight']]) \n",
    "conversion = np.array([0.0254, 0.453592])\n",
    "baseball_f = baseball * conversion\n",
    "baseball_f"
   ]
  },
  {
   "cell_type": "code",
   "execution_count": 135,
   "id": "f508b0b9",
   "metadata": {},
   "outputs": [
    {
     "name": "stdout",
     "output_type": "stream",
     "text": [
      "[False False False ... False False False]\n",
      "[20.37988006 20.37988006 20.5289538  20.5289538  20.18233203 20.94205727\n",
      " 20.18233203 20.94205727 20.94205727 20.5289538  19.99919669 19.34403869\n",
      " 20.5289538  20.75485206]\n"
     ]
    }
   ],
   "source": [
    "light = bmi < 21\n",
    "print(light)\n",
    "print(bmi[light])"
   ]
  },
  {
   "cell_type": "code",
   "execution_count": 136,
   "id": "cfac046a",
   "metadata": {},
   "outputs": [
    {
     "data": {
      "text/plain": [
       "(1015,)"
      ]
     },
     "execution_count": 136,
     "metadata": {},
     "output_type": "execute_result"
    }
   ],
   "source": [
    "light.shape"
   ]
  },
  {
   "cell_type": "code",
   "execution_count": 137,
   "id": "74604e66",
   "metadata": {},
   "outputs": [
    {
     "data": {
      "text/plain": [
       "(14,)"
      ]
     },
     "execution_count": 137,
     "metadata": {},
     "output_type": "execute_result"
    }
   ],
   "source": [
    "bmi[light].shape"
   ]
  },
  {
   "cell_type": "code",
   "execution_count": 28,
   "id": "2b24ae2e",
   "metadata": {},
   "outputs": [
    {
     "data": {
      "text/html": [
       "<div>\n",
       "<style scoped>\n",
       "    .dataframe tbody tr th:only-of-type {\n",
       "        vertical-align: middle;\n",
       "    }\n",
       "\n",
       "    .dataframe tbody tr th {\n",
       "        vertical-align: top;\n",
       "    }\n",
       "\n",
       "    .dataframe thead th {\n",
       "        text-align: right;\n",
       "    }\n",
       "</style>\n",
       "<table border=\"1\" class=\"dataframe\">\n",
       "  <thead>\n",
       "    <tr style=\"text-align: right;\">\n",
       "      <th></th>\n",
       "      <th>Mask</th>\n",
       "      <th>bmi</th>\n",
       "    </tr>\n",
       "  </thead>\n",
       "  <tbody>\n",
       "    <tr>\n",
       "      <th>0</th>\n",
       "      <td>False</td>\n",
       "      <td>22.927365</td>\n",
       "    </tr>\n",
       "    <tr>\n",
       "      <th>1</th>\n",
       "      <td>False</td>\n",
       "      <td>27.385464</td>\n",
       "    </tr>\n",
       "    <tr>\n",
       "      <th>2</th>\n",
       "      <td>False</td>\n",
       "      <td>28.255265</td>\n",
       "    </tr>\n",
       "    <tr>\n",
       "      <th>3</th>\n",
       "      <td>False</td>\n",
       "      <td>28.255265</td>\n",
       "    </tr>\n",
       "    <tr>\n",
       "      <th>4</th>\n",
       "      <td>False</td>\n",
       "      <td>24.606917</td>\n",
       "    </tr>\n",
       "    <tr>\n",
       "      <th>5</th>\n",
       "      <td>False</td>\n",
       "      <td>25.784551</td>\n",
       "    </tr>\n",
       "    <tr>\n",
       "      <th>6</th>\n",
       "      <td>False</td>\n",
       "      <td>30.619154</td>\n",
       "    </tr>\n",
       "    <tr>\n",
       "      <th>7</th>\n",
       "      <td>False</td>\n",
       "      <td>27.673136</td>\n",
       "    </tr>\n",
       "    <tr>\n",
       "      <th>8</th>\n",
       "      <td>False</td>\n",
       "      <td>27.895225</td>\n",
       "    </tr>\n",
       "    <tr>\n",
       "      <th>9</th>\n",
       "      <td>False</td>\n",
       "      <td>24.905822</td>\n",
       "    </tr>\n",
       "    <tr>\n",
       "      <th>10</th>\n",
       "      <td>False</td>\n",
       "      <td>24.606917</td>\n",
       "    </tr>\n",
       "    <tr>\n",
       "      <th>11</th>\n",
       "      <td>False</td>\n",
       "      <td>23.559814</td>\n",
       "    </tr>\n",
       "    <tr>\n",
       "      <th>12</th>\n",
       "      <td>False</td>\n",
       "      <td>23.564236</td>\n",
       "    </tr>\n",
       "    <tr>\n",
       "      <th>13</th>\n",
       "      <td>True</td>\n",
       "      <td>20.379880</td>\n",
       "    </tr>\n",
       "    <tr>\n",
       "      <th>14</th>\n",
       "      <td>False</td>\n",
       "      <td>26.370563</td>\n",
       "    </tr>\n",
       "  </tbody>\n",
       "</table>\n",
       "</div>"
      ],
      "text/plain": [
       "     Mask        bmi\n",
       "0   False  22.927365\n",
       "1   False  27.385464\n",
       "2   False  28.255265\n",
       "3   False  28.255265\n",
       "4   False  24.606917\n",
       "5   False  25.784551\n",
       "6   False  30.619154\n",
       "7   False  27.673136\n",
       "8   False  27.895225\n",
       "9   False  24.905822\n",
       "10  False  24.606917\n",
       "11  False  23.559814\n",
       "12  False  23.564236\n",
       "13   True  20.379880\n",
       "14  False  26.370563"
      ]
     },
     "execution_count": 28,
     "metadata": {},
     "output_type": "execute_result"
    }
   ],
   "source": [
    "df = pd.DataFrame()\n",
    "df['Mask'] = light\n",
    "df['bmi'] = bmi\n",
    "df.head(15)"
   ]
  },
  {
   "cell_type": "markdown",
   "id": "63535a2a",
   "metadata": {},
   "source": [
    "### numpy Functions "
   ]
  },
  {
   "cell_type": "code",
   "execution_count": 2,
   "id": "86cad3e1",
   "metadata": {},
   "outputs": [],
   "source": [
    "import numpy as np"
   ]
  },
  {
   "cell_type": "code",
   "execution_count": 7,
   "id": "9cd4a23a",
   "metadata": {},
   "outputs": [
    {
     "data": {
      "text/plain": [
       "array([  0,   1,   2,   3,   4,   5,   6,   7,   8,   9,  10,  11,  12,\n",
       "        13,  14,  15,  16,  17,  18,  19,  20,  21,  22,  23,  24,  25,\n",
       "        26,  27,  28,  29,  30,  31,  32,  33,  34,  35,  36,  37,  38,\n",
       "        39,  40,  41,  42,  43,  44,  45,  46,  47,  48,  49,  50,  51,\n",
       "        52,  53,  54,  55,  56,  57,  58,  59,  60,  61,  62,  63,  64,\n",
       "        65,  66,  67,  68,  69,  70,  71,  72,  73,  74,  75,  76,  77,\n",
       "        78,  79,  80,  81,  82,  83,  84,  85,  86,  87,  88,  89,  90,\n",
       "        91,  92,  93,  94,  95,  96,  97,  98,  99, 100])"
      ]
     },
     "execution_count": 7,
     "metadata": {},
     "output_type": "execute_result"
    }
   ],
   "source": [
    "arange1 = np.arange(stop=101)\n",
    "arange1"
   ]
  },
  {
   "cell_type": "code",
   "execution_count": 11,
   "id": "e847232b",
   "metadata": {},
   "outputs": [
    {
     "data": {
      "text/plain": [
       "array([  1,   2,   3,   4,   5,   6,   7,   8,   9,  10,  11,  12,  13,\n",
       "        14,  15,  16,  17,  18,  19,  20,  21,  22,  23,  24,  25,  26,\n",
       "        27,  28,  29,  30,  31,  32,  33,  34,  35,  36,  37,  38,  39,\n",
       "        40,  41,  42,  43,  44,  45,  46,  47,  48,  49,  50,  51,  52,\n",
       "        53,  54,  55,  56,  57,  58,  59,  60,  61,  62,  63,  64,  65,\n",
       "        66,  67,  68,  69,  70,  71,  72,  73,  74,  75,  76,  77,  78,\n",
       "        79,  80,  81,  82,  83,  84,  85,  86,  87,  88,  89,  90,  91,\n",
       "        92,  93,  94,  95,  96,  97,  98,  99, 100])"
      ]
     },
     "execution_count": 11,
     "metadata": {},
     "output_type": "execute_result"
    }
   ],
   "source": [
    "arange2 = np.arange(start= 1, stop=101)\n",
    "arange2"
   ]
  },
  {
   "cell_type": "code",
   "execution_count": 10,
   "id": "430db902",
   "metadata": {},
   "outputs": [
    {
     "data": {
      "text/plain": [
       "array([ 1,  3,  5,  7,  9, 11, 13, 15, 17, 19, 21, 23, 25, 27, 29, 31, 33,\n",
       "       35, 37, 39, 41, 43, 45, 47, 49, 51, 53, 55, 57, 59, 61, 63, 65, 67,\n",
       "       69, 71, 73, 75, 77, 79, 81, 83, 85, 87, 89, 91, 93, 95, 97, 99])"
      ]
     },
     "execution_count": 10,
     "metadata": {},
     "output_type": "execute_result"
    }
   ],
   "source": [
    "arange3 = np.arange(1,101,2)\n",
    "arange3"
   ]
  },
  {
   "cell_type": "code",
   "execution_count": 12,
   "id": "f192a4d9",
   "metadata": {},
   "outputs": [
    {
     "data": {
      "text/plain": [
       "array([  2,   4,   6,   8,  10,  12,  14,  16,  18,  20,  22,  24,  26,\n",
       "        28,  30,  32,  34,  36,  38,  40,  42,  44,  46,  48,  50,  52,\n",
       "        54,  56,  58,  60,  62,  64,  66,  68,  70,  72,  74,  76,  78,\n",
       "        80,  82,  84,  86,  88,  90,  92,  94,  96,  98, 100])"
      ]
     },
     "execution_count": 12,
     "metadata": {},
     "output_type": "execute_result"
    }
   ],
   "source": [
    "arange4 = np.arange(2,101,2)\n",
    "arange4"
   ]
  },
  {
   "cell_type": "code",
   "execution_count": 13,
   "id": "9546916f",
   "metadata": {},
   "outputs": [
    {
     "data": {
      "text/plain": [
       "array([  5,  10,  15,  20,  25,  30,  35,  40,  45,  50,  55,  60,  65,\n",
       "        70,  75,  80,  85,  90,  95, 100])"
      ]
     },
     "execution_count": 13,
     "metadata": {},
     "output_type": "execute_result"
    }
   ],
   "source": [
    "arange5 = np.arange(5,101,5)\n",
    "arange5"
   ]
  },
  {
   "cell_type": "code",
   "execution_count": 42,
   "id": "1f92b309",
   "metadata": {},
   "outputs": [
    {
     "data": {
      "text/plain": [
       "array([0.005     , 0.11555556, 0.22611111, 0.33666667, 0.44722222,\n",
       "       0.55777778, 0.66833333, 0.77888889, 0.88944444, 1.        ])"
      ]
     },
     "execution_count": 42,
     "metadata": {},
     "output_type": "execute_result"
    }
   ],
   "source": [
    "arange_linspace = np.linspace(0.005,1,10)\n",
    "arange_linspace"
   ]
  },
  {
   "cell_type": "code",
   "execution_count": 22,
   "id": "e6e0f8f7",
   "metadata": {},
   "outputs": [
    {
     "data": {
      "text/plain": [
       "array([[0, 0, 0, 0, 0],\n",
       "       [0, 0, 0, 0, 0],\n",
       "       [0, 0, 0, 0, 0],\n",
       "       [0, 0, 0, 0, 0],\n",
       "       [0, 0, 0, 0, 0]])"
      ]
     },
     "execution_count": 22,
     "metadata": {},
     "output_type": "execute_result"
    }
   ],
   "source": [
    "m_zeros = np.zeros(shape= (5,5), dtype= int)\n",
    "m_zeros"
   ]
  },
  {
   "cell_type": "code",
   "execution_count": 26,
   "id": "836773c7",
   "metadata": {
    "scrolled": true
   },
   "outputs": [
    {
     "data": {
      "text/plain": [
       "array([1, 1, 1, 1, 1])"
      ]
     },
     "execution_count": 26,
     "metadata": {},
     "output_type": "execute_result"
    }
   ],
   "source": [
    "m_ones = np.ones(shape=(5), dtype=int)\n",
    "m_ones"
   ]
  },
  {
   "cell_type": "code",
   "execution_count": 44,
   "id": "06f24870",
   "metadata": {},
   "outputs": [
    {
     "data": {
      "text/plain": [
       "array([[1., 0., 0., 0.],\n",
       "       [0., 1., 0., 0.],\n",
       "       [0., 0., 1., 0.],\n",
       "       [0., 0., 0., 1.]])"
      ]
     },
     "execution_count": 44,
     "metadata": {},
     "output_type": "execute_result"
    }
   ],
   "source": [
    "eye = np.eye(4)\n",
    "eye"
   ]
  },
  {
   "cell_type": "code",
   "execution_count": 95,
   "id": "2599bcb7",
   "metadata": {},
   "outputs": [
    {
     "data": {
      "text/plain": [
       "array([  1,   2,   3,   4,   5,   6,   7,   8,   9,  10,  11,  12,  13,\n",
       "        14,  15,  16,  17,  18,  19,  20,  21,  22,  23,  24,  25,  26,\n",
       "        27,  28,  29,  30,  31,  32,  33,  34,  35,  36,  37,  38,  39,\n",
       "        40,  41,  42,  43,  44,  45,  46,  47,  48,  49,  50,  51,  52,\n",
       "        53,  54,  55,  56,  57,  58,  59,  60,  61,  62,  63,  64,  65,\n",
       "        66,  67,  68,  69,  70,  71,  72,  73,  74,  75,  76,  77,  78,\n",
       "        79,  80,  81,  82,  83,  84,  85,  86,  87,  88,  89,  90,  91,\n",
       "        92,  93,  94,  95,  96,  97,  98,  99, 100])"
      ]
     },
     "execution_count": 95,
     "metadata": {},
     "output_type": "execute_result"
    }
   ],
   "source": [
    "x = np.arange(1,101).astype(int)\n",
    "x"
   ]
  },
  {
   "cell_type": "code",
   "execution_count": 96,
   "id": "ca027379",
   "metadata": {},
   "outputs": [
    {
     "data": {
      "text/plain": [
       "array(['even', 'odd', 'even', 'odd', 'even', 'odd', 'even', 'odd', 'even',\n",
       "       'odd', 'even', 'odd', 'even', 'odd', 'even', 'odd', 'even', 'odd',\n",
       "       'even', 'odd', 'even', 'odd', 'even', 'odd', 'even', 'odd', 'even',\n",
       "       'odd', 'even', 'odd', 'even', 'odd', 'even', 'odd', 'even', 'odd',\n",
       "       'even', 'odd', 'even', 'odd', 'even', 'odd', 'even', 'odd', 'even',\n",
       "       'odd', 'even', 'odd', 'even', 'odd', 'even', 'odd', 'even', 'odd',\n",
       "       'even', 'odd', 'even', 'odd', 'even', 'odd', 'even', 'odd', 'even',\n",
       "       'odd', 'even', 'odd', 'even', 'odd', 'even', 'odd', 'even', 'odd',\n",
       "       'even', 'odd', 'even', 'odd', 'even', 'odd', 'even', 'odd', 'even',\n",
       "       'odd', 'even', 'odd', 'even', 'odd', 'even', 'odd', 'even', 'odd',\n",
       "       'even', 'odd', 'even', 'odd', 'even', 'odd', 'even', 'odd', 'even',\n",
       "       'odd'], dtype='<U4')"
      ]
     },
     "execution_count": 96,
     "metadata": {},
     "output_type": "execute_result"
    }
   ],
   "source": [
    "np.where(x%2, 'even','odd')"
   ]
  },
  {
   "cell_type": "code",
   "execution_count": 107,
   "id": "7d6261cc",
   "metadata": {},
   "outputs": [
    {
     "data": {
      "text/plain": [
       "array(['-50', '-50', '-50', '-50', '-50', '-50', '-50', '-50', '-50',\n",
       "       '-50', '-50', '-50', '-50', '-50', '-50', '-50', '-50', '-50',\n",
       "       '-50', '-50', '-50', '-50', '-50', '-50', '-50', '-50', '-50',\n",
       "       '-50', '-50', '-50', '-50', '-50', '-50', '-50', '-50', '-50',\n",
       "       '-50', '-50', '-50', '-50', '-50', '-50', '-50', '-50', '-50',\n",
       "       '-50', '-50', '-50', '-50', '-50', '+50', '+50', '+50', '+50',\n",
       "       '+50', '+50', '+50', '+50', '+50', '+50', '+50', '+50', '+50',\n",
       "       '+50', '+50', '+50', '+50', '+50', '+50', '+50', '+50', '+50',\n",
       "       '+50', '+50', '+50', '+50', '+50', '+50', '+50', '+50', '+50',\n",
       "       '+50', '+50', '+50', '+50', '+50', '+50', '+50', '+50', '+50',\n",
       "       '+50', '+50', '+50', '+50', '+50', '+50', '+50', '+50', '+50',\n",
       "       '+50'], dtype='<U3')"
      ]
     },
     "execution_count": 107,
     "metadata": {},
     "output_type": "execute_result"
    }
   ],
   "source": [
    "np.where(x>50, '+50', '-50')"
   ]
  },
  {
   "cell_type": "code",
   "execution_count": 109,
   "id": "4b49baf8",
   "metadata": {},
   "outputs": [
    {
     "data": {
      "text/plain": [
       "array(['-50', '-50', '-50', '-50', '-50', '-50', '-50', '-50', '-50',\n",
       "       '-50', '-50', '-50', '-50', '-50', '-50', '-50', '-50', '-50',\n",
       "       '-50', '-50', '-50', '-50', '-50', '-50', '-50', '-50', '-50',\n",
       "       '-50', '-50', '-50', '-50', '-50', '-50', '-50', '-50', '-50',\n",
       "       '-50', '-50', '-50', '-50', '-50', '-50', '-50', '-50', '-50',\n",
       "       '-50', '-50', '-50', '-50', '+50', '+50', '+50', '+50', '+50',\n",
       "       '+50', '+50', '+50', '+50', '+50', '+50', '+50', '+50', '+50',\n",
       "       '+50', '+50', '+50', '+50', '+50', '+50', '+50', '+50', '+50',\n",
       "       '+50', '+50', '+50', '+50', '+50', '+50', '+50', '+50', '+50',\n",
       "       '+50', '+50', '+50', '+50', '+50', '+50', '+50', '+50', '+50',\n",
       "       '+50', '+50', '+50', '+50', '+50', '+50', '+50', '+50', '+50',\n",
       "       '+50'], dtype='<U3')"
      ]
     },
     "execution_count": 109,
     "metadata": {},
     "output_type": "execute_result"
    }
   ],
   "source": [
    "np.array(['-50' if v < 50 else '+50' for v in x])"
   ]
  },
  {
   "cell_type": "code",
   "execution_count": 106,
   "id": "8d61cb85",
   "metadata": {},
   "outputs": [
    {
     "data": {
      "text/plain": [
       "array(['1', 'two', '3', 'two', 'ten', 'two', '7', 'two', '9', 'two', '11',\n",
       "       'two', '13', 'two', 'ten', 'two', '17', 'two', '19', 'two', '21',\n",
       "       'two', '23', 'two', 'ten', 'two', '27', 'two', '29', 'two', '31',\n",
       "       'two', '33', 'two', 'ten', 'two', '37', 'two', '39', 'two', '41',\n",
       "       'two', '43', 'two', 'ten', 'two', '47', 'two', '49', 'two', '51',\n",
       "       'two', '53', 'two', 'ten', 'two', '57', 'two', '59', 'two', '61',\n",
       "       'two', '63', 'two', 'ten', 'two', '67', 'two', '69', 'two', '71',\n",
       "       'two', '73', 'two', 'ten', 'two', '77', 'two', '79', 'two', '81',\n",
       "       'two', '83', 'two', 'ten', 'two', '87', 'two', '89', 'two', '91',\n",
       "       'two', '93', 'two', 'ten', 'two', '97', 'two', '99', 'two'],\n",
       "      dtype='<U11')"
      ]
     },
     "execution_count": 106,
     "metadata": {},
     "output_type": "execute_result"
    }
   ],
   "source": [
    "np.select([x%2==0, x%10==0, x%5 == 0], ['two', 'five', 'ten'],\n",
    "         default=x)"
   ]
  },
  {
   "cell_type": "code",
   "execution_count": 111,
   "id": "b65bc850",
   "metadata": {},
   "outputs": [
    {
     "data": {
      "text/plain": [
       "array(['two', 'three', 'two', 'three', 'two', 'ten', 'two', 'three',\n",
       "       'two', 'three', 'two', 'ten', 'two', 'three', 'two', 'three',\n",
       "       'two', 'ten', 'two', 'three', 'two', 'three', 'two', 'ten', 'two',\n",
       "       'three', 'two', 'three', 'two', '30', 'two', 'three', 'two',\n",
       "       'three', 'two', 'ten', 'two', 'three', 'two', 'three', 'two',\n",
       "       'ten', 'two', 'three', 'two', 'three', 'two', 'ten', 'two',\n",
       "       'three', 'two', 'three', 'two', 'ten', 'two', 'three', 'two',\n",
       "       'three', 'two', '60', 'two', 'three', 'two', 'three', 'two', 'ten',\n",
       "       'two', 'three', 'two', 'three', 'two', 'ten', 'two', 'three',\n",
       "       'two', 'three', 'two', 'ten', 'two', 'three', 'two', 'three',\n",
       "       'two', 'ten', 'two', 'three', 'two', 'three', 'two', '90', 'two',\n",
       "       'three', 'two', 'three', 'two', 'ten', 'two', 'three', 'two',\n",
       "       'three'], dtype='<U11')"
      ]
     },
     "execution_count": 111,
     "metadata": {},
     "output_type": "execute_result"
    }
   ],
   "source": [
    "np.array(['two' if v%2 else 'three' if v%3 \n",
    "          else 'ten' if v%10 else v for v in x])"
   ]
  },
  {
   "cell_type": "markdown",
   "id": "b7d34463",
   "metadata": {},
   "source": [
    "### np.random"
   ]
  },
  {
   "cell_type": "code",
   "execution_count": 51,
   "id": "41bc8159",
   "metadata": {},
   "outputs": [
    {
     "data": {
      "text/plain": [
       "array([0.81371399, 0.52275689, 0.36165248, 0.66825632, 0.33733788,\n",
       "       0.53602447, 0.79680016, 0.81653428, 0.55564348, 0.65010148])"
      ]
     },
     "execution_count": 51,
     "metadata": {},
     "output_type": "execute_result"
    }
   ],
   "source": [
    "np.random.rand(10)"
   ]
  },
  {
   "cell_type": "code",
   "execution_count": 53,
   "id": "2b658cd4",
   "metadata": {},
   "outputs": [
    {
     "data": {
      "text/plain": [
       "array([1, 4, 7, 3, 6, 9, 9, 1, 1, 9, 3, 3, 6, 1, 6, 5, 1, 3, 5, 8])"
      ]
     },
     "execution_count": 53,
     "metadata": {},
     "output_type": "execute_result"
    }
   ],
   "source": [
    "np.random.randint(1,10,20)"
   ]
  },
  {
   "cell_type": "code",
   "execution_count": 56,
   "id": "5e284426",
   "metadata": {},
   "outputs": [
    {
     "data": {
      "text/plain": [
       "array(['yes', 'yes', 'no', 'no', 'yes', 'no', 'yes', 'yes', 'no', 'yes'],\n",
       "      dtype='<U4')"
      ]
     },
     "execution_count": 56,
     "metadata": {},
     "output_type": "execute_result"
    }
   ],
   "source": [
    "np.random.seed(10)\n",
    "np.random.choice(['no', 'yes','none'],10)"
   ]
  },
  {
   "cell_type": "markdown",
   "id": "59636991",
   "metadata": {},
   "source": [
    "### reshape"
   ]
  },
  {
   "cell_type": "code",
   "execution_count": 58,
   "id": "f974c247",
   "metadata": {},
   "outputs": [
    {
     "data": {
      "text/plain": [
       "array([1, 2, 3, 4, 5, 6, 7, 8, 9])"
      ]
     },
     "execution_count": 58,
     "metadata": {},
     "output_type": "execute_result"
    }
   ],
   "source": [
    "n_array = np.arange(1,10)\n",
    "n_array"
   ]
  },
  {
   "cell_type": "code",
   "execution_count": 70,
   "id": "996c2b28",
   "metadata": {},
   "outputs": [
    {
     "data": {
      "text/plain": [
       "array([[1],\n",
       "       [2],\n",
       "       [3],\n",
       "       [4],\n",
       "       [5],\n",
       "       [6],\n",
       "       [7],\n",
       "       [8],\n",
       "       [9]])"
      ]
     },
     "execution_count": 70,
     "metadata": {},
     "output_type": "execute_result"
    }
   ],
   "source": [
    "n_array.reshape(9,-1)"
   ]
  },
  {
   "cell_type": "code",
   "execution_count": 71,
   "id": "3f03ec11",
   "metadata": {},
   "outputs": [
    {
     "data": {
      "text/plain": [
       "array([[1],\n",
       "       [2],\n",
       "       [3],\n",
       "       [4],\n",
       "       [5],\n",
       "       [6],\n",
       "       [7],\n",
       "       [8],\n",
       "       [9]])"
      ]
     },
     "execution_count": 71,
     "metadata": {},
     "output_type": "execute_result"
    }
   ],
   "source": [
    "np.arange(1,10).reshape(9,-1)"
   ]
  },
  {
   "cell_type": "markdown",
   "id": "fcd19992",
   "metadata": {},
   "source": [
    "### numpy maths"
   ]
  },
  {
   "cell_type": "code",
   "execution_count": 73,
   "id": "bf3e9af6",
   "metadata": {},
   "outputs": [
    {
     "data": {
      "text/plain": [
       "array([3, 4, 5])"
      ]
     },
     "execution_count": 73,
     "metadata": {},
     "output_type": "execute_result"
    }
   ],
   "source": [
    "A = np.random.choice([1,2,3],6).reshape(2,3)\n",
    "B = np.arange(3,6)"
   ]
  },
  {
   "cell_type": "code",
   "execution_count": 74,
   "id": "f2a5381e",
   "metadata": {},
   "outputs": [
    {
     "data": {
      "text/plain": [
       "array([[1, 3, 1],\n",
       "       [1, 1, 3]])"
      ]
     },
     "execution_count": 74,
     "metadata": {},
     "output_type": "execute_result"
    }
   ],
   "source": [
    "A"
   ]
  },
  {
   "cell_type": "code",
   "execution_count": 75,
   "id": "5c488a26",
   "metadata": {},
   "outputs": [
    {
     "data": {
      "text/plain": [
       "array([3, 4, 5])"
      ]
     },
     "execution_count": 75,
     "metadata": {},
     "output_type": "execute_result"
    }
   ],
   "source": [
    "B"
   ]
  },
  {
   "cell_type": "code",
   "execution_count": 79,
   "id": "379aa287",
   "metadata": {},
   "outputs": [
    {
     "data": {
      "text/plain": [
       "array([[4, 7, 6],\n",
       "       [4, 5, 8]])"
      ]
     },
     "execution_count": 79,
     "metadata": {},
     "output_type": "execute_result"
    }
   ],
   "source": [
    "np.add(A,B)"
   ]
  },
  {
   "cell_type": "code",
   "execution_count": 80,
   "id": "d999c23f",
   "metadata": {},
   "outputs": [
    {
     "data": {
      "text/plain": [
       "array([[-2, -1, -4],\n",
       "       [-2, -3, -2]])"
      ]
     },
     "execution_count": 80,
     "metadata": {},
     "output_type": "execute_result"
    }
   ],
   "source": [
    "np.subtract(A,B)"
   ]
  },
  {
   "cell_type": "code",
   "execution_count": 81,
   "id": "55bcd6cb",
   "metadata": {},
   "outputs": [
    {
     "data": {
      "text/plain": [
       "array([[ 3, 12,  5],\n",
       "       [ 3,  4, 15]])"
      ]
     },
     "execution_count": 81,
     "metadata": {},
     "output_type": "execute_result"
    }
   ],
   "source": [
    "np.multiply(A,B)"
   ]
  },
  {
   "cell_type": "code",
   "execution_count": 82,
   "id": "0e8c6ee0",
   "metadata": {},
   "outputs": [
    {
     "data": {
      "text/plain": [
       "array([[0.33333333, 0.75      , 0.2       ],\n",
       "       [0.33333333, 0.25      , 0.6       ]])"
      ]
     },
     "execution_count": 82,
     "metadata": {},
     "output_type": "execute_result"
    }
   ],
   "source": [
    "np.divide(A,B)"
   ]
  },
  {
   "cell_type": "code",
   "execution_count": 83,
   "id": "f0f5386a",
   "metadata": {},
   "outputs": [
    {
     "data": {
      "text/plain": [
       "array([[  1,  81,   1],\n",
       "       [  1,   1, 243]])"
      ]
     },
     "execution_count": 83,
     "metadata": {},
     "output_type": "execute_result"
    }
   ],
   "source": [
    "np.power(A,B)"
   ]
  },
  {
   "cell_type": "code",
   "execution_count": 88,
   "id": "efaa93ef",
   "metadata": {},
   "outputs": [
    {
     "data": {
      "text/plain": [
       "10"
      ]
     },
     "execution_count": 88,
     "metadata": {},
     "output_type": "execute_result"
    }
   ],
   "source": [
    "A.sum()"
   ]
  },
  {
   "cell_type": "code",
   "execution_count": 90,
   "id": "08ae70c7",
   "metadata": {},
   "outputs": [
    {
     "data": {
      "text/plain": [
       "array([[1, 3, 1],\n",
       "       [1, 1, 3]])"
      ]
     },
     "execution_count": 90,
     "metadata": {},
     "output_type": "execute_result"
    }
   ],
   "source": [
    "A"
   ]
  },
  {
   "cell_type": "code",
   "execution_count": 89,
   "id": "9eeb957e",
   "metadata": {},
   "outputs": [
    {
     "data": {
      "text/plain": [
       "array([2, 4, 4])"
      ]
     },
     "execution_count": 89,
     "metadata": {},
     "output_type": "execute_result"
    }
   ],
   "source": [
    "A.sum(axis=0)"
   ]
  },
  {
   "cell_type": "code",
   "execution_count": 91,
   "id": "d996c292",
   "metadata": {},
   "outputs": [
    {
     "data": {
      "text/plain": [
       "array([5, 5])"
      ]
     },
     "execution_count": 91,
     "metadata": {},
     "output_type": "execute_result"
    }
   ],
   "source": [
    "A.sum(axis=1)"
   ]
  },
  {
   "cell_type": "code",
   "execution_count": 93,
   "id": "d1c10660",
   "metadata": {},
   "outputs": [
    {
     "data": {
      "text/plain": [
       "array([[1, 3, 1],\n",
       "       [2, 4, 4]])"
      ]
     },
     "execution_count": 93,
     "metadata": {},
     "output_type": "execute_result"
    }
   ],
   "source": [
    "A.cumsum(axis=0)"
   ]
  },
  {
   "cell_type": "code",
   "execution_count": 94,
   "id": "f095e77b",
   "metadata": {},
   "outputs": [
    {
     "data": {
      "text/plain": [
       "array([[1, 4, 5],\n",
       "       [1, 2, 5]])"
      ]
     },
     "execution_count": 94,
     "metadata": {},
     "output_type": "execute_result"
    }
   ],
   "source": [
    "A.cumsum(axis=1)"
   ]
  },
  {
   "cell_type": "markdown",
   "id": "51ebd72f",
   "metadata": {},
   "source": [
    "### Numpy Basics Statistics"
   ]
  },
  {
   "cell_type": "code",
   "execution_count": 113,
   "id": "0d7d1015",
   "metadata": {},
   "outputs": [
    {
     "data": {
      "text/html": [
       "<div>\n",
       "<style scoped>\n",
       "    .dataframe tbody tr th:only-of-type {\n",
       "        vertical-align: middle;\n",
       "    }\n",
       "\n",
       "    .dataframe tbody tr th {\n",
       "        vertical-align: top;\n",
       "    }\n",
       "\n",
       "    .dataframe thead th {\n",
       "        text-align: right;\n",
       "    }\n",
       "</style>\n",
       "<table border=\"1\" class=\"dataframe\">\n",
       "  <thead>\n",
       "    <tr style=\"text-align: right;\">\n",
       "      <th></th>\n",
       "      <th>Name</th>\n",
       "      <th>Team</th>\n",
       "      <th>Position</th>\n",
       "      <th>Height</th>\n",
       "      <th>Weight</th>\n",
       "      <th>Age</th>\n",
       "      <th>PosCategory</th>\n",
       "    </tr>\n",
       "  </thead>\n",
       "  <tbody>\n",
       "    <tr>\n",
       "      <th>0</th>\n",
       "      <td>Adam_Donachie</td>\n",
       "      <td>BAL</td>\n",
       "      <td>Catcher</td>\n",
       "      <td>74</td>\n",
       "      <td>180</td>\n",
       "      <td>22.99</td>\n",
       "      <td>Catcher</td>\n",
       "    </tr>\n",
       "    <tr>\n",
       "      <th>1</th>\n",
       "      <td>Paul_Bako</td>\n",
       "      <td>BAL</td>\n",
       "      <td>Catcher</td>\n",
       "      <td>74</td>\n",
       "      <td>215</td>\n",
       "      <td>34.69</td>\n",
       "      <td>Catcher</td>\n",
       "    </tr>\n",
       "    <tr>\n",
       "      <th>2</th>\n",
       "      <td>Ramon_Hernandez</td>\n",
       "      <td>BAL</td>\n",
       "      <td>Catcher</td>\n",
       "      <td>72</td>\n",
       "      <td>210</td>\n",
       "      <td>30.78</td>\n",
       "      <td>Catcher</td>\n",
       "    </tr>\n",
       "    <tr>\n",
       "      <th>3</th>\n",
       "      <td>Kevin_Millar</td>\n",
       "      <td>BAL</td>\n",
       "      <td>First_Baseman</td>\n",
       "      <td>72</td>\n",
       "      <td>210</td>\n",
       "      <td>35.43</td>\n",
       "      <td>Infielder</td>\n",
       "    </tr>\n",
       "    <tr>\n",
       "      <th>4</th>\n",
       "      <td>Chris_Gomez</td>\n",
       "      <td>BAL</td>\n",
       "      <td>First_Baseman</td>\n",
       "      <td>73</td>\n",
       "      <td>188</td>\n",
       "      <td>35.71</td>\n",
       "      <td>Infielder</td>\n",
       "    </tr>\n",
       "  </tbody>\n",
       "</table>\n",
       "</div>"
      ],
      "text/plain": [
       "              Name Team       Position  Height  Weight    Age PosCategory\n",
       "0    Adam_Donachie  BAL        Catcher      74     180  22.99     Catcher\n",
       "1        Paul_Bako  BAL        Catcher      74     215  34.69     Catcher\n",
       "2  Ramon_Hernandez  BAL        Catcher      72     210  30.78     Catcher\n",
       "3     Kevin_Millar  BAL  First_Baseman      72     210  35.43   Infielder\n",
       "4      Chris_Gomez  BAL  First_Baseman      73     188  35.71   Infielder"
      ]
     },
     "execution_count": 113,
     "metadata": {},
     "output_type": "execute_result"
    }
   ],
   "source": [
    "import pandas as pd\n",
    "baseball_df = pd.read_csv('https://github.com/ChuyMendoza333/Data/raw/main/baseball.csv')\n",
    "baseball_df.head()"
   ]
  },
  {
   "cell_type": "code",
   "execution_count": 116,
   "id": "579cd1c8",
   "metadata": {},
   "outputs": [
    {
     "data": {
      "text/plain": [
       "array([[ 74.  , 180.  ,  22.99],\n",
       "       [ 74.  , 215.  ,  34.69],\n",
       "       [ 72.  , 210.  ,  30.78],\n",
       "       ...,\n",
       "       [ 75.  , 205.  ,  25.19],\n",
       "       [ 75.  , 190.  ,  31.01],\n",
       "       [ 73.  , 195.  ,  27.92]])"
      ]
     },
     "execution_count": 116,
     "metadata": {},
     "output_type": "execute_result"
    }
   ],
   "source": [
    "baseball = baseball_df[['Height', 'Weight', 'Age']].values"
   ]
  },
  {
   "cell_type": "code",
   "execution_count": 121,
   "id": "787183a8",
   "metadata": {},
   "outputs": [
    {
     "name": "stdout",
     "output_type": "stream",
     "text": [
      "73.6896551724138\n",
      "73.6896551724138\n",
      "74.0\n"
     ]
    }
   ],
   "source": [
    "np_height = baseball[:,0]\n",
    "print(np_height.mean())\n",
    "print(np.mean(np_height))\n",
    "print(np.median(np_height))"
   ]
  },
  {
   "cell_type": "code",
   "execution_count": 125,
   "id": "3c9c1e71",
   "metadata": {},
   "outputs": [
    {
     "name": "stdout",
     "output_type": "stream",
     "text": [
      "Average: 73.6896551724138\n",
      "Median: 74.0\n",
      "Standard Deviation: 2.312791881046546\n"
     ]
    }
   ],
   "source": [
    "avg = np.mean(baseball[:,0])\n",
    "print(f\"Average: {avg}\")\n",
    "med = np.median(baseball[:,0])\n",
    "print(f\"Median: {med}\")\n",
    "stddev = np.std(baseball[:,0])\n",
    "print(f\"Standard Deviation: {stddev}\")"
   ]
  },
  {
   "cell_type": "code",
   "execution_count": 126,
   "id": "a1be60f9",
   "metadata": {},
   "outputs": [
    {
     "name": "stdout",
     "output_type": "stream",
     "text": [
      "[[1.         0.53153932]\n",
      " [0.53153932 1.        ]]\n"
     ]
    }
   ],
   "source": [
    "print(np.corrcoef(baseball[:,0], baseball[:,1]))"
   ]
  },
  {
   "cell_type": "code",
   "execution_count": 127,
   "id": "01549d13",
   "metadata": {},
   "outputs": [
    {
     "data": {
      "text/html": [
       "<div>\n",
       "<style scoped>\n",
       "    .dataframe tbody tr th:only-of-type {\n",
       "        vertical-align: middle;\n",
       "    }\n",
       "\n",
       "    .dataframe tbody tr th {\n",
       "        vertical-align: top;\n",
       "    }\n",
       "\n",
       "    .dataframe thead th {\n",
       "        text-align: right;\n",
       "    }\n",
       "</style>\n",
       "<table border=\"1\" class=\"dataframe\">\n",
       "  <thead>\n",
       "    <tr style=\"text-align: right;\">\n",
       "      <th></th>\n",
       "      <th>id</th>\n",
       "      <th>name</th>\n",
       "      <th>rating</th>\n",
       "      <th>position</th>\n",
       "      <th>height</th>\n",
       "      <th>foot</th>\n",
       "      <th>rare</th>\n",
       "      <th>pace</th>\n",
       "      <th>shooting</th>\n",
       "      <th>passing</th>\n",
       "      <th>dribbling</th>\n",
       "      <th>defending</th>\n",
       "      <th>heading</th>\n",
       "      <th>diving</th>\n",
       "      <th>handling</th>\n",
       "      <th>kicking</th>\n",
       "      <th>reflexes</th>\n",
       "      <th>speed</th>\n",
       "      <th>positioning</th>\n",
       "    </tr>\n",
       "  </thead>\n",
       "  <tbody>\n",
       "    <tr>\n",
       "      <th>0</th>\n",
       "      <td>1001</td>\n",
       "      <td>Gábor Király</td>\n",
       "      <td>69</td>\n",
       "      <td>GK</td>\n",
       "      <td>191</td>\n",
       "      <td>Right</td>\n",
       "      <td>0</td>\n",
       "      <td></td>\n",
       "      <td></td>\n",
       "      <td></td>\n",
       "      <td></td>\n",
       "      <td></td>\n",
       "      <td></td>\n",
       "      <td>70</td>\n",
       "      <td>66</td>\n",
       "      <td>63</td>\n",
       "      <td>74</td>\n",
       "      <td>35</td>\n",
       "      <td>66.0</td>\n",
       "    </tr>\n",
       "    <tr>\n",
       "      <th>1</th>\n",
       "      <td>100143</td>\n",
       "      <td>Frederik Boi</td>\n",
       "      <td>65</td>\n",
       "      <td>M</td>\n",
       "      <td>184</td>\n",
       "      <td>Right</td>\n",
       "      <td>0</td>\n",
       "      <td>61</td>\n",
       "      <td>65</td>\n",
       "      <td>63</td>\n",
       "      <td>59</td>\n",
       "      <td>62</td>\n",
       "      <td>62</td>\n",
       "      <td></td>\n",
       "      <td></td>\n",
       "      <td></td>\n",
       "      <td></td>\n",
       "      <td></td>\n",
       "      <td>NaN</td>\n",
       "    </tr>\n",
       "    <tr>\n",
       "      <th>2</th>\n",
       "      <td>100264</td>\n",
       "      <td>Tomasz Szewczuk</td>\n",
       "      <td>57</td>\n",
       "      <td>A</td>\n",
       "      <td>185</td>\n",
       "      <td>Right</td>\n",
       "      <td>0</td>\n",
       "      <td>65</td>\n",
       "      <td>54</td>\n",
       "      <td>43</td>\n",
       "      <td>53</td>\n",
       "      <td>55</td>\n",
       "      <td>74</td>\n",
       "      <td></td>\n",
       "      <td></td>\n",
       "      <td></td>\n",
       "      <td></td>\n",
       "      <td></td>\n",
       "      <td>NaN</td>\n",
       "    </tr>\n",
       "    <tr>\n",
       "      <th>3</th>\n",
       "      <td>100325</td>\n",
       "      <td>Steeve Joseph-Reinette</td>\n",
       "      <td>63</td>\n",
       "      <td>D</td>\n",
       "      <td>180</td>\n",
       "      <td>Left</td>\n",
       "      <td>0</td>\n",
       "      <td>68</td>\n",
       "      <td>38</td>\n",
       "      <td>51</td>\n",
       "      <td>46</td>\n",
       "      <td>64</td>\n",
       "      <td>71</td>\n",
       "      <td></td>\n",
       "      <td></td>\n",
       "      <td></td>\n",
       "      <td></td>\n",
       "      <td></td>\n",
       "      <td>NaN</td>\n",
       "    </tr>\n",
       "    <tr>\n",
       "      <th>4</th>\n",
       "      <td>100326</td>\n",
       "      <td>Kamel Chafni</td>\n",
       "      <td>72</td>\n",
       "      <td>M</td>\n",
       "      <td>181</td>\n",
       "      <td>Right</td>\n",
       "      <td>0</td>\n",
       "      <td>75</td>\n",
       "      <td>64</td>\n",
       "      <td>67</td>\n",
       "      <td>72</td>\n",
       "      <td>57</td>\n",
       "      <td>66</td>\n",
       "      <td></td>\n",
       "      <td></td>\n",
       "      <td></td>\n",
       "      <td></td>\n",
       "      <td></td>\n",
       "      <td>NaN</td>\n",
       "    </tr>\n",
       "  </tbody>\n",
       "</table>\n",
       "</div>"
      ],
      "text/plain": [
       "       id                     name   rating  position   height    foot   rare  \\\n",
       "0    1001             Gábor Király       69        GK      191   Right      0   \n",
       "1  100143             Frederik Boi       65         M      184   Right      0   \n",
       "2  100264          Tomasz Szewczuk       57         A      185   Right      0   \n",
       "3  100325   Steeve Joseph-Reinette       63         D      180    Left      0   \n",
       "4  100326             Kamel Chafni       72         M      181   Right      0   \n",
       "\n",
       "   pace  shooting  passing  dribbling  defending  heading  diving  handling  \\\n",
       "0                                                              70        66   \n",
       "1    61        65       63         59         62       62                     \n",
       "2    65        54       43         53         55       74                     \n",
       "3    68        38       51         46         64       71                     \n",
       "4    75        64       67         72         57       66                     \n",
       "\n",
       "   kicking  reflexes  speed   positioning  \n",
       "0       63        74     35          66.0  \n",
       "1                                     NaN  \n",
       "2                                     NaN  \n",
       "3                                     NaN  \n",
       "4                                     NaN  "
      ]
     },
     "execution_count": 127,
     "metadata": {},
     "output_type": "execute_result"
    }
   ],
   "source": [
    "fifa_df = pd.read_csv('https://github.com/ChuyMendoza333/Data/raw/main/fifa.csv')\n",
    "fifa_df.head()"
   ]
  },
  {
   "cell_type": "code",
   "execution_count": 130,
   "id": "15a3ed8a",
   "metadata": {},
   "outputs": [],
   "source": [
    "fifa_df.columns = fifa_df.columns.str.strip()"
   ]
  },
  {
   "cell_type": "code",
   "execution_count": 134,
   "id": "11f9010c",
   "metadata": {},
   "outputs": [],
   "source": [
    "np_positions = fifa_df.position.values\n",
    "np_heights = fifa_df.height.values"
   ]
  },
  {
   "cell_type": "code",
   "execution_count": 139,
   "id": "d0e1c5c5",
   "metadata": {},
   "outputs": [
    {
     "data": {
      "text/plain": [
       "array([191, 193, 190, 185, 188, 187, 189, 196, 190, 189, 188, 189, 188,\n",
       "       188, 190, 193, 181, 191, 193, 190, 183, 183, 193, 193, 196, 184,\n",
       "       190, 186, 195, 191, 187, 185, 186, 185, 186, 190, 185, 185, 187,\n",
       "       188, 188, 186, 187, 193, 183, 185, 190, 186, 182, 191, 194, 191,\n",
       "       194, 188, 185, 189, 187, 188, 184, 176, 187, 186, 191, 188, 191,\n",
       "       192, 190, 188, 189, 184, 180, 191, 197, 189, 185, 191, 190, 190,\n",
       "       185, 186, 186, 189, 193, 182, 189, 188, 190, 191, 183, 189, 189,\n",
       "       190, 188, 184, 194, 188, 194, 193, 186, 186, 188, 187, 191, 192,\n",
       "       196, 187, 187, 187, 192, 184, 189, 184, 185, 187, 202, 190, 185,\n",
       "       182, 188, 188, 195, 187, 183, 197, 188, 190, 193, 191, 187, 184,\n",
       "       183, 185, 193, 180, 191, 185, 188, 188, 186, 188, 188, 184, 186,\n",
       "       189, 193, 194, 183, 178, 184, 190, 183, 184, 188, 194, 190, 183,\n",
       "       194, 188, 180, 173, 187, 183, 184, 193, 188, 183, 190, 191, 199,\n",
       "       186, 198, 188, 189, 189, 185, 193, 191, 188, 185, 185, 188, 190,\n",
       "       180, 188, 184, 187, 183, 181, 179, 185, 182, 188, 188, 184, 196,\n",
       "       192, 187, 187, 193, 190, 189, 194, 188, 185, 193, 185, 193, 187,\n",
       "       196, 194, 198, 196, 188, 188, 195, 186, 190, 191, 188, 187, 188,\n",
       "       192, 199, 185, 190, 185, 188, 196, 188, 196, 185, 185, 188, 188,\n",
       "       179, 187, 190, 185, 198, 193, 193, 188, 188, 180, 183, 185, 185,\n",
       "       186, 186, 180, 184, 188, 185, 186, 183, 188, 193, 185, 181, 186,\n",
       "       189, 193, 188, 188, 193, 198, 182, 185, 181, 186, 188, 198, 190,\n",
       "       183, 184, 188, 191, 177, 193, 189, 187, 187, 193, 179, 184, 186,\n",
       "       190, 188, 191, 189, 197, 190, 180, 196, 193, 186, 189, 187, 185,\n",
       "       187, 178, 184, 187, 178, 196, 189, 188, 182, 183, 188, 191, 197,\n",
       "       187, 191, 193, 191, 185, 184, 193, 184, 196, 194, 193, 189, 186,\n",
       "       187, 193, 188, 185, 188, 183, 188, 189, 197, 183, 193, 190, 180,\n",
       "       185, 181, 179, 194, 187, 185, 186, 185, 191, 193, 191, 187, 193,\n",
       "       185, 191, 190, 188, 192, 180, 186, 183, 188, 191, 186, 186, 186,\n",
       "       186, 192, 190, 180, 183, 185, 184, 188, 184, 193, 190, 180, 187,\n",
       "       187, 185, 180, 188, 188, 195, 182, 191, 182, 195, 186, 192, 191,\n",
       "       188, 181, 182, 198, 185, 189, 198, 185, 192, 188, 185, 193, 184,\n",
       "       193, 185, 196, 188, 188, 185, 185, 185, 188, 196, 190, 189, 180,\n",
       "       191, 183, 201, 190, 178, 182, 190, 196, 188, 190, 192, 185, 192,\n",
       "       193, 193, 191, 180, 188, 183, 188, 183, 194, 185, 187, 184, 184,\n",
       "       196, 188, 186, 182, 195, 185, 183, 183, 189, 185, 183, 183, 193,\n",
       "       188, 187, 185, 185, 179, 183, 187, 183, 185, 189, 189, 180, 184,\n",
       "       185, 199, 192, 184, 183, 182, 187, 191, 190, 192, 190, 190, 186,\n",
       "       186, 186, 190, 181, 202, 195, 185, 191, 183, 184, 184, 189, 194,\n",
       "       188, 185, 194, 186, 188, 193, 193, 194, 185, 193, 185, 191, 197,\n",
       "       186, 185, 185, 185, 187, 183, 188, 185, 188, 190, 187, 191, 191,\n",
       "       192, 184, 194, 181, 189, 186, 190, 187, 187, 194, 184, 184, 193,\n",
       "       186, 189, 193, 188, 189, 193, 192, 190, 190, 188, 190, 191, 185,\n",
       "       184, 197, 188, 183, 191, 184, 194, 193, 187, 185, 189, 197, 194,\n",
       "       190, 195, 191, 187, 190, 185, 208, 192, 192, 185, 188, 195, 188,\n",
       "       194, 184, 185, 191, 183, 193, 191, 185, 185, 192, 186, 196, 181,\n",
       "       193, 188, 190, 188, 189, 186, 185, 188, 193, 195, 196, 192, 180,\n",
       "       187, 199, 197, 189, 183, 181, 191, 188, 185, 202, 186, 189, 190,\n",
       "       188, 188, 193, 187, 187, 193, 192, 186, 186, 196, 195, 189, 190,\n",
       "       186, 193, 188, 183, 183, 188, 192, 188, 192, 191, 191, 183, 193,\n",
       "       193, 192, 189, 190, 198, 193, 182, 185, 185, 190, 192, 185, 187,\n",
       "       190, 187, 184, 195, 194, 197, 187, 186, 189, 173, 190, 188, 203,\n",
       "       185, 194, 186, 175, 196, 180, 184, 192, 191, 185, 191, 196, 188,\n",
       "       187, 196, 191, 188, 182, 193, 185, 183, 192, 197, 181, 180, 191,\n",
       "       187, 185, 187, 187, 190, 191, 194, 190, 191, 191, 191, 181, 188,\n",
       "       196, 183, 193, 182, 186, 190, 189, 185, 180, 188, 193, 180, 185,\n",
       "       197, 178, 183, 191, 191, 187, 184, 193, 191, 188, 180, 177, 187,\n",
       "       178, 187, 180, 189, 189, 186, 198, 182, 187, 187, 185, 189, 195,\n",
       "       182, 198, 182, 190, 192, 180, 186, 184, 185, 190, 197, 190, 185,\n",
       "       193, 187, 197, 185, 189, 193, 185, 178, 188, 185, 188, 185, 185,\n",
       "       190, 179, 187, 193, 188, 181, 181, 183, 196, 187, 188, 185, 191,\n",
       "       180, 191, 185, 196, 188, 194, 191, 196, 193, 194, 185, 186, 185,\n",
       "       189, 194, 193, 180, 192, 187, 197, 189, 185, 185, 183, 193, 193,\n",
       "       183, 189, 186, 189, 187, 199, 184, 180, 199, 184, 184, 187, 197,\n",
       "       188, 187, 188, 188, 191, 188, 195, 185, 191, 186, 190, 187, 185,\n",
       "       188, 188, 196, 190, 185, 189, 195, 184, 198, 185, 185, 183, 185,\n",
       "       186, 193, 190, 191, 187, 174, 184, 190, 188, 190, 193, 186, 196,\n",
       "       183, 186, 187, 184, 186, 184, 188, 177, 196, 193, 193, 191, 188,\n",
       "       188, 188, 196, 188, 196, 194, 191, 191, 194, 180, 193, 185, 187,\n",
       "       193, 185, 182, 189, 188, 193, 193, 190, 185, 193, 183, 180, 191,\n",
       "       181, 190, 183, 193, 191, 188, 193, 185, 183, 185, 188, 186, 182,\n",
       "       185, 188, 188, 191, 188, 185, 194, 189, 191, 191, 192, 187, 188,\n",
       "       192, 191, 191, 184, 182, 194, 196], dtype=int64)"
      ]
     },
     "execution_count": 139,
     "metadata": {},
     "output_type": "execute_result"
    }
   ],
   "source": [
    "gk_heights = np_heights[np_positions == ' GK']\n",
    "gk_heights"
   ]
  },
  {
   "cell_type": "code",
   "execution_count": 140,
   "id": "4873b389",
   "metadata": {},
   "outputs": [],
   "source": [
    "other_heights = np_heights[np_positions != \" GK\" ]"
   ]
  },
  {
   "cell_type": "code",
   "execution_count": 146,
   "id": "71e3f4b7",
   "metadata": {},
   "outputs": [
    {
     "name": "stdout",
     "output_type": "stream",
     "text": [
      "Median height of goalkeepers:188.0\n",
      "Median height of other players:181.0\n"
     ]
    }
   ],
   "source": [
    "print(f\"Median height of goalkeepers:\\\n",
    "{np.median(gk_heights)}\")\n",
    "print(f\"Median height of other players:\\\n",
    "{np.median(other_heights)}\")            "
   ]
  },
  {
   "cell_type": "code",
   "execution_count": null,
   "id": "02c389a3",
   "metadata": {},
   "outputs": [],
   "source": []
  },
  {
   "cell_type": "code",
   "execution_count": 135,
   "id": "19e0ae41",
   "metadata": {},
   "outputs": [],
   "source": [
    "gk_heights = np_heights[np_positions == \" GK\"]"
   ]
  },
  {
   "cell_type": "code",
   "execution_count": 1,
   "id": "be813302",
   "metadata": {},
   "outputs": [
    {
     "data": {
      "text/html": [
       "<style>\n",
       "p {text-align: justify !important;\n",
       "    #color: OldLace;\n",
       "  line-height: 129%;}\n",
       "b { text-align: justify;\n",
       "    color: Cyan;} \n",
       "strong { color: LightGreen;\n",
       "       }\n",
       "mark { background-color: gainsboro;\n",
       "  color: crimson;\n",
       "  padding: 0 0.05em;\n",
       "  border: 1px solid #orange ;\n",
       "  border-radius: 2px;\n",
       "  font-weight: bold;}   \n",
       "ul {text-align: justify !important;\n",
       "    color: LightSkyBlue;}    \n",
       "i {text-align: justify !important;\n",
       "    color: DeepPink !important;}\n",
       "em {    text-align: justify;\n",
       "    color: Yellow;}\n",
       "dl {text-align: center !important;\n",
       "    background-color: lawngreen;#LightGreen;\n",
       "    padding: 1.5em 1.5em;\n",
       "    color: black;\n",
       "    font-weight: bold;}   \n",
       "href { text-aligne: center;\n",
       "    color: yellow;\n",
       "    font-weight: bold;}\n",
       "h1 { text-align: center !important;\n",
       "    color: orange;\n",
       " font-size: 40px !important;\n",
       " font-weight: bold !important;}\n",
       "h2 {text-align: center !important;\n",
       "     font-size: 36px !important;\n",
       "     font-weight: bold !important;}\n",
       "h3 { text-align: center !important;\n",
       "    font-size: 32px !important;\n",
       " font-weight: bold !important;}\n",
       "h4 { text-align: left !important;\n",
       "   font-size: 28px !important;}\n",
       "\n",
       "hr { border-top: 7px dotted DarkOrange; !important;\n",
       " #border: 2px solid Fuchsia;\n",
       " border-radius: 6px;}\n",
       "div {\n",
       "    color: Fuchsia;\n",
       "    font-weight: bold; !important;\n",
       "    }\n",
       "</style>\n"
      ],
      "text/plain": [
       "<IPython.core.display.HTML object>"
      ]
     },
     "metadata": {},
     "output_type": "display_data"
    }
   ],
   "source": [
    "%%html\n",
    "<style>\n",
    "p {text-align: justify !important;\n",
    "    #color: OldLace;\n",
    "  line-height: 129%;}\n",
    "b { text-align: justify;\n",
    "    color: Cyan;} \n",
    "strong { color: LightGreen;\n",
    "       }\n",
    "mark { background-color: gainsboro;\n",
    "  color: crimson;\n",
    "  padding: 0 0.05em;\n",
    "  border: 1px solid #orange ;\n",
    "  border-radius: 2px;\n",
    "  font-weight: bold;}   \n",
    "ul {text-align: justify !important;\n",
    "    color: LightSkyBlue;}    \n",
    "i {text-align: justify !important;\n",
    "    color: DeepPink !important;}\n",
    "em {    text-align: justify;\n",
    "    color: Yellow;}\n",
    "dl {text-align: center !important;\n",
    "    background-color: lawngreen;#LightGreen;\n",
    "    padding: 1.5em 1.5em;\n",
    "    color: black;\n",
    "    font-weight: bold;}   \n",
    "href { text-aligne: center;\n",
    "    color: yellow;\n",
    "    font-weight: bold;}\n",
    "h1 { text-align: center !important;\n",
    "    color: orange;\n",
    " font-size: 40px !important;\n",
    " font-weight: bold !important;}\n",
    "h2 {text-align: center !important;\n",
    "     font-size: 36px !important;\n",
    "     font-weight: bold !important;}\n",
    "h3 { text-align: center !important;\n",
    "    font-size: 32px !important;\n",
    " font-weight: bold !important;}\n",
    "h4 { text-align: left !important;\n",
    "   font-size: 28px !important;}\n",
    "\n",
    "hr { border-top: 7px dotted DarkOrange; !important;\n",
    " #border: 2px solid Fuchsia;\n",
    " border-radius: 6px;}\n",
    "div {\n",
    "    color: Fuchsia;\n",
    "    font-weight: bold; !important;\n",
    "    }\n",
    "</style>"
   ]
  }
 ],
 "metadata": {
  "kernelspec": {
   "display_name": "Python 3 (ipykernel)",
   "language": "python",
   "name": "python3"
  },
  "language_info": {
   "codemirror_mode": {
    "name": "ipython",
    "version": 3
   },
   "file_extension": ".py",
   "mimetype": "text/x-python",
   "name": "python",
   "nbconvert_exporter": "python",
   "pygments_lexer": "ipython3",
   "version": "3.10.8"
  }
 },
 "nbformat": 4,
 "nbformat_minor": 5
}

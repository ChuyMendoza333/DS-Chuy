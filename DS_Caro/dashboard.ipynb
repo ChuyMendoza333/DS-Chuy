{
 "cells": [
  {
   "cell_type": "code",
   "execution_count": 16,
   "id": "1a9f0e57",
   "metadata": {},
   "outputs": [],
   "source": [
    "# !pip install dash\n",
    "# !pip install dash-renderer\n",
    "# !pip install dash_html_components\n",
    "# !pip install dash_core_components"
   ]
  },
  {
   "cell_type": "code",
   "execution_count": 20,
   "id": "46aab760",
   "metadata": {},
   "outputs": [],
   "source": [
    "import dash\n",
    "import dash_core_components as dcc\n",
    "import dash_html_components as html"
   ]
  },
  {
   "cell_type": "code",
   "execution_count": 21,
   "id": "c740489c",
   "metadata": {},
   "outputs": [],
   "source": [
    "app = dash.Dash()"
   ]
  },
  {
   "cell_type": "code",
   "execution_count": 22,
   "id": "08c12847",
   "metadata": {},
   "outputs": [],
   "source": [
    "app.layout = html.Div([\n",
    "    html.H1('Hello Dash!!!'),\n",
    "    html.Div('Dash - A data product development framework from plotly')\n",
    "])"
   ]
  },
  {
   "cell_type": "code",
   "execution_count": 25,
   "id": "37033f17",
   "metadata": {},
   "outputs": [
    {
     "name": "stdout",
     "output_type": "stream",
     "text": [
      "Dash is running on http://127.0.0.1:3333/\n",
      "\n"
     ]
    }
   ],
   "source": [
    "if __name__ == '__main__':\n",
    "    app.run_server(port=3333)"
   ]
  },
  {
   "cell_type": "code",
   "execution_count": 27,
   "id": "187aa588",
   "metadata": {},
   "outputs": [
    {
     "name": "stdout",
     "output_type": "stream",
     "text": [
      "Collecting panel\n",
      "  Downloading panel-0.14.4-py2.py3-none-any.whl (20.8 MB)\n",
      "     ---------------------------------------- 20.8/20.8 MB 1.7 MB/s eta 0:00:00\n",
      "Collecting param>=1.12.0\n",
      "  Downloading param-1.13.0-py2.py3-none-any.whl (87 kB)\n",
      "     -------------------------------------- 87.3/87.3 kB 976.1 kB/s eta 0:00:00\n",
      "Requirement already satisfied: markdown in c:\\users\\mo_si\\.conda\\envs\\ds\\lib\\site-packages (from panel) (3.4.3)\n",
      "Requirement already satisfied: setuptools>=42 in c:\\users\\mo_si\\.conda\\envs\\ds\\lib\\site-packages (from panel) (65.5.0)\n",
      "Requirement already satisfied: tqdm>=4.48.0 in c:\\users\\mo_si\\.conda\\envs\\ds\\lib\\site-packages (from panel) (4.64.1)\n",
      "Requirement already satisfied: requests in c:\\users\\mo_si\\.conda\\envs\\ds\\lib\\site-packages (from panel) (2.28.1)\n",
      "Collecting pyviz-comms>=0.7.4\n",
      "  Downloading pyviz_comms-2.2.1-py2.py3-none-any.whl (42 kB)\n",
      "     -------------------------------------- 42.9/42.9 kB 693.9 kB/s eta 0:00:00\n",
      "Collecting bokeh<2.5.0,>=2.4.0\n",
      "  Downloading bokeh-2.4.3-py3-none-any.whl (18.5 MB)\n",
      "     ---------------------------------------- 18.5/18.5 MB 1.4 MB/s eta 0:00:00\n",
      "Requirement already satisfied: typing-extensions in c:\\users\\mo_si\\.conda\\envs\\ds\\lib\\site-packages (from panel) (4.4.0)\n",
      "Requirement already satisfied: bleach in c:\\users\\mo_si\\.conda\\envs\\ds\\lib\\site-packages (from panel) (4.1.0)\n",
      "Collecting pyct>=0.4.4\n",
      "  Downloading pyct-0.5.0-py2.py3-none-any.whl (15 kB)\n",
      "Requirement already satisfied: numpy>=1.11.3 in c:\\users\\mo_si\\.conda\\envs\\ds\\lib\\site-packages (from bokeh<2.5.0,>=2.4.0->panel) (1.23.5)\n",
      "Requirement already satisfied: packaging>=16.8 in c:\\users\\mo_si\\.conda\\envs\\ds\\lib\\site-packages (from bokeh<2.5.0,>=2.4.0->panel) (21.3)\n",
      "Requirement already satisfied: PyYAML>=3.10 in c:\\users\\mo_si\\.conda\\envs\\ds\\lib\\site-packages (from bokeh<2.5.0,>=2.4.0->panel) (6.0)\n",
      "Requirement already satisfied: tornado>=5.1 in c:\\users\\mo_si\\.conda\\envs\\ds\\lib\\site-packages (from bokeh<2.5.0,>=2.4.0->panel) (6.2)\n",
      "Requirement already satisfied: Jinja2>=2.9 in c:\\users\\mo_si\\.conda\\envs\\ds\\lib\\site-packages (from bokeh<2.5.0,>=2.4.0->panel) (3.1.2)\n",
      "Requirement already satisfied: pillow>=7.1.0 in c:\\users\\mo_si\\.conda\\envs\\ds\\lib\\site-packages (from bokeh<2.5.0,>=2.4.0->panel) (9.3.0)\n",
      "Requirement already satisfied: colorama in c:\\users\\mo_si\\.conda\\envs\\ds\\lib\\site-packages (from tqdm>=4.48.0->panel) (0.4.6)\n",
      "Requirement already satisfied: webencodings in c:\\users\\mo_si\\.conda\\envs\\ds\\lib\\site-packages (from bleach->panel) (0.5.1)\n",
      "Requirement already satisfied: six>=1.9.0 in c:\\users\\mo_si\\.conda\\envs\\ds\\lib\\site-packages (from bleach->panel) (1.16.0)\n",
      "Requirement already satisfied: idna<4,>=2.5 in c:\\users\\mo_si\\.conda\\envs\\ds\\lib\\site-packages (from requests->panel) (2.10)\n",
      "Requirement already satisfied: certifi>=2017.4.17 in c:\\users\\mo_si\\.conda\\envs\\ds\\lib\\site-packages (from requests->panel) (2022.9.24)\n",
      "Requirement already satisfied: charset-normalizer<3,>=2 in c:\\users\\mo_si\\.conda\\envs\\ds\\lib\\site-packages (from requests->panel) (2.1.1)\n",
      "Requirement already satisfied: urllib3<1.27,>=1.21.1 in c:\\users\\mo_si\\.conda\\envs\\ds\\lib\\site-packages (from requests->panel) (1.26.13)\n",
      "Requirement already satisfied: MarkupSafe>=2.0 in c:\\users\\mo_si\\.conda\\envs\\ds\\lib\\site-packages (from Jinja2>=2.9->bokeh<2.5.0,>=2.4.0->panel) (2.1.1)\n",
      "Requirement already satisfied: pyparsing!=3.0.5,>=2.0.2 in c:\\users\\mo_si\\.conda\\envs\\ds\\lib\\site-packages (from packaging>=16.8->bokeh<2.5.0,>=2.4.0->panel) (3.0.9)\n",
      "Installing collected packages: param, pyviz-comms, pyct, bokeh, panel\n",
      "Successfully installed bokeh-2.4.3 panel-0.14.4 param-1.13.0 pyct-0.5.0 pyviz-comms-2.2.1\n"
     ]
    }
   ],
   "source": [
    "!pip install panel"
   ]
  },
  {
   "cell_type": "code",
   "execution_count": 26,
   "id": "1197e88c",
   "metadata": {},
   "outputs": [
    {
     "ename": "ModuleNotFoundError",
     "evalue": "No module named 'panel'",
     "output_type": "error",
     "traceback": [
      "\u001b[1;31m---------------------------------------------------------------------------\u001b[0m",
      "\u001b[1;31mModuleNotFoundError\u001b[0m                       Traceback (most recent call last)",
      "Cell \u001b[1;32mIn [26], line 3\u001b[0m\n\u001b[0;32m      1\u001b[0m \u001b[38;5;28;01mimport\u001b[39;00m \u001b[38;5;21;01mpandas\u001b[39;00m \u001b[38;5;28;01mas\u001b[39;00m \u001b[38;5;21;01mpd\u001b[39;00m\n\u001b[0;32m      2\u001b[0m \u001b[38;5;28;01mimport\u001b[39;00m \u001b[38;5;21;01mplotly\u001b[39;00m\u001b[38;5;21;01m.\u001b[39;00m\u001b[38;5;21;01mexpress\u001b[39;00m \u001b[38;5;28;01mas\u001b[39;00m \u001b[38;5;21;01mpx\u001b[39;00m\n\u001b[1;32m----> 3\u001b[0m \u001b[38;5;28;01mimport\u001b[39;00m \u001b[38;5;21;01mpanel\u001b[39;00m \u001b[38;5;28;01mas\u001b[39;00m \u001b[38;5;21;01mpn\u001b[39;00m\n\u001b[0;32m      4\u001b[0m \u001b[38;5;28;01mimport\u001b[39;00m \u001b[38;5;21;01mpanel\u001b[39;00m\u001b[38;5;21;01m.\u001b[39;00m\u001b[38;5;21;01mwidgets\u001b[39;00m \u001b[38;5;28;01mas\u001b[39;00m \u001b[38;5;21;01mpnw\u001b[39;00m\n\u001b[0;32m      6\u001b[0m \u001b[38;5;66;03m# Cargar los datos de ejemplo\u001b[39;00m\n",
      "\u001b[1;31mModuleNotFoundError\u001b[0m: No module named 'panel'"
     ]
    }
   ],
   "source": [
    "import pandas as pd\n",
    "import plotly.express as px\n",
    "import panel as pn\n",
    "import panel.widgets as pnw\n",
    "\n",
    "# Cargar los datos de ejemplo\n",
    "df = pd.read_csv('https://raw.githubusercontent.com/plotly/datasets/master/iris.csv')\n",
    "\n",
    "# Crear una función que cree el gráfico utilizando Plotly Express\n",
    "def create_plot(x_column, y_column, color_column):\n",
    "    fig = px.scatter(df, x=x_column, y=y_column, color=color_column)\n",
    "    return fig\n",
    "\n",
    "# Crear widgets de Panel para seleccionar las columnas de datos\n",
    "x_column = pnw.Select(options=df.columns, name='X Axis')\n",
    "y_column = pnw.Select(options=df.columns, name='Y Axis')\n",
    "color_column = pnw.Select(options=df.columns, name='Color')\n",
    "\n",
    "# Crear una función de callback para actualizar el gráfico cuando se cambien los widgets de selección de columnas\n",
    "def update_plot(event):\n",
    "    plot_panel.object = create_plot(x_column.value, y_column.value, color_column.value)\n",
    "\n",
    "# Crear un panel que contenga el gráfico\n",
    "plot_panel = pn.pane.Plotly(create_plot('sepal_width', 'sepal_length', 'species'))\n",
    "\n",
    "# Asignar la función de callback a los widgets de selección de columnas\n",
    "x_column.param.watch(update_plot, 'value')\n",
    "y_column.param.watch(update_plot, 'value')\n",
    "color_column.param.watch(update_plot, 'value')\n",
    "\n",
    "# Crear un panel que contenga los widgets de selección de columnas\n",
    "controls = pn.Column(x_column, y_column, color_column)\n",
    "\n",
    "# Crear un panel que combine los widgets de selección de columnas y el panel de gráfico\n",
    "layout = pn.Row(controls, plot_panel)\n",
    "\n",
    "# Mostrar el panel\n",
    "layout.servable()\n"
   ]
  },
  {
   "cell_type": "code",
   "execution_count": null,
   "id": "d2eed822",
   "metadata": {},
   "outputs": [],
   "source": []
  },
  {
   "cell_type": "code",
   "execution_count": null,
   "id": "dc7f81da",
   "metadata": {},
   "outputs": [],
   "source": []
  },
  {
   "cell_type": "code",
   "execution_count": null,
   "id": "9183fb52",
   "metadata": {},
   "outputs": [],
   "source": []
  },
  {
   "cell_type": "code",
   "execution_count": 9,
   "id": "98bf249a",
   "metadata": {},
   "outputs": [],
   "source": [
    "# !pip install jupyter-dash --upgrade"
   ]
  },
  {
   "cell_type": "code",
   "execution_count": null,
   "id": "c76e4ce2",
   "metadata": {},
   "outputs": [],
   "source": []
  },
  {
   "cell_type": "code",
   "execution_count": null,
   "id": "32624f60",
   "metadata": {},
   "outputs": [],
   "source": []
  }
 ],
 "metadata": {
  "kernelspec": {
   "display_name": "Python 3 (ipykernel)",
   "language": "python",
   "name": "python3"
  },
  "language_info": {
   "codemirror_mode": {
    "name": "ipython",
    "version": 3
   },
   "file_extension": ".py",
   "mimetype": "text/x-python",
   "name": "python",
   "nbconvert_exporter": "python",
   "pygments_lexer": "ipython3",
   "version": "3.10.8"
  }
 },
 "nbformat": 4,
 "nbformat_minor": 5
}
